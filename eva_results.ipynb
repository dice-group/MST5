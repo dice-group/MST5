{
 "cells": [
  {
   "attachments": {},
   "cell_type": "markdown",
   "metadata": {},
   "source": [
    "# Evaluation Results"
   ]
  },
  {
   "attachments": {},
   "cell_type": "markdown",
   "metadata": {},
   "source": [
    "## Fine-tuned on pre-trained lcquad mt5 model"
   ]
  },
  {
   "attachments": {},
   "cell_type": "markdown",
   "metadata": {},
   "source": [
    "### all languages (12)\n",
    "\n",
    "en, de, zh, ja, ru, es, fr, hy, ba, be, uk, lt\n",
    "\n",
    "<!-- TODO: table -->\n",
    "\n"
   ]
  },
  {
   "attachments": {},
   "cell_type": "markdown",
   "metadata": {},
   "source": [
    "### no-en\n",
    "\n",
    "de, zh, ja, ru, es, fr, hy, ba, be, uk, lt\n",
    "\n",
    "<!-- TODO: table -->"
   ]
  },
  {
   "attachments": {},
   "cell_type": "markdown",
   "metadata": {},
   "source": [
    "### 5-shot \n",
    "\n",
    "en, de, zh, ru, es\n",
    "\n",
    "https://gerbil-qa.aksw.org/gerbil/experiment?id=202304030000\n",
    "202304030000 - 202304030008\n",
    "\n",
    "| language \t| Micro-F1 \t| Micro-Precision \t| Micro-Recall \t| Macro-F1 \t| Macro-Precision \t| Macro-Recall \t| Macro-F1 QALD \t|\n",
    "|----------\t|----------\t|-----------------\t|--------------\t|----------\t|-----------------\t|--------------\t|---------------\t|\n",
    "| en       \t| 0.0089   \t| 0.222           \t| 0.0045       \t| 0.1518   \t| 0.1582          \t| 0.15         \t| 0.2502        \t|\n",
    "| zh       \t| 0.0089   \t| 0.2244          \t| 0.0045       \t| 0.1222   \t| 0.1363          \t| 0.1183       \t| 0.2036        \t|\n",
    "| de       \t| 0.0088   \t| 0.1932          \t| 0.0045       \t| 0.1299   \t| 0.1363          \t| 0.1281       \t| 0.2173        \t|\n",
    "| fr       \t| 0.2601   \t| 0.5856          \t| 0.1672       \t| 0.2727   \t| 0.2892          \t| 0.2646       \t| 0.406         \t|\n",
    "| ja       \t| 0.0088   \t| 0.1944          \t| 0.0045       \t| 0.1146   \t| 0.1213          \t| 0.1129       \t| 0.1961        \t|\n",
    "| ru       \t| 0.9994   \t| 0.2104          \t| 0.0048       \t| 0.1416   \t| 0.1468          \t| 0.1425       \t| 0.2387        \t|\n",
    "| uk       \t| 0.0086   \t| 0.1532          \t| 0.0044       \t| 0.115    \t| 0.1215          \t| 0.1132       \t| 0.1944        \t|\n",
    "| hy       \t| 0.1444   \t| 0.3354          \t| 0.092        \t| 0.0834   \t| 0.1021          \t| 0.0749       \t| 0.1376        \t|\n",
    "| ba       \t| 0.004    \t| 0.3316          \t| 0.002        \t| 0.0897   \t| 0.0938          \t| 0.0887       \t| 0.1607        \t|\n",
    "| be       \t| 0.0086   \t| 0.1741          \t| 0.0044       \t| 0.1072   \t| 0.1137          \t| 0.1055       \t| 0.1839        \t|\n",
    "| lt       \t| 0.0091   \t| 0.1929          \t| 0.0047       \t| 0.0971   \t| 0.1097          \t| 0.0971       \t| 0.1729        \t|"
   ]
  },
  {
   "cell_type": "markdown",
   "metadata": {},
   "source": []
  }
 ],
 "metadata": {
  "language_info": {
   "name": "python"
  },
  "orig_nbformat": 4
 },
 "nbformat": 4,
 "nbformat_minor": 2
}
