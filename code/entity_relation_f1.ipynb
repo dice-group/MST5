{
 "cells": [
  {
   "cell_type": "markdown",
   "metadata": {},
   "source": [
    "# Calculate entity and relation F1 score"
   ]
  },
  {
   "cell_type": "code",
   "execution_count": 120,
   "metadata": {},
   "outputs": [],
   "source": [
    "from sklearn.metrics import f1_score\n",
    "import json\n",
    "import re\n",
    "import numpy as np\n",
    "import pandas as pd\n"
   ]
  },
  {
   "cell_type": "markdown",
   "metadata": {},
   "source": [
    "## Load and preprocess queries from ref dataset"
   ]
  },
  {
   "cell_type": "code",
   "execution_count": 151,
   "metadata": {},
   "outputs": [],
   "source": [
    "prefix_pattern = [\n",
    "    [r'<http://dbpedia.org/resource/(.*?)>\\.?', 'dbr:'],\n",
    "    [r'<http://dbpedia.org/property/(.*?)>\\.?', 'dbp:'],\n",
    "    [r'<http://dbpedia.org/ontology/(.*?)>\\.?', 'dbo:'],\n",
    "    [r'<http://dbpedia.org/class/yago/(.*?)>\\.?', 'yago:'],\n",
    "    [r'onto:(.*)', 'dbo:'],\n",
    "    [r'<http://www.wikidata.org/prop/direct/(.*?)>', 'wdt:'],\n",
    "    [r'<http://www.wikidata.org/entity/(.*?)>', 'wd:'],\n",
    "    [r'http://www.wikidata.org/prop/(.*?)', 'p:'],\n",
    "    [r'<http://www.w3.org/2000/01/rdf-schema#(.*?)', 'rdfs:']\n",
    "]\n",
    "\n",
    "def delete_sparql_prefix(sparql_query):\n",
    "    if \"prefix\" not in sparql_query.casefold():\n",
    "        return sparql_query\n",
    "    if \"ASK\" in sparql_query:\n",
    "        return \"ASK\" + sparql_query.split(\"ASK\", 1)[1]\n",
    "    return \"SELECT\" + sparql_query.split(\"SELECT\", 1)[1]\n",
    "\n",
    "\n",
    "def replace_prefix_abbr(sparql_query):\n",
    "    for pattern in prefix_pattern:\n",
    "        sparql_query = re.sub(pattern[0], pattern[1] + r'\\1', sparql_query)\n",
    "    sparql_query = re.sub(' +', ' ', sparql_query)\n",
    "    return sparql_query\n",
    "\n",
    "def read_dataset_in_lang(dataset, lang):\n",
    "    with open(dataset, \"r\") as f:\n",
    "        data = json.load(f)\n",
    "\n",
    "    questions_list = data[\"questions\"] \n",
    "    df = pd.DataFrame(columns=[\"id\", \"language\", \"question\", \"query\"])   \n",
    "    for question_dict in questions_list:\n",
    "        row = dict()\n",
    "        row[\"id\"] = question_dict[\"id\"]\n",
    "        row[\"language\"] = lang\n",
    "        for question in question_dict[\"question\"]:\n",
    "            if question[\"language\"] == lang:\n",
    "                row[\"question\"] = question[\"string\"]\n",
    "                row[\"query\"] = replace_prefix_abbr(delete_sparql_prefix(question_dict[\"query\"][\"sparql\"]))\n",
    "                row_df = pd.DataFrame(row, index=[row[\"id\"]])\n",
    "                df = pd.concat([df, row_df], axis=0, ignore_index=True)\n",
    "                break\n",
    "    return df\n",
    "\n",
    "def read_ref_pred(ref_dataset, pred_dataset, lang):\n",
    "    ref_df = read_dataset_in_lang(ref_dataset, lang)\n",
    "    pred_df = read_dataset_in_lang(pred_dataset, lang)\n",
    "    ref_df = ref_df.rename(columns={\"query\": \"query_ref\"})\n",
    "    pred_df = pred_df.rename(columns={\"query\": \"query_pred\"})\n",
    "    return ref_df.merge(pred_df, on=[\"id\", \"language\", \"question\"])\n"
   ]
  },
  {
   "cell_type": "code",
   "execution_count": 122,
   "metadata": {},
   "outputs": [
    {
     "data": {
      "text/plain": [
       "<bound method NDFrame.head of       id language                                           question  \\\n",
       "0     99       lt                  Kokia Solt Leik Sičio laiko zona?   \n",
       "1     98       lt                                 Kas nužudė Cezarį?   \n",
       "2     86       lt              Pats Aukščiausias kalnas Vokietijoje?   \n",
       "3     81       lt  Kurios valstijos gubernatorius yra Butchas Ott...   \n",
       "4     66       lt  Kurie aktoriai gimė tą pačią dieną kaip Rachel...   \n",
       "..   ...      ...                                                ...   \n",
       "121  101       lt            Kiek įmonių įkūrė „Facebook“ steigėjas?   \n",
       "122   87       lt              Kuri knyga turi daugiausiai puslapių?   \n",
       "123  148       lt                     Kokia didžiausia JAV valstija?   \n",
       "124   43       lt  Pasakyk man kompanijų svetaines su daugiau nei...   \n",
       "125  179       lt        Kokios buvo trys Kolumbo laivų pavadinimai?   \n",
       "\n",
       "                                             query_ref  \\\n",
       "0    SELECT DISTINCT ?o1 WHERE { wd:Q23337 wdt:P421...   \n",
       "1    SELECT DISTINCT ?o1 WHERE { wd:Q1048 wdt:P157 ...   \n",
       "2    SELECT ?uri WHERE { ?uri wdt:P31 wd:Q8502 ; wd...   \n",
       "3        SELECT ?res WHERE { ?res wdt:P6 wd:Q39593 . }   \n",
       "4     SELECT ?s WHERE { wd:Q241665 wdt:P569 ?date ....   \n",
       "..                                                 ...   \n",
       "121  SELECT ( COUNT( DISTINCT ?uri ) AS ?c ) WHERE ...   \n",
       "122  SELECT DISTINCT ?uri WHERE { ?uri wdt:P31/wdt:...   \n",
       "123  SELECT DISTINCT ?uri WHERE { ?uri wdt:P31 wd:Q...   \n",
       "124  SELECT DISTINCT ?string WHERE { ?uri wdt:P31/(...   \n",
       "125  SELECT DISTINCT ?uri WHERE { ?uri wdt:P31/wdt:...   \n",
       "\n",
       "                                            query_pred  \n",
       "0    SELECT DISTINCT ?res WHERE { wd:Q3392 wdt:P885...  \n",
       "1    SELECT DISTINCT ?uri WHERE { wd:Q9696 wdt:P20 ...  \n",
       "2    SELECT ?res WHERE { ?res wdt:P31 wd:Q8502 . ?r...  \n",
       "3    SELECT DISTINCT ?uri WHERE { wd:Q30971 wdt:P36...  \n",
       "4    SELECT DISTINCT ?uri WHERE { wd:Q241665 wdt:P5...  \n",
       "..                                                 ...  \n",
       "121     SELECT ?res WHERE { wd:Q380 wdt:P127 ?res . }   \n",
       "122  SELECT DISTINCT ?uri WHERE { ?uri wdt:P31 wd:Q...  \n",
       "123  SELECT ?uri WHERE { ?uri wdt:P31/wdt:P279* wd:...  \n",
       "124  SELECT DISTINCT ?uri WHERE { ?type wdt:P279* w...  \n",
       "125  SELECT DISTINCT ?uri WHERE { ?uri wdt:P31 wd:Q...  \n",
       "\n",
       "[126 rows x 5 columns]>"
      ]
     },
     "execution_count": 122,
     "metadata": {},
     "output_type": "execute_result"
    }
   ],
   "source": [
    "df = read_ref_pred(\"qald_9_plus_test_wikidata.json\", \"edrf_lt.json\", \"lt\")\n",
    "df.head"
   ]
  },
  {
   "cell_type": "markdown",
   "metadata": {},
   "source": [
    "## Calculate functions"
   ]
  },
  {
   "cell_type": "code",
   "execution_count": 123,
   "metadata": {},
   "outputs": [],
   "source": [
    "def collect_entities(query):\n",
    "    entity_list = re.findall(r'wd:[A-Z]*[0-9]*', query)\n",
    "    return entity_list\n"
   ]
  },
  {
   "cell_type": "code",
   "execution_count": 124,
   "metadata": {},
   "outputs": [
    {
     "data": {
      "text/plain": [
       "['wd:Q116', 'wd:Q183']"
      ]
     },
     "execution_count": 124,
     "metadata": {},
     "output_type": "execute_result"
    }
   ],
   "source": [
    "query = \"SELECT DISTINCT ?uri WHERE { ?uri wdt:P106 wd:Q116 ; wdt:P26 ?spouse . ?spouse wdt:P27 wd:Q183 . } \"\n",
    "entity_list = collect_entities(query)\n",
    "entity_list\n"
   ]
  },
  {
   "cell_type": "code",
   "execution_count": 125,
   "metadata": {},
   "outputs": [],
   "source": [
    "def collect_relations(query):\n",
    "    relation_list = re.findall(r'wdt:[A-Z]*[0-9]*', query)\n",
    "    return relation_list\n"
   ]
  },
  {
   "cell_type": "code",
   "execution_count": 126,
   "metadata": {},
   "outputs": [
    {
     "data": {
      "text/plain": [
       "['wdt:P106', 'wdt:P26', 'wdt:P27']"
      ]
     },
     "execution_count": 126,
     "metadata": {},
     "output_type": "execute_result"
    }
   ],
   "source": [
    "query = \"SELECT DISTINCT ?uri WHERE { ?uri wdt:P106 wd:Q116 ; wdt:P26 ?spouse . ?spouse wdt:P27 wd:Q183 . } \"\n",
    "relation_list = collect_relations(query)\n",
    "relation_list\n"
   ]
  },
  {
   "cell_type": "code",
   "execution_count": 127,
   "metadata": {},
   "outputs": [],
   "source": [
    "def calculate_f1(ref, pred):\n",
    "    max_length = max(len(ref), len(pred))\n",
    "    if len(ref) < max_length:\n",
    "        ref.extend([\"N/A_ref\" for i in range(max_length - len(ref))])\n",
    "    if len(pred) < max_length:\n",
    "        pred.extend([\"N/A_pred\" for i in range(max_length - len(pred))])\n",
    "    if ref == [] and pred == []:\n",
    "        ref, pred = [\"N/A_ref\"], [\"N/A_pred\"]\n",
    "    return f1_score(ref, pred, average=\"macro\")\n"
   ]
  },
  {
   "cell_type": "code",
   "execution_count": 135,
   "metadata": {},
   "outputs": [],
   "source": [
    "def collect_entity_relation_list(ref_dataset, pred_dataset, lang):\n",
    "    ref_pred_df = read_ref_pred(ref_dataset, pred_dataset, lang)\n",
    "\n",
    "    entity_list_ref = []\n",
    "    relation_list_ref = []\n",
    "\n",
    "    entity_list_pred = []\n",
    "    relation_list_pred = []\n",
    "\n",
    "    for i in range(len(ref_pred_df)):\n",
    "        query_ref = ref_pred_df.loc[i, \"query_ref\"]\n",
    "        query_pred = ref_pred_df.loc[i, \"query_pred\"]\n",
    "        \n",
    "        entity_list_ref.append(collect_entities(query_ref)) \n",
    "        relation_list_ref.append(collect_relations(query_ref))\n",
    "        entity_list_pred.append(collect_entities(query_pred))\n",
    "        relation_list_pred.append(collect_relations(query_pred))\n",
    "\n",
    "    return entity_list_ref, relation_list_ref, entity_list_pred, relation_list_pred"
   ]
  },
  {
   "cell_type": "code",
   "execution_count": 136,
   "metadata": {},
   "outputs": [],
   "source": [
    "def cal_entity_f1(entity_list_ref, entity_list_pred):\n",
    "    entity_f1_list = []\n",
    "\n",
    "    for i in range(len(entity_list_ref)):\n",
    "        entity_f1_list.append(calculate_f1(entity_list_ref[i], entity_list_pred[i]))\n",
    "\n",
    "    entity_f1_list = np.asarray(entity_f1_list)\n",
    "    entity_f1 = np.average(entity_f1_list)\n",
    "    return round(entity_f1, 3)\n",
    "\n",
    "def cal_relation_f1(relation_list_ref, relation_list_pred):\n",
    "    relation_f1_list = []\n",
    "\n",
    "    for i in range(len(relation_list_ref)):\n",
    "        relation_f1_list.append(calculate_f1(relation_list_ref[i], relation_list_pred[i]))\n",
    "\n",
    "    relation_f1_list = np.asarray(relation_f1_list)\n",
    "    relation_f1_list = np.nan_to_num(relation_f1_list)\n",
    "    relation_f1 = np.average(relation_f1_list)\n",
    "    return round(relation_f1, 3)"
   ]
  },
  {
   "cell_type": "markdown",
   "metadata": {},
   "source": [
    "## Calculate"
   ]
  },
  {
   "cell_type": "markdown",
   "metadata": {},
   "source": [
    "### edrf\n",
    "\n",
    "| pred_file | entity F1 | relation F1 |\n",
    "|-----------|-----------|-------------|\n",
    "| edrf_en   | 0.174     | 0.269       |\n",
    "| edrf_de   | 0.166     | 0.266       |\n",
    "| edrf_ru   | 0.174     | 0.305       |\n",
    "| edrf_lt   | 0.151     | 0.191       |"
   ]
  },
  {
   "cell_type": "markdown",
   "metadata": {},
   "source": [
    "#### edrf_en"
   ]
  },
  {
   "cell_type": "code",
   "execution_count": 137,
   "metadata": {},
   "outputs": [],
   "source": [
    "pred_dataset = \"edrf_en.json\"\n",
    "ref_dataset = \"qald_9_plus_test_wikidata.json\"\n",
    "entity_list_ref, relation_list_ref, entity_list_pred, relation_list_pred = collect_entity_relation_list(ref_dataset, pred_dataset, \"en\")"
   ]
  },
  {
   "cell_type": "code",
   "execution_count": 138,
   "metadata": {},
   "outputs": [
    {
     "data": {
      "text/plain": [
       "0.174"
      ]
     },
     "execution_count": 138,
     "metadata": {},
     "output_type": "execute_result"
    }
   ],
   "source": [
    "entity_f1 = cal_entity_f1(entity_list_ref, entity_list_pred)\n",
    "entity_f1"
   ]
  },
  {
   "cell_type": "code",
   "execution_count": 139,
   "metadata": {},
   "outputs": [
    {
     "data": {
      "text/plain": [
       "0.269"
      ]
     },
     "execution_count": 139,
     "metadata": {},
     "output_type": "execute_result"
    }
   ],
   "source": [
    "relation_f1 = cal_relation_f1(relation_list_ref, relation_list_pred)\n",
    "relation_f1"
   ]
  },
  {
   "cell_type": "markdown",
   "metadata": {},
   "source": [
    "#### edrf_de"
   ]
  },
  {
   "cell_type": "code",
   "execution_count": 140,
   "metadata": {},
   "outputs": [],
   "source": [
    "pred_dataset = \"edrf_de.json\"\n",
    "ref_dataset = \"qald_9_plus_test_wikidata.json\"\n",
    "entity_list_ref, relation_list_ref, entity_list_pred, relation_list_pred = collect_entity_relation_list(ref_dataset, pred_dataset, \"de\")"
   ]
  },
  {
   "cell_type": "code",
   "execution_count": 141,
   "metadata": {},
   "outputs": [
    {
     "data": {
      "text/plain": [
       "0.166"
      ]
     },
     "execution_count": 141,
     "metadata": {},
     "output_type": "execute_result"
    }
   ],
   "source": [
    "entity_f1 = cal_entity_f1(entity_list_ref, entity_list_pred)\n",
    "entity_f1"
   ]
  },
  {
   "cell_type": "code",
   "execution_count": 142,
   "metadata": {},
   "outputs": [
    {
     "data": {
      "text/plain": [
       "0.266"
      ]
     },
     "execution_count": 142,
     "metadata": {},
     "output_type": "execute_result"
    }
   ],
   "source": [
    "relation_f1 = cal_relation_f1(relation_list_ref, relation_list_pred)\n",
    "relation_f1"
   ]
  },
  {
   "cell_type": "markdown",
   "metadata": {},
   "source": [
    "#### edrf_ru"
   ]
  },
  {
   "cell_type": "code",
   "execution_count": 143,
   "metadata": {},
   "outputs": [],
   "source": [
    "pred_dataset = \"edrf_ru.json\"\n",
    "ref_dataset = \"qald_9_plus_test_wikidata.json\"\n",
    "entity_list_ref, relation_list_ref, entity_list_pred, relation_list_pred = collect_entity_relation_list(ref_dataset, pred_dataset,\"ru\")"
   ]
  },
  {
   "cell_type": "code",
   "execution_count": 144,
   "metadata": {},
   "outputs": [
    {
     "data": {
      "text/plain": [
       "0.174"
      ]
     },
     "execution_count": 144,
     "metadata": {},
     "output_type": "execute_result"
    }
   ],
   "source": [
    "entity_f1 = cal_entity_f1(entity_list_ref, entity_list_pred)\n",
    "entity_f1"
   ]
  },
  {
   "cell_type": "code",
   "execution_count": 145,
   "metadata": {},
   "outputs": [
    {
     "data": {
      "text/plain": [
       "0.305"
      ]
     },
     "execution_count": 145,
     "metadata": {},
     "output_type": "execute_result"
    }
   ],
   "source": [
    "relation_f1 = cal_relation_f1(relation_list_ref, relation_list_pred)\n",
    "relation_f1"
   ]
  },
  {
   "cell_type": "markdown",
   "metadata": {},
   "source": [
    "#### edrf_lt"
   ]
  },
  {
   "cell_type": "code",
   "execution_count": 146,
   "metadata": {},
   "outputs": [],
   "source": [
    "pred_dataset = \"edrf_lt.json\"\n",
    "ref_dataset = \"qald_9_plus_test_wikidata.json\"\n",
    "entity_list_ref, relation_list_ref, entity_list_pred, relation_list_pred = collect_entity_relation_list(ref_dataset, pred_dataset, \"lt\")"
   ]
  },
  {
   "cell_type": "code",
   "execution_count": 149,
   "metadata": {},
   "outputs": [
    {
     "data": {
      "text/plain": [
       "0.151"
      ]
     },
     "execution_count": 149,
     "metadata": {},
     "output_type": "execute_result"
    }
   ],
   "source": [
    "entity_f1 = cal_entity_f1(entity_list_ref, entity_list_pred)\n",
    "entity_f1"
   ]
  },
  {
   "cell_type": "code",
   "execution_count": 150,
   "metadata": {},
   "outputs": [
    {
     "data": {
      "text/plain": [
       "0.191"
      ]
     },
     "execution_count": 150,
     "metadata": {},
     "output_type": "execute_result"
    }
   ],
   "source": [
    "relation_f1 = cal_relation_f1(relation_list_ref, relation_list_pred)\n",
    "relation_f1"
   ]
  },
  {
   "cell_type": "markdown",
   "metadata": {},
   "source": [
    "### zero-shot\n",
    "\n",
    "| pred_file      | entity F1 | relation F1 |\n",
    "|----------------|-----------|-------------|\n",
    "| zero-shot_en   | 0.179     | 0.333       |\n",
    "| zero-shot_de   | 0.14      | 0.19        |\n",
    "| zero-shot_ru   | 0.09      | 0.229       |"
   ]
  },
  {
   "cell_type": "markdown",
   "metadata": {},
   "source": [
    "#### zero-shot en"
   ]
  },
  {
   "cell_type": "code",
   "execution_count": 43,
   "metadata": {},
   "outputs": [],
   "source": [
    "pred_dataset = \"zero-shot_en.json\"\n",
    "ref_dataset = \"qald_9_plus_test_wikidata.json\"\n",
    "entity_list_ref, relation_list_ref, entity_list_pred, relation_list_pred = collect_entity_relation_list(ref_dataset, pred_dataset)"
   ]
  },
  {
   "cell_type": "code",
   "execution_count": 44,
   "metadata": {},
   "outputs": [
    {
     "data": {
      "text/plain": [
       "0.179"
      ]
     },
     "execution_count": 44,
     "metadata": {},
     "output_type": "execute_result"
    }
   ],
   "source": [
    "entity_f1 = cal_entity_f1(entity_list_ref, entity_list_pred)\n",
    "entity_f1"
   ]
  },
  {
   "cell_type": "code",
   "execution_count": 45,
   "metadata": {},
   "outputs": [
    {
     "data": {
      "text/plain": [
       "0.333"
      ]
     },
     "execution_count": 45,
     "metadata": {},
     "output_type": "execute_result"
    }
   ],
   "source": [
    "relation_f1 = cal_relation_f1(relation_list_ref, relation_list_pred)\n",
    "relation_f1"
   ]
  },
  {
   "cell_type": "markdown",
   "metadata": {},
   "source": [
    "#### zero-shot de"
   ]
  },
  {
   "cell_type": "code",
   "execution_count": 49,
   "metadata": {},
   "outputs": [],
   "source": [
    "pred_dataset = \"zero-shot_de.json\"\n",
    "ref_dataset = \"qald_9_plus_test_wikidata.json\"\n",
    "entity_list_ref, relation_list_ref, entity_list_pred, relation_list_pred = collect_entity_relation_list(ref_dataset, pred_dataset)"
   ]
  },
  {
   "cell_type": "code",
   "execution_count": 50,
   "metadata": {},
   "outputs": [
    {
     "data": {
      "text/plain": [
       "0.14"
      ]
     },
     "execution_count": 50,
     "metadata": {},
     "output_type": "execute_result"
    }
   ],
   "source": [
    "entity_f1 = cal_entity_f1(entity_list_ref, entity_list_pred)\n",
    "entity_f1"
   ]
  },
  {
   "cell_type": "code",
   "execution_count": 51,
   "metadata": {},
   "outputs": [
    {
     "data": {
      "text/plain": [
       "0.19"
      ]
     },
     "execution_count": 51,
     "metadata": {},
     "output_type": "execute_result"
    }
   ],
   "source": [
    "relation_f1 = cal_relation_f1(relation_list_ref, relation_list_pred)\n",
    "relation_f1"
   ]
  },
  {
   "cell_type": "markdown",
   "metadata": {},
   "source": [
    "#### zero-shot ru"
   ]
  },
  {
   "cell_type": "code",
   "execution_count": 52,
   "metadata": {},
   "outputs": [],
   "source": [
    "pred_dataset = \"zero-shot_ru.json\"\n",
    "ref_dataset = \"qald_9_plus_test_wikidata.json\"\n",
    "entity_list_ref, relation_list_ref, entity_list_pred, relation_list_pred = collect_entity_relation_list(ref_dataset, pred_dataset)"
   ]
  },
  {
   "cell_type": "code",
   "execution_count": 53,
   "metadata": {},
   "outputs": [
    {
     "data": {
      "text/plain": [
       "0.09"
      ]
     },
     "execution_count": 53,
     "metadata": {},
     "output_type": "execute_result"
    }
   ],
   "source": [
    "entity_f1 = cal_entity_f1(entity_list_ref, entity_list_pred)\n",
    "entity_f1"
   ]
  },
  {
   "cell_type": "code",
   "execution_count": 54,
   "metadata": {},
   "outputs": [
    {
     "data": {
      "text/plain": [
       "0.229"
      ]
     },
     "execution_count": 54,
     "metadata": {},
     "output_type": "execute_result"
    }
   ],
   "source": [
    "relation_f1 = cal_relation_f1(relation_list_ref, relation_list_pred)\n",
    "relation_f1"
   ]
  },
  {
   "cell_type": "code",
   "execution_count": null,
   "metadata": {},
   "outputs": [],
   "source": []
  }
 ],
 "metadata": {
  "kernelspec": {
   "display_name": "mengshi",
   "language": "python",
   "name": "python3"
  },
  "language_info": {
   "codemirror_mode": {
    "name": "ipython",
    "version": 3
   },
   "file_extension": ".py",
   "mimetype": "text/x-python",
   "name": "python",
   "nbconvert_exporter": "python",
   "pygments_lexer": "ipython3",
   "version": "3.9.13 (main, Oct 13 2022, 21:15:33) \n[GCC 11.2.0]"
  },
  "orig_nbformat": 4,
  "vscode": {
   "interpreter": {
    "hash": "831f47b340cd9142d044ce7606dedd31def08d9bf4dbb095e8657e50ac098d96"
   }
  }
 },
 "nbformat": 4,
 "nbformat_minor": 2
}
