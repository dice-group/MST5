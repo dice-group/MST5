{
 "cells": [
  {
   "cell_type": "code",
   "execution_count": 1,
   "metadata": {},
   "outputs": [],
   "source": [
    "from utils.gerbil import Gerbil"
   ]
  },
  {
   "cell_type": "code",
   "execution_count": 2,
   "metadata": {},
   "outputs": [],
   "source": [
    "gerbil = Gerbil()"
   ]
  },
  {
   "cell_type": "code",
   "execution_count": 3,
   "metadata": {},
   "outputs": [],
   "source": [
    "gerbil.add_ref_file(\"qald-9-pp\", \"../datasets/qald9plus/qald_9_pp_test_wikidata.json\")"
   ]
  },
  {
   "cell_type": "code",
   "execution_count": 4,
   "metadata": {},
   "outputs": [],
   "source": [
    "gerbil.add_pred_file(\"en-mt5-xl-lcquad\", \"../pred_files/qald-9-plus/en.json\", \"en\")\n",
    "gerbil.add_pred_file(\"zh-mt5-xl-lcquad\", \"../pred_files/qald-9-plus/zh.json\", \"zh\")"
   ]
  },
  {
   "cell_type": "code",
   "execution_count": 5,
   "metadata": {},
   "outputs": [
    {
     "name": "stdout",
     "output_type": "stream",
     "text": [
      "Upload {'files[]': ('../datasets/qald9plus/qald_9_pp_test_wikidata.json', <_io.BytesIO object at 0x7f0141feef90>, 'application/json')} successfully\n",
      "Upload {'files[]': ('../pred_files/qald-9-plus/zh.json', <_io.BytesIO object at 0x7f01492323b0>, 'application/json')} successfully\n",
      "GERBIL experiment is submitted successfully\n",
      "Experiment id: 202306200011\n"
     ]
    },
    {
     "data": {
      "text/plain": [
       "<Response [200]>"
      ]
     },
     "execution_count": 5,
     "metadata": {},
     "output_type": "execute_result"
    }
   ],
   "source": [
    "gerbil.submit_experiment()"
   ]
  },
  {
   "cell_type": "code",
   "execution_count": 6,
   "metadata": {},
   "outputs": [
    {
     "name": "stdout",
     "output_type": "stream",
     "text": [
      "The experiment is still running.\n",
      "The experiment is still running.\n",
      "Experiment results is saved to ../pred_files/qald-9-plus/test.csv\n"
     ]
    }
   ],
   "source": [
    "gerbil.export_results(\"../pred_files/qald-9-plus/test.csv\")"
   ]
  },
  {
   "cell_type": "markdown",
   "metadata": {},
   "source": [
    "curl 'https://gerbil-qa.aksw.org/gerbil/file/upload' \\\n",
    "  -H 'Accept: application/json, text/javascript, */*; q=0.01' \\\n",
    "  -H 'Accept-Language: en-US,en;q=0.9,zh-CN;q=0.8,zh-TW;q=0.7,zh;q=0.6,ja;q=0.5' \\\n",
    "  -H 'Connection: keep-alive' \\\n",
    "  -H 'Content-Type: multipart/form-data; boundary=----WebKitFormBoundaryBbipJCvvqkGEBh6H' \\\n",
    "  -H 'Cookie: JSESSIONID=95939E4A9280DC982C1C75A437081F29' \\\n",
    "  -H 'Origin: https://gerbil-qa.aksw.org' \\\n",
    "  -H 'Referer: https://gerbil-qa.aksw.org/gerbil/config' \\\n",
    "  -H 'Sec-Fetch-Dest: empty' \\\n",
    "  -H 'Sec-Fetch-Mode: cors' \\\n",
    "  -H 'Sec-Fetch-Site: same-origin' \\\n",
    "  -H 'User-Agent: Mozilla/5.0 (Macintosh; Intel Mac OS X 10_15_7) AppleWebKit/537.36 (KHTML, like Gecko) Chrome/113.0.0.0 Safari/537.36 Edg/113.0.1774.57' \\\n",
    "  -H 'X-Requested-With: XMLHttpRequest' \\\n",
    "  -H 'sec-ch-ua: \"Microsoft Edge\";v=\"113\", \"Chromium\";v=\"113\", \"Not-A.Brand\";v=\"24\"' \\\n",
    "  -H 'sec-ch-ua-mobile: ?0' \\\n",
    "  -H 'sec-ch-ua-platform: \"macOS\"' \\\n",
    "  --data-raw $'------WebKitFormBoundaryBbipJCvvqkGEBh6H\\r\\nContent-Disposition: form-data; name=\"name\"\\r\\n\\r\\nqald-9-pp\\r\\n------WebKitFormBoundaryBbipJCvvqkGEBh6H\\r\\nContent-Disposition: form-data; name=\"name\"\\r\\n\\r\\n\\r\\n------WebKitFormBoundaryBbipJCvvqkGEBh6H\\r\\nContent-Disposition: form-data; name=\"URI\"\\r\\n\\r\\n\\r\\n------WebKitFormBoundaryBbipJCvvqkGEBh6H\\r\\nContent-Disposition: form-data; name=\"name\"\\r\\n\\r\\n\\r\\n------WebKitFormBoundaryBbipJCvvqkGEBh6H\\r\\nContent-Disposition: form-data; name=\"multiselect\"\\r\\n\\r\\nDBpedia Entity INEX\\r\\n------WebKitFormBoundaryBbipJCvvqkGEBh6H\\r\\nContent-Disposition: form-data; name=\"qlang\"\\r\\n\\r\\n\\r\\n------WebKitFormBoundaryBbipJCvvqkGEBh6H\\r\\nContent-Disposition: form-data; name=\"files[]\"; filename=\"qald_9_pp_test_wikidata.json\"\\r\\nContent-Type: application/json\\r\\n\\r\\n\\r\\n------WebKitFormBoundaryBbipJCvvqkGEBh6H--\\r\\n' \\\n",
    "  --compressed"
   ]
  }
 ],
 "metadata": {
  "kernelspec": {
   "display_name": "mengshi",
   "language": "python",
   "name": "python3"
  },
  "language_info": {
   "codemirror_mode": {
    "name": "ipython",
    "version": 3
   },
   "file_extension": ".py",
   "mimetype": "text/x-python",
   "name": "python",
   "nbconvert_exporter": "python",
   "pygments_lexer": "ipython3",
   "version": "3.9.0"
  },
  "orig_nbformat": 4
 },
 "nbformat": 4,
 "nbformat_minor": 2
}
