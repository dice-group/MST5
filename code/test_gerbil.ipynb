{
 "cells": [
  {
   "cell_type": "code",
   "execution_count": 1,
   "metadata": {},
   "outputs": [],
   "source": [
    "from utils.gerbil import Gerbil"
   ]
  },
  {
   "cell_type": "code",
   "execution_count": 2,
   "metadata": {},
   "outputs": [],
   "source": [
    "gerbil = Gerbil()"
   ]
  },
  {
   "cell_type": "code",
   "execution_count": 3,
   "metadata": {},
   "outputs": [],
   "source": [
    "gerbil.add_ref_file(\"qald-9-pp\", \"../datasets/qald9plus/qald_9_pp_test_wikidata.json\")"
   ]
  },
  {
   "cell_type": "code",
   "execution_count": 4,
   "metadata": {},
   "outputs": [],
   "source": [
    "gerbil.add_pred_file(\"en-mt5-xl-lcquad\", \"../pred_files/qald-9-plus/en.json\", \"en\")"
   ]
  },
  {
   "cell_type": "code",
   "execution_count": 5,
   "metadata": {},
   "outputs": [
    {
     "name": "stdout",
     "output_type": "stream",
     "text": [
      "Upload {'files[]': ('../datasets/qald9plus/qald_9_pp_test_wikidata.json', <_io.BytesIO object at 0x7fbc5f08ef40>)} successfully\n",
      "Upload {'files[]': ('../pred_files/qald-9-plus/en.json', <_io.BytesIO object at 0x7fbd302d47c0>)} successfully\n",
      "GERBIL experiment is submitted successfully\n",
      "Experiment id: 202306200004\n"
     ]
    },
    {
     "data": {
      "text/plain": [
       "<Response [200]>"
      ]
     },
     "execution_count": 5,
     "metadata": {},
     "output_type": "execute_result"
    }
   ],
   "source": [
    "gerbil.submit_experiment()"
   ]
  },
  {
   "cell_type": "code",
   "execution_count": 6,
   "metadata": {},
   "outputs": [
    {
     "name": "stdout",
     "output_type": "stream",
     "text": [
      "The experiment is still running.\n"
     ]
    },
    {
     "ename": "KeyError",
     "evalue": "\"['avg millis/doc'] not found in axis\"",
     "output_type": "error",
     "traceback": [
      "\u001b[0;31m---------------------------------------------------------------------------\u001b[0m",
      "\u001b[0;31mKeyError\u001b[0m                                  Traceback (most recent call last)",
      "Cell \u001b[0;32mIn[6], line 1\u001b[0m\n\u001b[0;32m----> 1\u001b[0m gerbil\u001b[39m.\u001b[39;49mrun_and_export_results(\u001b[39m\"\u001b[39;49m\u001b[39m../pred_files/qald-9-plus/test.csv\u001b[39;49m\u001b[39m\"\u001b[39;49m)\n",
      "File \u001b[0;32m/local/upb/users/m/mengshim/profiles/unix/cs/MasterThesis_Mengshi/code/utils/gerbil.py:151\u001b[0m, in \u001b[0;36mGerbil.run_and_export_results\u001b[0;34m(self, output_file, max_retry)\u001b[0m\n\u001b[1;32m    149\u001b[0m gerbil_html \u001b[39m=\u001b[39m \u001b[39mself\u001b[39m\u001b[39m.\u001b[39mget_experiment_results(max_retry)\n\u001b[1;32m    150\u001b[0m \u001b[39mif\u001b[39;00m gerbil_html:\n\u001b[0;32m--> 151\u001b[0m     gerbil_results_table \u001b[39m=\u001b[39m \u001b[39mself\u001b[39;49m\u001b[39m.\u001b[39;49mclean_gerbil_table(gerbil_html)\n\u001b[1;32m    152\u001b[0m     gerbil_results_table\u001b[39m.\u001b[39mto_csv(output_file, index\u001b[39m=\u001b[39m\u001b[39mFalse\u001b[39;00m)\n\u001b[1;32m    153\u001b[0m     \u001b[39mprint\u001b[39m(\u001b[39m\"\u001b[39m\u001b[39mExperiment results is saved to \u001b[39m\u001b[39m\"\u001b[39m \u001b[39m+\u001b[39m output_file)\n",
      "File \u001b[0;32m/local/upb/users/m/mengshim/profiles/unix/cs/MasterThesis_Mengshi/code/utils/gerbil.py:190\u001b[0m, in \u001b[0;36mGerbil.clean_gerbil_table\u001b[0;34m(self, html)\u001b[0m\n\u001b[1;32m    188\u001b[0m     language \u001b[39m=\u001b[39m row[\u001b[39m\"\u001b[39m\u001b[39mAnnotator\u001b[39m\u001b[39m\"\u001b[39m][\u001b[39m-\u001b[39m\u001b[39m13\u001b[39m:\u001b[39m-\u001b[39m\u001b[39m11\u001b[39m]\n\u001b[1;32m    189\u001b[0m     html\u001b[39m.\u001b[39mat[index, \u001b[39m\"\u001b[39m\u001b[39mLanguage\u001b[39m\u001b[39m\"\u001b[39m] \u001b[39m=\u001b[39m language\n\u001b[0;32m--> 190\u001b[0m html \u001b[39m=\u001b[39m \u001b[39mself\u001b[39;49m\u001b[39m.\u001b[39;49mdrop_unnecessary_columns(html)\n\u001b[1;32m    191\u001b[0m \u001b[39mreturn\u001b[39;00m html\n",
      "File \u001b[0;32m/local/upb/users/m/mengshim/profiles/unix/cs/MasterThesis_Mengshi/code/utils/gerbil.py:194\u001b[0m, in \u001b[0;36mGerbil.drop_unnecessary_columns\u001b[0;34m(self, html)\u001b[0m\n\u001b[1;32m    193\u001b[0m \u001b[39mdef\u001b[39;00m \u001b[39mdrop_unnecessary_columns\u001b[39m(\u001b[39mself\u001b[39m, html):\n\u001b[0;32m--> 194\u001b[0m     \u001b[39mreturn\u001b[39;00m html\u001b[39m.\u001b[39;49mdrop(\n\u001b[1;32m    195\u001b[0m         columns\u001b[39m=\u001b[39;49m[\n\u001b[1;32m    196\u001b[0m             \u001b[39m'\u001b[39;49m\u001b[39mDataset\u001b[39;49m\u001b[39m'\u001b[39;49m,\n\u001b[1;32m    197\u001b[0m             \u001b[39m'\u001b[39;49m\u001b[39mAnnotator\u001b[39;49m\u001b[39m'\u001b[39;49m,\n\u001b[1;32m    198\u001b[0m             \u001b[39m'\u001b[39;49m\u001b[39mError Count\u001b[39;49m\u001b[39m'\u001b[39;49m,\n\u001b[1;32m    199\u001b[0m             \u001b[39m'\u001b[39;49m\u001b[39mavg millis/doc\u001b[39;49m\u001b[39m'\u001b[39;49m,\n\u001b[1;32m    200\u001b[0m             \u001b[39m'\u001b[39;49m\u001b[39mTimestamp\u001b[39;49m\u001b[39m'\u001b[39;49m,\n\u001b[1;32m    201\u001b[0m             \u001b[39m'\u001b[39;49m\u001b[39mGERBIL version\u001b[39;49m\u001b[39m'\u001b[39;49m,\n\u001b[1;32m    202\u001b[0m         ]\n\u001b[1;32m    203\u001b[0m     )\n",
      "File \u001b[0;32m~/miniconda3/envs/mengshi/lib/python3.9/site-packages/pandas/core/frame.py:5258\u001b[0m, in \u001b[0;36mDataFrame.drop\u001b[0;34m(self, labels, axis, index, columns, level, inplace, errors)\u001b[0m\n\u001b[1;32m   5110\u001b[0m \u001b[39mdef\u001b[39;00m \u001b[39mdrop\u001b[39m(\n\u001b[1;32m   5111\u001b[0m     \u001b[39mself\u001b[39m,\n\u001b[1;32m   5112\u001b[0m     labels: IndexLabel \u001b[39m=\u001b[39m \u001b[39mNone\u001b[39;00m,\n\u001b[0;32m   (...)\u001b[0m\n\u001b[1;32m   5119\u001b[0m     errors: IgnoreRaise \u001b[39m=\u001b[39m \u001b[39m\"\u001b[39m\u001b[39mraise\u001b[39m\u001b[39m\"\u001b[39m,\n\u001b[1;32m   5120\u001b[0m ) \u001b[39m-\u001b[39m\u001b[39m>\u001b[39m DataFrame \u001b[39m|\u001b[39m \u001b[39mNone\u001b[39;00m:\n\u001b[1;32m   5121\u001b[0m \u001b[39m    \u001b[39m\u001b[39m\"\"\"\u001b[39;00m\n\u001b[1;32m   5122\u001b[0m \u001b[39m    Drop specified labels from rows or columns.\u001b[39;00m\n\u001b[1;32m   5123\u001b[0m \n\u001b[0;32m   (...)\u001b[0m\n\u001b[1;32m   5256\u001b[0m \u001b[39m            weight  1.0     0.8\u001b[39;00m\n\u001b[1;32m   5257\u001b[0m \u001b[39m    \"\"\"\u001b[39;00m\n\u001b[0;32m-> 5258\u001b[0m     \u001b[39mreturn\u001b[39;00m \u001b[39msuper\u001b[39;49m()\u001b[39m.\u001b[39;49mdrop(\n\u001b[1;32m   5259\u001b[0m         labels\u001b[39m=\u001b[39;49mlabels,\n\u001b[1;32m   5260\u001b[0m         axis\u001b[39m=\u001b[39;49maxis,\n\u001b[1;32m   5261\u001b[0m         index\u001b[39m=\u001b[39;49mindex,\n\u001b[1;32m   5262\u001b[0m         columns\u001b[39m=\u001b[39;49mcolumns,\n\u001b[1;32m   5263\u001b[0m         level\u001b[39m=\u001b[39;49mlevel,\n\u001b[1;32m   5264\u001b[0m         inplace\u001b[39m=\u001b[39;49minplace,\n\u001b[1;32m   5265\u001b[0m         errors\u001b[39m=\u001b[39;49merrors,\n\u001b[1;32m   5266\u001b[0m     )\n",
      "File \u001b[0;32m~/miniconda3/envs/mengshi/lib/python3.9/site-packages/pandas/core/generic.py:4549\u001b[0m, in \u001b[0;36mNDFrame.drop\u001b[0;34m(self, labels, axis, index, columns, level, inplace, errors)\u001b[0m\n\u001b[1;32m   4547\u001b[0m \u001b[39mfor\u001b[39;00m axis, labels \u001b[39min\u001b[39;00m axes\u001b[39m.\u001b[39mitems():\n\u001b[1;32m   4548\u001b[0m     \u001b[39mif\u001b[39;00m labels \u001b[39mis\u001b[39;00m \u001b[39mnot\u001b[39;00m \u001b[39mNone\u001b[39;00m:\n\u001b[0;32m-> 4549\u001b[0m         obj \u001b[39m=\u001b[39m obj\u001b[39m.\u001b[39;49m_drop_axis(labels, axis, level\u001b[39m=\u001b[39;49mlevel, errors\u001b[39m=\u001b[39;49merrors)\n\u001b[1;32m   4551\u001b[0m \u001b[39mif\u001b[39;00m inplace:\n\u001b[1;32m   4552\u001b[0m     \u001b[39mself\u001b[39m\u001b[39m.\u001b[39m_update_inplace(obj)\n",
      "File \u001b[0;32m~/miniconda3/envs/mengshi/lib/python3.9/site-packages/pandas/core/generic.py:4591\u001b[0m, in \u001b[0;36mNDFrame._drop_axis\u001b[0;34m(self, labels, axis, level, errors, only_slice)\u001b[0m\n\u001b[1;32m   4589\u001b[0m         new_axis \u001b[39m=\u001b[39m axis\u001b[39m.\u001b[39mdrop(labels, level\u001b[39m=\u001b[39mlevel, errors\u001b[39m=\u001b[39merrors)\n\u001b[1;32m   4590\u001b[0m     \u001b[39melse\u001b[39;00m:\n\u001b[0;32m-> 4591\u001b[0m         new_axis \u001b[39m=\u001b[39m axis\u001b[39m.\u001b[39;49mdrop(labels, errors\u001b[39m=\u001b[39;49merrors)\n\u001b[1;32m   4592\u001b[0m     indexer \u001b[39m=\u001b[39m axis\u001b[39m.\u001b[39mget_indexer(new_axis)\n\u001b[1;32m   4594\u001b[0m \u001b[39m# Case for non-unique axis\u001b[39;00m\n\u001b[1;32m   4595\u001b[0m \u001b[39melse\u001b[39;00m:\n",
      "File \u001b[0;32m~/miniconda3/envs/mengshi/lib/python3.9/site-packages/pandas/core/indexes/base.py:6696\u001b[0m, in \u001b[0;36mIndex.drop\u001b[0;34m(self, labels, errors)\u001b[0m\n\u001b[1;32m   6694\u001b[0m \u001b[39mif\u001b[39;00m mask\u001b[39m.\u001b[39many():\n\u001b[1;32m   6695\u001b[0m     \u001b[39mif\u001b[39;00m errors \u001b[39m!=\u001b[39m \u001b[39m\"\u001b[39m\u001b[39mignore\u001b[39m\u001b[39m\"\u001b[39m:\n\u001b[0;32m-> 6696\u001b[0m         \u001b[39mraise\u001b[39;00m \u001b[39mKeyError\u001b[39;00m(\u001b[39mf\u001b[39m\u001b[39m\"\u001b[39m\u001b[39m{\u001b[39;00m\u001b[39mlist\u001b[39m(labels[mask])\u001b[39m}\u001b[39;00m\u001b[39m not found in axis\u001b[39m\u001b[39m\"\u001b[39m)\n\u001b[1;32m   6697\u001b[0m     indexer \u001b[39m=\u001b[39m indexer[\u001b[39m~\u001b[39mmask]\n\u001b[1;32m   6698\u001b[0m \u001b[39mreturn\u001b[39;00m \u001b[39mself\u001b[39m\u001b[39m.\u001b[39mdelete(indexer)\n",
      "\u001b[0;31mKeyError\u001b[0m: \"['avg millis/doc'] not found in axis\""
     ]
    }
   ],
   "source": [
    "gerbil.run_and_export_results(\"../pred_files/qald-9-plus/test.csv\")"
   ]
  },
  {
   "cell_type": "code",
   "execution_count": null,
   "metadata": {},
   "outputs": [],
   "source": [
    "curl 'https://gerbil-qa.aksw.org/gerbil/file/upload' \\\n",
    "  -H 'Accept: application/json, text/javascript, */*; q=0.01' \\\n",
    "  -H 'Accept-Language: en-US,en;q=0.9,zh-CN;q=0.8,zh-TW;q=0.7,zh;q=0.6,ja;q=0.5' \\\n",
    "  -H 'Connection: keep-alive' \\\n",
    "  -H 'Content-Type: multipart/form-data; boundary=----WebKitFormBoundaryBbipJCvvqkGEBh6H' \\\n",
    "  -H 'Cookie: JSESSIONID=95939E4A9280DC982C1C75A437081F29' \\\n",
    "  -H 'Origin: https://gerbil-qa.aksw.org' \\\n",
    "  -H 'Referer: https://gerbil-qa.aksw.org/gerbil/config' \\\n",
    "  -H 'Sec-Fetch-Dest: empty' \\\n",
    "  -H 'Sec-Fetch-Mode: cors' \\\n",
    "  -H 'Sec-Fetch-Site: same-origin' \\\n",
    "  -H 'User-Agent: Mozilla/5.0 (Macintosh; Intel Mac OS X 10_15_7) AppleWebKit/537.36 (KHTML, like Gecko) Chrome/113.0.0.0 Safari/537.36 Edg/113.0.1774.57' \\\n",
    "  -H 'X-Requested-With: XMLHttpRequest' \\\n",
    "  -H 'sec-ch-ua: \"Microsoft Edge\";v=\"113\", \"Chromium\";v=\"113\", \"Not-A.Brand\";v=\"24\"' \\\n",
    "  -H 'sec-ch-ua-mobile: ?0' \\\n",
    "  -H 'sec-ch-ua-platform: \"macOS\"' \\\n",
    "  --data-raw $'------WebKitFormBoundaryBbipJCvvqkGEBh6H\\r\\nContent-Disposition: form-data; name=\"name\"\\r\\n\\r\\nqald-9-pp\\r\\n------WebKitFormBoundaryBbipJCvvqkGEBh6H\\r\\nContent-Disposition: form-data; name=\"name\"\\r\\n\\r\\n\\r\\n------WebKitFormBoundaryBbipJCvvqkGEBh6H\\r\\nContent-Disposition: form-data; name=\"URI\"\\r\\n\\r\\n\\r\\n------WebKitFormBoundaryBbipJCvvqkGEBh6H\\r\\nContent-Disposition: form-data; name=\"name\"\\r\\n\\r\\n\\r\\n------WebKitFormBoundaryBbipJCvvqkGEBh6H\\r\\nContent-Disposition: form-data; name=\"multiselect\"\\r\\n\\r\\nDBpedia Entity INEX\\r\\n------WebKitFormBoundaryBbipJCvvqkGEBh6H\\r\\nContent-Disposition: form-data; name=\"qlang\"\\r\\n\\r\\n\\r\\n------WebKitFormBoundaryBbipJCvvqkGEBh6H\\r\\nContent-Disposition: form-data; name=\"files[]\"; filename=\"qald_9_pp_test_wikidata.json\"\\r\\nContent-Type: application/json\\r\\n\\r\\n\\r\\n------WebKitFormBoundaryBbipJCvvqkGEBh6H--\\r\\n' \\\n",
    "  --compressed"
   ]
  }
 ],
 "metadata": {
  "kernelspec": {
   "display_name": "mengshi",
   "language": "python",
   "name": "python3"
  },
  "language_info": {
   "codemirror_mode": {
    "name": "ipython",
    "version": 3
   },
   "file_extension": ".py",
   "mimetype": "text/x-python",
   "name": "python",
   "nbconvert_exporter": "python",
   "pygments_lexer": "ipython3",
   "version": "3.9.0"
  },
  "orig_nbformat": 4
 },
 "nbformat": 4,
 "nbformat_minor": 2
}
