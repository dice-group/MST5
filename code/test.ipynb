{
 "cells": [
  {
   "cell_type": "code",
   "execution_count": 1,
   "metadata": {},
   "outputs": [
    {
     "name": "stderr",
     "output_type": "stream",
     "text": [
      "/upb/users/m/mengshim/profiles/unix/cs/miniconda3/envs/mengshi/lib/python3.9/site-packages/tqdm/auto.py:21: TqdmWarning: IProgress not found. Please update jupyter and ipywidgets. See https://ipywidgets.readthedocs.io/en/stable/user_install.html\n",
      "  from .autonotebook import tqdm as notebook_tqdm\n"
     ]
    },
    {
     "name": "stdout",
     "output_type": "stream",
     "text": [
      "Setting ds_accelerator to cuda (auto detect)\n"
     ]
    }
   ],
   "source": [
    "from utils.Qald import Qald\n",
    "from utils.data_io import read_json"
   ]
  },
  {
   "cell_type": "code",
   "execution_count": 2,
   "metadata": {},
   "outputs": [],
   "source": [
    "qald_dataset = read_json(\"../datasets/qald9plus/qald_9_pp_test_wikidata.json\")\n",
    "qald9p = Qald(qald_dataset)"
   ]
  },
  {
   "cell_type": "code",
   "execution_count": null,
   "metadata": {},
   "outputs": [],
   "source": []
  },
  {
   "cell_type": "code",
   "execution_count": 3,
   "metadata": {},
   "outputs": [],
   "source": [
    "qald9p.update_answers()"
   ]
  },
  {
   "cell_type": "code",
   "execution_count": 4,
   "metadata": {},
   "outputs": [
    {
     "name": "stdout",
     "output_type": "stream",
     "text": [
      "json file is exported to  datasets/qald9plus/qald_9_pp_test_wikidata_new.json\n"
     ]
    }
   ],
   "source": [
    "languages = [\n",
    "    \"en\",\n",
    "    \"de\",\n",
    "    \"fr\",\n",
    "    \"zh\",\n",
    "    \"ja\",\n",
    "    \"ru\",\n",
    "    \"uk\",\n",
    "    \"ba\",\n",
    "    \"be\",\n",
    "    \"lt\",\n",
    "    \"hy\"\n",
    "]\n",
    "qald9p.export_qald_json(languages, \"datasets/qald9plus/qald_9_pp_test_wikidata_new.json\")"
   ]
  },
  {
   "cell_type": "code",
   "execution_count": 1,
   "metadata": {},
   "outputs": [],
   "source": [
    "from utils.gerbil import Gerbil"
   ]
  },
  {
   "cell_type": "code",
   "execution_count": 2,
   "metadata": {},
   "outputs": [],
   "source": [
    "gerbil = Gerbil()"
   ]
  },
  {
   "cell_type": "code",
   "execution_count": 3,
   "metadata": {},
   "outputs": [],
   "source": [
    "gerbil.add_ref_file(\"qald 9 plus\", \"../datasets/qald9plus/qald_9_pp_test_wikidata_new.json\")"
   ]
  },
  {
   "cell_type": "code",
   "execution_count": 4,
   "metadata": {},
   "outputs": [],
   "source": [
    "gerbil.add_pred_file(\"en-ling-mt5-xl-lcquad\", \"../pred_files/q9pp-ling-context/en.json\", \"en\")"
   ]
  },
  {
   "cell_type": "code",
   "execution_count": 5,
   "metadata": {},
   "outputs": [],
   "source": [
    "gerbil.add_pred_file(\"zh-ling-mt5-xl-lcquad\", \"../pred_files/q9pp-ling-context/zh.json\", \"zh\")"
   ]
  },
  {
   "cell_type": "code",
   "execution_count": 6,
   "metadata": {},
   "outputs": [],
   "source": [
    "gerbil.add_pred_file(\"ru-ling-mt5-xl-lcquad\", \"../pred_files/q9pp-ling-context/ru.json\", \"ru\")"
   ]
  },
  {
   "cell_type": "code",
   "execution_count": 7,
   "metadata": {},
   "outputs": [
    {
     "name": "stdout",
     "output_type": "stream",
     "text": [
      "{'en': <utils.gerbil.Pred_file object at 0x7f0c8a714670>, 'zh': <utils.gerbil.Pred_file object at 0x7f0d5416efd0>, 'ru': <utils.gerbil.Pred_file object at 0x7f0d5416efa0>}\n"
     ]
    }
   ],
   "source": [
    "print(gerbil.pred_files)"
   ]
  },
  {
   "cell_type": "code",
   "execution_count": 8,
   "metadata": {},
   "outputs": [
    {
     "name": "stdout",
     "output_type": "stream",
     "text": [
      "Upload {'files[]': ('../datasets/qald9plus/qald_9_pp_test_wikidata_new.json', <_io.BytesIO object at 0x7f0c8a71b8b0>, 'application/json')} successfully\n",
      "Upload {'files[]': ('../pred_files/q9pp-ling-context/en.json', <_io.BytesIO object at 0x7f0c91f184a0>, 'application/json')} successfully\n",
      "Upload {'files[]': ('../pred_files/q9pp-ling-context/zh.json', <_io.BytesIO object at 0x7f0c91a3b720>, 'application/json')} successfully\n",
      "Upload {'files[]': ('../pred_files/q9pp-ling-context/ru.json', <_io.BytesIO object at 0x7f0c8a847540>, 'application/json')} successfully\n",
      "GERBIL experiment is submitted successfully\n",
      "Experiment id: 202306210001\n"
     ]
    },
    {
     "data": {
      "text/plain": [
       "<Response [200]>"
      ]
     },
     "execution_count": 8,
     "metadata": {},
     "output_type": "execute_result"
    }
   ],
   "source": [
    "gerbil.submit_experiment()"
   ]
  },
  {
   "cell_type": "code",
   "execution_count": 9,
   "metadata": {},
   "outputs": [
    {
     "name": "stdout",
     "output_type": "stream",
     "text": [
      "The experiment is still running.\n",
      "The experiment is still running.\n",
      "Experiment results is saved to ../pred_files/q9pp-ling-context/result.csv\n"
     ]
    }
   ],
   "source": [
    "gerbil.export_results(\"../pred_files/q9pp-ling-context/result.csv\")"
   ]
  }
 ],
 "metadata": {
  "kernelspec": {
   "display_name": "mengshi",
   "language": "python",
   "name": "python3"
  },
  "language_info": {
   "codemirror_mode": {
    "name": "ipython",
    "version": 3
   },
   "file_extension": ".py",
   "mimetype": "text/x-python",
   "name": "python",
   "nbconvert_exporter": "python",
   "pygments_lexer": "ipython3",
   "version": "3.9.0"
  },
  "orig_nbformat": 4
 },
 "nbformat": 4,
 "nbformat_minor": 2
}
