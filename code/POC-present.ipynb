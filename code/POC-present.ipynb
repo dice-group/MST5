{
 "cells": [
  {
   "cell_type": "markdown",
   "metadata": {},
   "source": [
    "This notebook is used to show Proof of Concept of Master Thesis \"Multilingual Knowledge Graph Question Answering\" from Mengshi Ma"
   ]
  },
  {
   "cell_type": "markdown",
   "metadata": {},
   "source": [
    "The purpose of this thesis is to develop a multilingual question answering system based on knowledge graph like wikidata or dbpedia. \n",
    "\n",
    "wikidata or dbpedia both support SPARQL query to retrieve knowledge from them, e.g. \n",
    "```\n",
    "SELECT DISTINCT ?uri WHERE { ?uri wdt:P279 wd:Q373822 . }\n",
    "```\n",
    ", which looks like a query for other databases. \n",
    "The basic idea is to treat SPARQL query as another language and use transformers to translate natural language questions to SPARQL query. "
   ]
  },
  {
   "cell_type": "markdown",
   "metadata": {
    "id": "XcYgJaAkDnTZ",
    "tags": []
   },
   "source": [
    "# Data preprocessing\n",
    "\n",
    "First, since no transformer model is trained on SPARQL queries, we need a dataset for fine-tuning. \n",
    "[QALD_9_plus](https://github.com/Perevalov/QALD_9_plus) is a multilingual KGQA dataset, containing questions in 9 languages, SPARQL query and there answers, including a training set and a test set for wikidata as well as dbpedia. "
   ]
  },
  {
   "cell_type": "markdown",
   "metadata": {
    "tags": []
   },
   "source": [
    "## Clone QALD_9_plus\n",
    "\n",
    "We clone the QALD_9_plus dataset, preprocess queries and extract them in a csv file, which is required for fine-tuning. "
   ]
  },
  {
   "cell_type": "code",
   "execution_count": null,
   "metadata": {
    "colab": {
     "base_uri": "https://localhost:8080/"
    },
    "id": "inCxmOMEEnNz",
    "outputId": "56fe5baf-1b05-4d29-a576-53c9844efb7b"
   },
   "outputs": [],
   "source": [
    "!git clone https://github.com/Perevalov/QALD_9_plus.git"
   ]
  },
  {
   "cell_type": "code",
   "execution_count": null,
   "metadata": {
    "colab": {
     "base_uri": "https://localhost:8080/"
    },
    "id": "_BzcJzvWExvf",
    "outputId": "635af352-fc48-4712-d4b7-1522ecd23c03"
   },
   "outputs": [],
   "source": [
    "!ls QALD_9_plus/data"
   ]
  },
  {
   "cell_type": "markdown",
   "metadata": {
    "tags": []
   },
   "source": [
    "## Preprocessing"
   ]
  },
  {
   "cell_type": "markdown",
   "metadata": {
    "tags": []
   },
   "source": [
    "### use abbreviation for prefixes and replace \":\" with \"_\"\n",
    "\n",
    "A SPARQL query like \n",
    "```\n",
    "SELECT ?o1 WHERE { <http://www.wikidata.org/entity/Q567> <http://www.wikidata.org/prop/direct/P1477>  ?o1 .  }\n",
    "```\n",
    "with long prefix is hard for tokenizer to tokenize it correctly, thus we replace them with its abbreviations. \n",
    "Here, we define some prefixes and there abbreviations pair for replacement in `prefix_pattern`. \n",
    "\n",
    "In `replacement` we define some replacement for symbols, since they have special meanings in SPARQL query than in natural languages. "
   ]
  },
  {
   "cell_type": "code",
   "execution_count": 1,
   "metadata": {
    "id": "j1NqPZzDWoMx"
   },
   "outputs": [],
   "source": [
    "prefix_pattern = [\n",
    "    [r'<http://dbpedia.org/resource/(.*?)>\\.?', 'dbr:'],\n",
    "    [r'<http://dbpedia.org/property/(.*?)>\\.?', 'dbp:'],\n",
    "    [r'<http://dbpedia.org/ontology/(.*?)>\\.?', 'dbo:'],\n",
    "    [r'<http://dbpedia.org/class/yago/(.*?)>\\.?', 'yago:'],\n",
    "    [r'onto:(.*)', 'dbo:'],\n",
    "    [r'<http://www.wikidata.org/prop/direct/(.*?)>', 'wdt:'],\n",
    "    [r'<http://www.wikidata.org/entity/(.*?)>', 'wd:'],\n",
    "    [r'http://www.wikidata.org/prop/(.*?)', 'p:'],\n",
    "    [r'<http://www.w3.org/2000/01/rdf-schema#(.*?)', 'rdfs:']\n",
    "]\n",
    "\n",
    "replacement = [\n",
    "    ['<http://www.w3.org/1999/02/22-rdf-syntax-ns#type>', 'rdf:type'],\n",
    "    ['{', ' bra_open '],\n",
    "    ['}', ' bra_close '],\n",
    "    ['?', ' var_'],\n",
    "    [':', '_'],\n",
    "    ['.', ' sep_dot '],\n",
    "    ['|', ' sep_or '],\n",
    "    \n",
    "]"
   ]
  },
  {
   "cell_type": "markdown",
   "metadata": {
    "jp-MarkdownHeadingCollapsed": true,
    "tags": []
   },
   "source": [
    "### preprocessing functions"
   ]
  },
  {
   "cell_type": "code",
   "execution_count": 2,
   "metadata": {
    "id": "28_0jyOsDjw2"
   },
   "outputs": [],
   "source": [
    "import re\n",
    "\n",
    "def delete_sparql_prefix(sparql_query):\n",
    "    if \"prefix\" not in sparql_query.casefold():\n",
    "        return sparql_query\n",
    "    if \"ASK\" in sparql_query:\n",
    "        return \"ASK\" + sparql_query.split(\"ASK\",1)[1]\n",
    "    return  \"SELECT\" + sparql_query.split(\"SELECT\",1)[1]\n",
    "\n",
    "def replace_prefix_abbr(sparql_query):\n",
    "    for pattern in prefix_pattern:\n",
    "        sparql_query = re.sub(pattern[0], pattern[1]+r'\\1', sparql_query)\n",
    "    for replace in replacement:\n",
    "        sparql_query = sparql_query.replace(replace[0], replace[1])\n",
    "    sparql_query = re.sub(' +', ' ', sparql_query)\n",
    "    return sparql_query"
   ]
  },
  {
   "cell_type": "markdown",
   "metadata": {},
   "source": [
    "Delete prefixes from query"
   ]
  },
  {
   "cell_type": "code",
   "execution_count": 3,
   "metadata": {},
   "outputs": [
    {
     "data": {
      "text/plain": [
       "'SELECT ?frequentflyer WHERE { ?airlines wdt:P31 wd:Q46970 . ?airlines p:P4446/ps:P4446 ?frequentflyer . }  GROUP BY ?frequentflyer ORDER BY DESC(COUNT(?airlines)) LIMIT 1'"
      ]
     },
     "execution_count": 3,
     "metadata": {},
     "output_type": "execute_result"
    }
   ],
   "source": [
    "example_query = \"PREFIX wdt: <http://www.wikidata.org/prop/direct/> PREFIX wd: <http://www.wikidata.org/entity/> PREFIX p: <http://www.wikidata.org/prop/> PREFIX ps: <http://www.wikidata.org/prop/statement/> SELECT ?frequentflyer WHERE { ?airlines wdt:P31 wd:Q46970 . ?airlines p:P4446/ps:P4446 ?frequentflyer . }  GROUP BY ?frequentflyer ORDER BY DESC(COUNT(?airlines)) LIMIT 1\"\n",
    "\n",
    "query = delete_sparql_prefix(example_query)\n",
    "query"
   ]
  },
  {
   "cell_type": "markdown",
   "metadata": {},
   "source": [
    "Replace symbols with self-defined tokens"
   ]
  },
  {
   "cell_type": "code",
   "execution_count": 4,
   "metadata": {},
   "outputs": [
    {
     "data": {
      "text/plain": [
       "'SELECT var_frequentflyer WHERE bra_open var_airlines wdt_P31 wd_Q46970 sep_dot var_airlines p_P4446/ps_P4446 var_frequentflyer sep_dot bra_close GROUP BY var_frequentflyer ORDER BY DESC(COUNT( var_airlines)) LIMIT 1'"
      ]
     },
     "execution_count": 4,
     "metadata": {},
     "output_type": "execute_result"
    }
   ],
   "source": [
    "query = replace_prefix_abbr(query)\n",
    "query"
   ]
  },
  {
   "cell_type": "markdown",
   "metadata": {},
   "source": [
    "For query with long prefixes in entity and relation, they are processed the same and represented similar."
   ]
  },
  {
   "cell_type": "code",
   "execution_count": 6,
   "metadata": {},
   "outputs": [
    {
     "data": {
      "text/plain": [
       "'SELECT var_o1 WHERE bra_open wd_Q567 wdt_P1477 var_o1 sep_dot bra_close '"
      ]
     },
     "execution_count": 6,
     "metadata": {},
     "output_type": "execute_result"
    }
   ],
   "source": [
    "query = \"SELECT ?o1 WHERE { <http://www.wikidata.org/entity/Q567> <http://www.wikidata.org/prop/direct/P1477>  ?o1 .  }\"\n",
    "\n",
    "query = replace_prefix_abbr(delete_sparql_prefix(query))\n",
    "query"
   ]
  },
  {
   "cell_type": "markdown",
   "metadata": {},
   "source": [
    "Define functions to read qald_9_plus dataset, preprocess queries and convert to a csv file"
   ]
  },
  {
   "cell_type": "code",
   "execution_count": 4,
   "metadata": {},
   "outputs": [],
   "source": [
    "import json\n",
    "import csv\n",
    "\n",
    "\n",
    "def extract_question_query_list(json_file, languages=[\"en\"]):\n",
    "    with open(json_file, \"r\") as f:\n",
    "        data = json.load(f)\n",
    "\n",
    "    question_query_list = []\n",
    "\n",
    "    questions_list = data[\"questions\"]\n",
    "\n",
    "    for question_dict in questions_list:\n",
    "        question_query = []\n",
    "        for question in question_dict[\"question\"]:\n",
    "            if question[\"language\"] in languages:\n",
    "                question_query.append(question[\"string\"])\n",
    "                question_query.append(replace_prefix_abbr(\n",
    "                    delete_sparql_prefix(question_dict[\"query\"][\"sparql\"])))\n",
    "                question_query_list.append(question_query)\n",
    "                question_query = []\n",
    "\n",
    "    return question_query_list\n",
    "\n",
    "\n",
    "def extract_csv_file(file_name, question_query_list):\n",
    "    header = [\"question\", \"query\"]\n",
    "\n",
    "    with open(file_name, 'w', encoding='UTF8', newline='') as f:\n",
    "        writer = csv.writer(f)\n",
    "\n",
    "        # write the header\n",
    "        writer.writerow(header)\n",
    "\n",
    "        # write multiple rows\n",
    "        writer.writerows(question_query_list)\n"
   ]
  },
  {
   "cell_type": "markdown",
   "metadata": {
    "tags": []
   },
   "source": [
    "## Extract csv dataset"
   ]
  },
  {
   "cell_type": "markdown",
   "metadata": {
    "id": "rJLYwozxEF25"
   },
   "source": [
    "extract English questions from dbpedia for zero-shot training"
   ]
  },
  {
   "cell_type": "code",
   "execution_count": null,
   "metadata": {
    "id": "BtFOU49kRpw8"
   },
   "outputs": [],
   "source": [
    "question_query_list = extract_question_query_list(\"qald_9_plus_train_dbpedia.json\", [\"en\"])\n",
    "extract_csv_file('dbpedia_en.csv', question_query_list)"
   ]
  },
  {
   "cell_type": "markdown",
   "metadata": {
    "id": "zH61FI62RskH"
   },
   "source": [
    "English and German questions from dbpedia"
   ]
  },
  {
   "cell_type": "code",
   "execution_count": null,
   "metadata": {
    "id": "xLV2aKLUPL7q"
   },
   "outputs": [],
   "source": [
    "question_query_list = extract_question_query_list(\"qald_9_plus_train_dbpedia.json\", [\"en\", \"de\"])\n",
    "extract_csv_file('dbpedia_en_de.csv', question_query_list)"
   ]
  },
  {
   "cell_type": "markdown",
   "metadata": {},
   "source": [
    "English questions from wikidata"
   ]
  },
  {
   "cell_type": "code",
   "execution_count": 5,
   "metadata": {},
   "outputs": [],
   "source": [
    "question_query_list = extract_question_query_list(\"qald_9_plus_train_wikidata.json\", [\"en\"])\n",
    "extract_csv_file('wikidata_en.csv', question_query_list)"
   ]
  },
  {
   "cell_type": "markdown",
   "metadata": {},
   "source": [
    "English, German, Russian, France from wikidata"
   ]
  },
  {
   "cell_type": "code",
   "execution_count": null,
   "metadata": {},
   "outputs": [],
   "source": [
    "question_query_list = extract_question_query_list(\"qald_9_plus_train_wikidata.json\", [\"en\",\"de\",\"ru\",\"fr\"])\n",
    "extract_csv_file('wikidata_en_de_ru_fr.csv', question_query_list)"
   ]
  },
  {
   "cell_type": "markdown",
   "metadata": {
    "id": "vPcpeJQQDkKm",
    "tags": []
   },
   "source": [
    "# Fine tuning\n",
    "\n",
    "After preprocessing, we can use the csv file for fine-tuning."
   ]
  },
  {
   "cell_type": "markdown",
   "metadata": {
    "tags": []
   },
   "source": [
    "## setup transformers\n",
    "\n",
    "For simplicity, we use huggingface transformers for fine-tuning, following are some commands I used for setting it up. "
   ]
  },
  {
   "cell_type": "code",
   "execution_count": null,
   "metadata": {
    "colab": {
     "base_uri": "https://localhost:8080/"
    },
    "id": "X-96--xubbY5",
    "outputId": "85b10dd1-af58-48ec-9fae-7ebdb9b9b562"
   },
   "outputs": [],
   "source": [
    "cd /content"
   ]
  },
  {
   "cell_type": "code",
   "execution_count": null,
   "metadata": {
    "colab": {
     "base_uri": "https://localhost:8080/"
    },
    "id": "nyCdLgKrBX35",
    "outputId": "ef2b6425-9e89-4937-f278-939dab3abee6"
   },
   "outputs": [],
   "source": [
    "!git clone https://github.com/huggingface/transformers.git"
   ]
  },
  {
   "cell_type": "code",
   "execution_count": null,
   "metadata": {
    "colab": {
     "base_uri": "https://localhost:8080/",
     "height": 1000
    },
    "id": "SB38VGq4bN1u",
    "outputId": "7a3783ab-e4d1-4cf4-e566-67a9232f8ea0"
   },
   "outputs": [],
   "source": [
    "!pip install -r requirements.txt"
   ]
  },
  {
   "cell_type": "code",
   "execution_count": null,
   "metadata": {
    "colab": {
     "base_uri": "https://localhost:8080/"
    },
    "id": "k-cMEKTocVN8",
    "outputId": "47f70003-47e5-4f55-af96-bfd9800bbb11"
   },
   "outputs": [],
   "source": [
    "!pip install git+https://github.com/huggingface/transformers"
   ]
  },
  {
   "cell_type": "code",
   "execution_count": null,
   "metadata": {},
   "outputs": [],
   "source": [
    "# install from source\n",
    "pip install git+https://github.com/huggingface/transformers"
   ]
  },
  {
   "cell_type": "markdown",
   "metadata": {
    "tags": []
   },
   "source": [
    "## add new tokens to tokenizer\n",
    "\n",
    "As pre-trained model only use natural language corpus, they doesn't contain special tokens we defined, therefore they must be added to the tokenizer. \n",
    "In list `new_tokens` are tokens I found from wikidata queries including symbol tokens and different variables. \n",
    "These code has to be copied and pasted to `run_summarization.py` after the tokenizer is instantiated (line 409).\n",
    "Added tokens are shown in `added_tokens.json` in the fine-tuned model. \n",
    "\n",
    "However, the tokenizer doesn't tokenize entities and relations perfectly. \n",
    "For example, a relation \"wdt_P287\" is tokenized to 'w', 'd', 't', '_', 'P', '287'. \n",
    "After training the tokenizer on queries from qald_9_plus dataset, it improved only a little. \n",
    "More training data are needed to train the tokenizer. "
   ]
  },
  {
   "cell_type": "code",
   "execution_count": null,
   "metadata": {},
   "outputs": [],
   "source": [
    "new_tokens = [\n",
    "    \"bra_open\",\n",
    "    \"bra_close\",\n",
    "    \"sep_dot\",\n",
    "    \"sep_or\",\n",
    "    \"var_uri\",\n",
    "    \"var_type\",\n",
    "    \"var_types\"\n",
    "    \"var_date\",\n",
    "    \"var_film\",\n",
    "    \"var_beerType\",\n",
    "    \"var_position\",\n",
    "    \"var_endDate\",\n",
    "    \"var_statement\",\n",
    "    \"var_spouse\",\n",
    "    \"var_area\",\n",
    "    \"var_timezone\",\n",
    "    \"var_population\",\n",
    "    \"var_child\",\n",
    "    \"var_s\",\n",
    "    \"var_x\",\n",
    "    \"var_c\",\n",
    "    \"var_com\",\n",
    "    \"var_language\",\n",
    "    \"var_membership\",\n",
    "    \"var_birthPlace\",\n",
    "    \"var_stmnode\",\n",
    "    \"var_o1\",\n",
    "    \"var_res\",\n",
    "    \"var_mayor\",\n",
    "    \"var_mass\",\n",
    "    \"var_emloyees\",\n",
    "    \"var_largest\",\n",
    "    \"var_sub\",\n",
    "    \"var_count\",\n",
    "    \"var_memberOfStatement\",\n",
    "    \"var_cost\",\n",
    "    \"var_date1\",\n",
    "    \"var_date2\",\n",
    "    \"var_dateOfBirth\",\n",
    "    \"var_wife\",\n",
    "    \"var_startTime\",\n",
    "    \"var_name\",\n",
    "    \"var_year\",\n",
    "    \"var_p\",\n",
    "    \"var_valuenode\",\n",
    "    \"var_company\",\n",
    "    \"var_presStatement\",\n",
    "    \"var_capital\",\n",
    "    \"var_height\",\n",
    "    \"var_track\",\n",
    "    \"var_num\",\n",
    "    \"var_father\",\n",
    "    \"var_mother\",\n",
    "    \"var_nBbEpisodes\",\n",
    "    \"var_nGotEpisodes\",\n",
    "    \"var_movie\",\n",
    "    \"var_area1\",\n",
    "    \"var_area2\",\n",
    "    \"var_inception\",\n",
    "    \"var_metro\",\n",
    "    \"var_painter\",\n",
    "    \"var_val\",\n",
    "    \"var_s1\",\n",
    "    \"var_q\",\n",
    "    \"var_p1\",\n",
    "]\n",
    "\n",
    "tokenizer.add_tokens(new_tokens)\n",
    "\n",
    "model.resize_token_embeddings(len(tokenizer))"
   ]
  },
  {
   "cell_type": "markdown",
   "metadata": {
    "jp-MarkdownHeadingCollapsed": true,
    "tags": []
   },
   "source": [
    "## fine-tune parameters\n",
    "\n",
    "To see parameters for fine-tuning in the implemented example. "
   ]
  },
  {
   "cell_type": "code",
   "execution_count": 6,
   "metadata": {
    "colab": {
     "base_uri": "https://localhost:8080/"
    },
    "id": "XZ9mTQ1rfQEN",
    "outputId": "0756946b-e84e-4f7f-e734-8c8bd2e31472"
   },
   "outputs": [
    {
     "name": "stdout",
     "output_type": "stream",
     "text": [
      "huggingface/tokenizers: The current process just got forked, after parallelism has already been used. Disabling parallelism to avoid deadlocks...\n",
      "To disable this warning, you can either:\n",
      "\t- Avoid using `tokenizers` before the fork if possible\n",
      "\t- Explicitly set the environment variable TOKENIZERS_PARALLELISM=(true | false)\n",
      "usage: run_summarization.py [-h] --model_name_or_path MODEL_NAME_OR_PATH\r\n",
      "                            [--config_name CONFIG_NAME]\r\n",
      "                            [--tokenizer_name TOKENIZER_NAME]\r\n",
      "                            [--cache_dir CACHE_DIR]\r\n",
      "                            [--use_fast_tokenizer [USE_FAST_TOKENIZER]]\r\n",
      "                            [--no_use_fast_tokenizer]\r\n",
      "                            [--model_revision MODEL_REVISION]\r\n",
      "                            [--use_auth_token [USE_AUTH_TOKEN]]\r\n",
      "                            [--resize_position_embeddings RESIZE_POSITION_EMBEDDINGS]\r\n",
      "                            [--lang LANG] [--dataset_name DATASET_NAME]\r\n",
      "                            [--dataset_config_name DATASET_CONFIG_NAME]\r\n",
      "                            [--text_column TEXT_COLUMN]\r\n",
      "                            [--summary_column SUMMARY_COLUMN]\r\n",
      "                            [--train_file TRAIN_FILE]\r\n",
      "                            [--validation_file VALIDATION_FILE]\r\n",
      "                            [--test_file TEST_FILE]\r\n",
      "                            [--overwrite_cache [OVERWRITE_CACHE]]\r\n",
      "                            [--preprocessing_num_workers PREPROCESSING_NUM_WORKERS]\r\n",
      "                            [--max_source_length MAX_SOURCE_LENGTH]\r\n",
      "                            [--max_target_length MAX_TARGET_LENGTH]\r\n",
      "                            [--val_max_target_length VAL_MAX_TARGET_LENGTH]\r\n",
      "                            [--pad_to_max_length [PAD_TO_MAX_LENGTH]]\r\n",
      "                            [--max_train_samples MAX_TRAIN_SAMPLES]\r\n",
      "                            [--max_eval_samples MAX_EVAL_SAMPLES]\r\n",
      "                            [--max_predict_samples MAX_PREDICT_SAMPLES]\r\n",
      "                            [--num_beams NUM_BEAMS]\r\n",
      "                            [--ignore_pad_token_for_loss [IGNORE_PAD_TOKEN_FOR_LOSS]]\r\n",
      "                            [--no_ignore_pad_token_for_loss]\r\n",
      "                            [--source_prefix SOURCE_PREFIX]\r\n",
      "                            [--forced_bos_token FORCED_BOS_TOKEN] --output_dir\r\n",
      "                            OUTPUT_DIR\r\n",
      "                            [--overwrite_output_dir [OVERWRITE_OUTPUT_DIR]]\r\n",
      "                            [--do_train [DO_TRAIN]] [--do_eval [DO_EVAL]]\r\n",
      "                            [--do_predict [DO_PREDICT]]\r\n",
      "                            [--evaluation_strategy {no,steps,epoch}]\r\n",
      "                            [--prediction_loss_only [PREDICTION_LOSS_ONLY]]\r\n",
      "                            [--per_device_train_batch_size PER_DEVICE_TRAIN_BATCH_SIZE]\r\n",
      "                            [--per_device_eval_batch_size PER_DEVICE_EVAL_BATCH_SIZE]\r\n",
      "                            [--per_gpu_train_batch_size PER_GPU_TRAIN_BATCH_SIZE]\r\n",
      "                            [--per_gpu_eval_batch_size PER_GPU_EVAL_BATCH_SIZE]\r\n",
      "                            [--gradient_accumulation_steps GRADIENT_ACCUMULATION_STEPS]\r\n",
      "                            [--eval_accumulation_steps EVAL_ACCUMULATION_STEPS]\r\n",
      "                            [--eval_delay EVAL_DELAY]\r\n",
      "                            [--learning_rate LEARNING_RATE]\r\n",
      "                            [--weight_decay WEIGHT_DECAY]\r\n",
      "                            [--adam_beta1 ADAM_BETA1]\r\n",
      "                            [--adam_beta2 ADAM_BETA2]\r\n",
      "                            [--adam_epsilon ADAM_EPSILON]\r\n",
      "                            [--max_grad_norm MAX_GRAD_NORM]\r\n",
      "                            [--num_train_epochs NUM_TRAIN_EPOCHS]\r\n",
      "                            [--max_steps MAX_STEPS]\r\n",
      "                            [--lr_scheduler_type {linear,cosine,cosine_with_restarts,polynomial,constant,constant_with_warmup}]\r\n",
      "                            [--warmup_ratio WARMUP_RATIO]\r\n",
      "                            [--warmup_steps WARMUP_STEPS]\r\n",
      "                            [--log_level {debug,info,warning,error,critical,passive}]\r\n",
      "                            [--log_level_replica {debug,info,warning,error,critical,passive}]\r\n",
      "                            [--log_on_each_node [LOG_ON_EACH_NODE]]\r\n",
      "                            [--no_log_on_each_node]\r\n",
      "                            [--logging_dir LOGGING_DIR]\r\n",
      "                            [--logging_strategy {no,steps,epoch}]\r\n",
      "                            [--logging_first_step [LOGGING_FIRST_STEP]]\r\n",
      "                            [--logging_steps LOGGING_STEPS]\r\n",
      "                            [--logging_nan_inf_filter [LOGGING_NAN_INF_FILTER]]\r\n",
      "                            [--no_logging_nan_inf_filter]\r\n",
      "                            [--save_strategy {no,steps,epoch}]\r\n",
      "                            [--save_steps SAVE_STEPS]\r\n",
      "                            [--save_total_limit SAVE_TOTAL_LIMIT]\r\n",
      "                            [--save_on_each_node [SAVE_ON_EACH_NODE]]\r\n",
      "                            [--no_cuda [NO_CUDA]]\r\n",
      "                            [--use_mps_device [USE_MPS_DEVICE]] [--seed SEED]\r\n",
      "                            [--data_seed DATA_SEED]\r\n",
      "                            [--jit_mode_eval [JIT_MODE_EVAL]]\r\n",
      "                            [--use_ipex [USE_IPEX]] [--bf16 [BF16]]\r\n",
      "                            [--fp16 [FP16]] [--fp16_opt_level FP16_OPT_LEVEL]\r\n",
      "                            [--half_precision_backend {auto,cuda_amp,apex,cpu_amp}]\r\n",
      "                            [--bf16_full_eval [BF16_FULL_EVAL]]\r\n",
      "                            [--fp16_full_eval [FP16_FULL_EVAL]] [--tf32 TF32]\r\n",
      "                            [--local_rank LOCAL_RANK]\r\n",
      "                            [--xpu_backend {mpi,ccl,gloo}]\r\n",
      "                            [--tpu_num_cores TPU_NUM_CORES]\r\n",
      "                            [--tpu_metrics_debug [TPU_METRICS_DEBUG]]\r\n",
      "                            [--debug DEBUG]\r\n",
      "                            [--dataloader_drop_last [DATALOADER_DROP_LAST]]\r\n",
      "                            [--eval_steps EVAL_STEPS]\r\n",
      "                            [--dataloader_num_workers DATALOADER_NUM_WORKERS]\r\n",
      "                            [--past_index PAST_INDEX] [--run_name RUN_NAME]\r\n",
      "                            [--disable_tqdm DISABLE_TQDM]\r\n",
      "                            [--remove_unused_columns [REMOVE_UNUSED_COLUMNS]]\r\n",
      "                            [--no_remove_unused_columns]\r\n",
      "                            [--label_names LABEL_NAMES [LABEL_NAMES ...]]\r\n",
      "                            [--load_best_model_at_end [LOAD_BEST_MODEL_AT_END]]\r\n",
      "                            [--metric_for_best_model METRIC_FOR_BEST_MODEL]\r\n",
      "                            [--greater_is_better GREATER_IS_BETTER]\r\n",
      "                            [--ignore_data_skip [IGNORE_DATA_SKIP]]\r\n",
      "                            [--sharded_ddp SHARDED_DDP] [--fsdp FSDP]\r\n",
      "                            [--fsdp_min_num_params FSDP_MIN_NUM_PARAMS]\r\n",
      "                            [--fsdp_transformer_layer_cls_to_wrap FSDP_TRANSFORMER_LAYER_CLS_TO_WRAP]\r\n",
      "                            [--deepspeed DEEPSPEED]\r\n",
      "                            [--label_smoothing_factor LABEL_SMOOTHING_FACTOR]\r\n",
      "                            [--optim {adamw_hf,adamw_torch,adamw_torch_xla,adamw_apex_fused,adafactor,adamw_bnb_8bit,sgd,adagrad}]\r\n",
      "                            [--adafactor [ADAFACTOR]]\r\n",
      "                            [--group_by_length [GROUP_BY_LENGTH]]\r\n",
      "                            [--length_column_name LENGTH_COLUMN_NAME]\r\n",
      "                            [--report_to REPORT_TO [REPORT_TO ...]]\r\n",
      "                            [--ddp_find_unused_parameters DDP_FIND_UNUSED_PARAMETERS]\r\n",
      "                            [--ddp_bucket_cap_mb DDP_BUCKET_CAP_MB]\r\n",
      "                            [--dataloader_pin_memory [DATALOADER_PIN_MEMORY]]\r\n",
      "                            [--no_dataloader_pin_memory]\r\n",
      "                            [--skip_memory_metrics [SKIP_MEMORY_METRICS]]\r\n",
      "                            [--no_skip_memory_metrics]\r\n",
      "                            [--use_legacy_prediction_loop [USE_LEGACY_PREDICTION_LOOP]]\r\n",
      "                            [--push_to_hub [PUSH_TO_HUB]]\r\n",
      "                            [--resume_from_checkpoint RESUME_FROM_CHECKPOINT]\r\n",
      "                            [--hub_model_id HUB_MODEL_ID]\r\n",
      "                            [--hub_strategy {end,every_save,checkpoint,all_checkpoints}]\r\n",
      "                            [--hub_token HUB_TOKEN]\r\n",
      "                            [--hub_private_repo [HUB_PRIVATE_REPO]]\r\n",
      "                            [--gradient_checkpointing [GRADIENT_CHECKPOINTING]]\r\n",
      "                            [--include_inputs_for_metrics [INCLUDE_INPUTS_FOR_METRICS]]\r\n",
      "                            [--fp16_backend {auto,cuda_amp,apex,cpu_amp}]\r\n",
      "                            [--push_to_hub_model_id PUSH_TO_HUB_MODEL_ID]\r\n",
      "                            [--push_to_hub_organization PUSH_TO_HUB_ORGANIZATION]\r\n",
      "                            [--push_to_hub_token PUSH_TO_HUB_TOKEN]\r\n",
      "                            [--mp_parameters MP_PARAMETERS]\r\n",
      "                            [--auto_find_batch_size [AUTO_FIND_BATCH_SIZE]]\r\n",
      "                            [--full_determinism [FULL_DETERMINISM]]\r\n",
      "                            [--torchdynamo {eager,nvfuser,fx2trt,fx2trt-fp16}]\r\n",
      "                            [--ray_scope RAY_SCOPE]\r\n",
      "                            [--ddp_timeout DDP_TIMEOUT]\r\n",
      "                            [--sortish_sampler [SORTISH_SAMPLER]]\r\n",
      "                            [--predict_with_generate [PREDICT_WITH_GENERATE]]\r\n",
      "                            [--generation_max_length GENERATION_MAX_LENGTH]\r\n",
      "                            [--generation_num_beams GENERATION_NUM_BEAMS]\r\n",
      "\r\n",
      "optional arguments:\r\n",
      "  -h, --help            show this help message and exit\r\n",
      "  --model_name_or_path MODEL_NAME_OR_PATH\r\n",
      "                        Path to pretrained model or model identifier from\r\n",
      "                        huggingface.co/models (default: None)\r\n",
      "  --config_name CONFIG_NAME\r\n",
      "                        Pretrained config name or path if not the same as\r\n",
      "                        model_name (default: None)\r\n",
      "  --tokenizer_name TOKENIZER_NAME\r\n",
      "                        Pretrained tokenizer name or path if not the same as\r\n",
      "                        model_name (default: None)\r\n",
      "  --cache_dir CACHE_DIR\r\n",
      "                        Where to store the pretrained models downloaded from\r\n",
      "                        huggingface.co (default: None)\r\n",
      "  --use_fast_tokenizer [USE_FAST_TOKENIZER]\r\n",
      "                        Whether to use one of the fast tokenizer (backed by\r\n",
      "                        the tokenizers library) or not. (default: True)\r\n",
      "  --no_use_fast_tokenizer\r\n",
      "                        Whether to use one of the fast tokenizer (backed by\r\n",
      "                        the tokenizers library) or not. (default: False)\r\n",
      "  --model_revision MODEL_REVISION\r\n",
      "                        The specific model version to use (can be a branch\r\n",
      "                        name, tag name or commit id). (default: main)\r\n",
      "  --use_auth_token [USE_AUTH_TOKEN]\r\n",
      "                        Will use the token generated when running\r\n",
      "                        `huggingface-cli login` (necessary to use this script\r\n",
      "                        with private models). (default: False)\r\n",
      "  --resize_position_embeddings RESIZE_POSITION_EMBEDDINGS\r\n",
      "                        Whether to automatically resize the position\r\n",
      "                        embeddings if `max_source_length` exceeds the model's\r\n",
      "                        position embeddings. (default: None)\r\n",
      "  --lang LANG           Language id for summarization. (default: None)\r\n",
      "  --dataset_name DATASET_NAME\r\n",
      "                        The name of the dataset to use (via the datasets\r\n",
      "                        library). (default: None)\r\n",
      "  --dataset_config_name DATASET_CONFIG_NAME\r\n",
      "                        The configuration name of the dataset to use (via the\r\n",
      "                        datasets library). (default: None)\r\n",
      "  --text_column TEXT_COLUMN\r\n",
      "                        The name of the column in the datasets containing the\r\n",
      "                        full texts (for summarization). (default: None)\r\n",
      "  --summary_column SUMMARY_COLUMN\r\n",
      "                        The name of the column in the datasets containing the\r\n",
      "                        summaries (for summarization). (default: None)\r\n",
      "  --train_file TRAIN_FILE\r\n",
      "                        The input training data file (a jsonlines or csv\r\n",
      "                        file). (default: None)\r\n",
      "  --validation_file VALIDATION_FILE\r\n",
      "                        An optional input evaluation data file to evaluate the\r\n",
      "                        metrics (rouge) on (a jsonlines or csv file).\r\n",
      "                        (default: None)\r\n",
      "  --test_file TEST_FILE\r\n",
      "                        An optional input test data file to evaluate the\r\n",
      "                        metrics (rouge) on (a jsonlines or csv file).\r\n",
      "                        (default: None)\r\n",
      "  --overwrite_cache [OVERWRITE_CACHE]\r\n",
      "                        Overwrite the cached training and evaluation sets\r\n",
      "                        (default: False)\r\n",
      "  --preprocessing_num_workers PREPROCESSING_NUM_WORKERS\r\n",
      "                        The number of processes to use for the preprocessing.\r\n",
      "                        (default: None)\r\n",
      "  --max_source_length MAX_SOURCE_LENGTH\r\n",
      "                        The maximum total input sequence length after\r\n",
      "                        tokenization. Sequences longer than this will be\r\n",
      "                        truncated, sequences shorter will be padded. (default:\r\n",
      "                        1024)\r\n",
      "  --max_target_length MAX_TARGET_LENGTH\r\n",
      "                        The maximum total sequence length for target text\r\n",
      "                        after tokenization. Sequences longer than this will be\r\n",
      "                        truncated, sequences shorter will be padded. (default:\r\n",
      "                        128)\r\n",
      "  --val_max_target_length VAL_MAX_TARGET_LENGTH\r\n",
      "                        The maximum total sequence length for validation\r\n",
      "                        target text after tokenization. Sequences longer than\r\n",
      "                        this will be truncated, sequences shorter will be\r\n",
      "                        padded. Will default to `max_target_length`.This\r\n",
      "                        argument is also used to override the ``max_length``\r\n",
      "                        param of ``model.generate``, which is used during\r\n",
      "                        ``evaluate`` and ``predict``. (default: None)\r\n",
      "  --pad_to_max_length [PAD_TO_MAX_LENGTH]\r\n",
      "                        Whether to pad all samples to model maximum sentence\r\n",
      "                        length. If False, will pad the samples dynamically\r\n",
      "                        when batching to the maximum length in the batch. More\r\n",
      "                        efficient on GPU but very bad for TPU. (default:\r\n",
      "                        False)\r\n",
      "  --max_train_samples MAX_TRAIN_SAMPLES\r\n",
      "                        For debugging purposes or quicker training, truncate\r\n",
      "                        the number of training examples to this value if set.\r\n",
      "                        (default: None)\r\n",
      "  --max_eval_samples MAX_EVAL_SAMPLES\r\n",
      "                        For debugging purposes or quicker training, truncate\r\n",
      "                        the number of evaluation examples to this value if\r\n",
      "                        set. (default: None)\r\n",
      "  --max_predict_samples MAX_PREDICT_SAMPLES\r\n",
      "                        For debugging purposes or quicker training, truncate\r\n",
      "                        the number of prediction examples to this value if\r\n",
      "                        set. (default: None)\r\n",
      "  --num_beams NUM_BEAMS\r\n",
      "                        Number of beams to use for evaluation. This argument\r\n",
      "                        will be passed to ``model.generate``, which is used\r\n",
      "                        during ``evaluate`` and ``predict``. (default: None)\r\n",
      "  --ignore_pad_token_for_loss [IGNORE_PAD_TOKEN_FOR_LOSS]\r\n",
      "                        Whether to ignore the tokens corresponding to padded\r\n",
      "                        labels in the loss computation or not. (default: True)\r\n",
      "  --no_ignore_pad_token_for_loss\r\n",
      "                        Whether to ignore the tokens corresponding to padded\r\n",
      "                        labels in the loss computation or not. (default:\r\n",
      "                        False)\r\n",
      "  --source_prefix SOURCE_PREFIX\r\n",
      "                        A prefix to add before every source text (useful for\r\n",
      "                        T5 models). (default: )\r\n",
      "  --forced_bos_token FORCED_BOS_TOKEN\r\n",
      "                        The token to force as the first generated token after\r\n",
      "                        the decoder_start_token_id.Useful for multilingual\r\n",
      "                        models like mBART where the first generated tokenneeds\r\n",
      "                        to be the target language token (Usually it is the\r\n",
      "                        target language token) (default: None)\r\n",
      "  --output_dir OUTPUT_DIR\r\n",
      "                        The output directory where the model predictions and\r\n",
      "                        checkpoints will be written. (default: None)\r\n",
      "  --overwrite_output_dir [OVERWRITE_OUTPUT_DIR]\r\n",
      "                        Overwrite the content of the output directory. Use\r\n",
      "                        this to continue training if output_dir points to a\r\n",
      "                        checkpoint directory. (default: False)\r\n",
      "  --do_train [DO_TRAIN]\r\n",
      "                        Whether to run training. (default: False)\r\n",
      "  --do_eval [DO_EVAL]   Whether to run eval on the dev set. (default: False)\r\n",
      "  --do_predict [DO_PREDICT]\r\n",
      "                        Whether to run predictions on the test set. (default:\r\n",
      "                        False)\r\n",
      "  --evaluation_strategy {no,steps,epoch}\r\n",
      "                        The evaluation strategy to use. (default: no)\r\n",
      "  --prediction_loss_only [PREDICTION_LOSS_ONLY]\r\n",
      "                        When performing evaluation and predictions, only\r\n",
      "                        returns the loss. (default: False)\r\n",
      "  --per_device_train_batch_size PER_DEVICE_TRAIN_BATCH_SIZE\r\n",
      "                        Batch size per GPU/TPU core/CPU for training.\r\n",
      "                        (default: 8)\r\n",
      "  --per_device_eval_batch_size PER_DEVICE_EVAL_BATCH_SIZE\r\n",
      "                        Batch size per GPU/TPU core/CPU for evaluation.\r\n",
      "                        (default: 8)\r\n",
      "  --per_gpu_train_batch_size PER_GPU_TRAIN_BATCH_SIZE\r\n",
      "                        Deprecated, the use of `--per_device_train_batch_size`\r\n",
      "                        is preferred. Batch size per GPU/TPU core/CPU for\r\n",
      "                        training. (default: None)\r\n",
      "  --per_gpu_eval_batch_size PER_GPU_EVAL_BATCH_SIZE\r\n",
      "                        Deprecated, the use of `--per_device_eval_batch_size`\r\n",
      "                        is preferred. Batch size per GPU/TPU core/CPU for\r\n",
      "                        evaluation. (default: None)\r\n",
      "  --gradient_accumulation_steps GRADIENT_ACCUMULATION_STEPS\r\n",
      "                        Number of updates steps to accumulate before\r\n",
      "                        performing a backward/update pass. (default: 1)\r\n",
      "  --eval_accumulation_steps EVAL_ACCUMULATION_STEPS\r\n",
      "                        Number of predictions steps to accumulate before\r\n",
      "                        moving the tensors to the CPU. (default: None)\r\n",
      "  --eval_delay EVAL_DELAY\r\n",
      "                        Number of epochs or steps to wait for before the first\r\n",
      "                        evaluation can be performed, depending on the\r\n",
      "                        evaluation_strategy. (default: 0)\r\n",
      "  --learning_rate LEARNING_RATE\r\n",
      "                        The initial learning rate for AdamW. (default: 5e-05)\r\n",
      "  --weight_decay WEIGHT_DECAY\r\n",
      "                        Weight decay for AdamW if we apply some. (default:\r\n",
      "                        0.0)\r\n",
      "  --adam_beta1 ADAM_BETA1\r\n",
      "                        Beta1 for AdamW optimizer (default: 0.9)\r\n",
      "  --adam_beta2 ADAM_BETA2\r\n",
      "                        Beta2 for AdamW optimizer (default: 0.999)\r\n",
      "  --adam_epsilon ADAM_EPSILON\r\n",
      "                        Epsilon for AdamW optimizer. (default: 1e-08)\r\n",
      "  --max_grad_norm MAX_GRAD_NORM\r\n",
      "                        Max gradient norm. (default: 1.0)\r\n",
      "  --num_train_epochs NUM_TRAIN_EPOCHS\r\n",
      "                        Total number of training epochs to perform. (default:\r\n",
      "                        3.0)\r\n",
      "  --max_steps MAX_STEPS\r\n",
      "                        If > 0: set total number of training steps to perform.\r\n",
      "                        Override num_train_epochs. (default: -1)\r\n",
      "  --lr_scheduler_type {linear,cosine,cosine_with_restarts,polynomial,constant,constant_with_warmup}\r\n",
      "                        The scheduler type to use. (default: linear)\r\n",
      "  --warmup_ratio WARMUP_RATIO\r\n",
      "                        Linear warmup over warmup_ratio fraction of total\r\n",
      "                        steps. (default: 0.0)\r\n",
      "  --warmup_steps WARMUP_STEPS\r\n",
      "                        Linear warmup over warmup_steps. (default: 0)\r\n",
      "  --log_level {debug,info,warning,error,critical,passive}\r\n",
      "                        Logger log level to use on the main node. Possible\r\n",
      "                        choices are the log levels as strings: 'debug',\r\n",
      "                        'info', 'warning', 'error' and 'critical', plus a\r\n",
      "                        'passive' level which doesn't set anything and lets\r\n",
      "                        the application set the level. Defaults to 'passive'.\r\n",
      "                        (default: passive)\r\n",
      "  --log_level_replica {debug,info,warning,error,critical,passive}\r\n",
      "                        Logger log level to use on replica nodes. Same choices\r\n",
      "                        and defaults as ``log_level`` (default: passive)\r\n",
      "  --log_on_each_node [LOG_ON_EACH_NODE]\r\n",
      "                        When doing a multinode distributed training, whether\r\n",
      "                        to log once per node or just once on the main node.\r\n",
      "                        (default: True)\r\n",
      "  --no_log_on_each_node\r\n",
      "                        When doing a multinode distributed training, whether\r\n",
      "                        to log once per node or just once on the main node.\r\n",
      "                        (default: False)\r\n",
      "  --logging_dir LOGGING_DIR\r\n",
      "                        Tensorboard log dir. (default: None)\r\n",
      "  --logging_strategy {no,steps,epoch}\r\n",
      "                        The logging strategy to use. (default: steps)\r\n",
      "  --logging_first_step [LOGGING_FIRST_STEP]\r\n",
      "                        Log the first global_step (default: False)\r\n",
      "  --logging_steps LOGGING_STEPS\r\n",
      "                        Log every X updates steps. (default: 500)\r\n",
      "  --logging_nan_inf_filter [LOGGING_NAN_INF_FILTER]\r\n",
      "                        Filter nan and inf losses for logging. (default: True)\r\n",
      "  --no_logging_nan_inf_filter\r\n",
      "                        Filter nan and inf losses for logging. (default:\r\n",
      "                        False)\r\n",
      "  --save_strategy {no,steps,epoch}\r\n",
      "                        The checkpoint save strategy to use. (default: steps)\r\n",
      "  --save_steps SAVE_STEPS\r\n",
      "                        Save checkpoint every X updates steps. (default: 500)\r\n",
      "  --save_total_limit SAVE_TOTAL_LIMIT\r\n",
      "                        Limit the total amount of checkpoints. Deletes the\r\n",
      "                        older checkpoints in the output_dir. Default is\r\n",
      "                        unlimited checkpoints (default: None)\r\n",
      "  --save_on_each_node [SAVE_ON_EACH_NODE]\r\n",
      "                        When doing multi-node distributed training, whether to\r\n",
      "                        save models and checkpoints on each node, or only on\r\n",
      "                        the main one (default: False)\r\n",
      "  --no_cuda [NO_CUDA]   Do not use CUDA even when it is available (default:\r\n",
      "                        False)\r\n",
      "  --use_mps_device [USE_MPS_DEVICE]\r\n",
      "                        Whether to use Apple Silicon chip based `mps` device.\r\n",
      "                        (default: False)\r\n",
      "  --seed SEED           Random seed that will be set at the beginning of\r\n",
      "                        training. (default: 42)\r\n",
      "  --data_seed DATA_SEED\r\n",
      "                        Random seed to be used with data samplers. (default:\r\n",
      "                        None)\r\n",
      "  --jit_mode_eval [JIT_MODE_EVAL]\r\n",
      "                        Whether or not to use PyTorch jit trace for inference\r\n",
      "                        (default: False)\r\n",
      "  --use_ipex [USE_IPEX]\r\n",
      "                        Use Intel extension for PyTorch when it is available,\r\n",
      "                        installation: 'https://github.com/intel/intel-\r\n",
      "                        extension-for-pytorch' (default: False)\r\n",
      "  --bf16 [BF16]         Whether to use bf16 (mixed) precision instead of\r\n",
      "                        32-bit. Requires Ampere or higher NVIDIA architecture\r\n",
      "                        or using CPU (no_cuda). This is an experimental API\r\n",
      "                        and it may change. (default: False)\r\n",
      "  --fp16 [FP16]         Whether to use fp16 (mixed) precision instead of\r\n",
      "                        32-bit (default: False)\r\n",
      "  --fp16_opt_level FP16_OPT_LEVEL\r\n",
      "                        For fp16: Apex AMP optimization level selected in\r\n",
      "                        ['O0', 'O1', 'O2', and 'O3']. See details at\r\n",
      "                        https://nvidia.github.io/apex/amp.html (default: O1)\r\n",
      "  --half_precision_backend {auto,cuda_amp,apex,cpu_amp}\r\n",
      "                        The backend to be used for half precision. (default:\r\n",
      "                        auto)\r\n",
      "  --bf16_full_eval [BF16_FULL_EVAL]\r\n",
      "                        Whether to use full bfloat16 evaluation instead of\r\n",
      "                        32-bit. This is an experimental API and it may change.\r\n",
      "                        (default: False)\r\n",
      "  --fp16_full_eval [FP16_FULL_EVAL]\r\n",
      "                        Whether to use full float16 evaluation instead of\r\n",
      "                        32-bit (default: False)\r\n",
      "  --tf32 TF32           Whether to enable tf32 mode, available in Ampere and\r\n",
      "                        newer GPU architectures. This is an experimental API\r\n",
      "                        and it may change. (default: None)\r\n",
      "  --local_rank LOCAL_RANK\r\n",
      "                        For distributed training: local_rank (default: -1)\r\n",
      "  --xpu_backend {mpi,ccl,gloo}\r\n",
      "                        The backend to be used for distributed training on\r\n",
      "                        Intel XPU. (default: None)\r\n",
      "  --tpu_num_cores TPU_NUM_CORES\r\n",
      "                        TPU: Number of TPU cores (automatically passed by\r\n",
      "                        launcher script) (default: None)\r\n",
      "  --tpu_metrics_debug [TPU_METRICS_DEBUG]\r\n",
      "                        Deprecated, the use of `--debug tpu_metrics_debug` is\r\n",
      "                        preferred. TPU: Whether to print debug metrics\r\n",
      "                        (default: False)\r\n",
      "  --debug DEBUG         Whether or not to enable debug mode. Current options:\r\n",
      "                        `underflow_overflow` (Detect underflow and overflow in\r\n",
      "                        activations and weights), `tpu_metrics_debug` (print\r\n",
      "                        debug metrics on TPU). (default: )\r\n",
      "  --dataloader_drop_last [DATALOADER_DROP_LAST]\r\n",
      "                        Drop the last incomplete batch if it is not divisible\r\n",
      "                        by the batch size. (default: False)\r\n",
      "  --eval_steps EVAL_STEPS\r\n",
      "                        Run an evaluation every X steps. (default: None)\r\n",
      "  --dataloader_num_workers DATALOADER_NUM_WORKERS\r\n",
      "                        Number of subprocesses to use for data loading\r\n",
      "                        (PyTorch only). 0 means that the data will be loaded\r\n",
      "                        in the main process. (default: 0)\r\n",
      "  --past_index PAST_INDEX\r\n",
      "                        If >=0, uses the corresponding part of the output as\r\n",
      "                        the past state for next step. (default: -1)\r\n",
      "  --run_name RUN_NAME   An optional descriptor for the run. Notably used for\r\n",
      "                        wandb logging. (default: None)\r\n",
      "  --disable_tqdm DISABLE_TQDM\r\n",
      "                        Whether or not to disable the tqdm progress bars.\r\n",
      "                        (default: None)\r\n",
      "  --remove_unused_columns [REMOVE_UNUSED_COLUMNS]\r\n",
      "                        Remove columns not required by the model when using an\r\n",
      "                        nlp.Dataset. (default: True)\r\n",
      "  --no_remove_unused_columns\r\n",
      "                        Remove columns not required by the model when using an\r\n",
      "                        nlp.Dataset. (default: False)\r\n",
      "  --label_names LABEL_NAMES [LABEL_NAMES ...]\r\n",
      "                        The list of keys in your dictionary of inputs that\r\n",
      "                        correspond to the labels. (default: None)\r\n",
      "  --load_best_model_at_end [LOAD_BEST_MODEL_AT_END]\r\n",
      "                        Whether or not to load the best model found during\r\n",
      "                        training at the end of training. (default: False)\r\n",
      "  --metric_for_best_model METRIC_FOR_BEST_MODEL\r\n",
      "                        The metric to use to compare two different models.\r\n",
      "                        (default: None)\r\n",
      "  --greater_is_better GREATER_IS_BETTER\r\n",
      "                        Whether the `metric_for_best_model` should be\r\n",
      "                        maximized or not. (default: None)\r\n",
      "  --ignore_data_skip [IGNORE_DATA_SKIP]\r\n",
      "                        When resuming training, whether or not to skip the\r\n",
      "                        first epochs and batches to get to the same training\r\n",
      "                        data. (default: False)\r\n",
      "  --sharded_ddp SHARDED_DDP\r\n",
      "                        Whether or not to use sharded DDP training (in\r\n",
      "                        distributed training only). The base option should be\r\n",
      "                        `simple`, `zero_dp_2` or `zero_dp_3` and you can add\r\n",
      "                        CPU-offload to `zero_dp_2` or `zero_dp_3` like this:\r\n",
      "                        zero_dp_2 offload` or `zero_dp_3 offload`. You can add\r\n",
      "                        auto-wrap to `zero_dp_2` or `zero_dp_3` with the same\r\n",
      "                        syntax: zero_dp_2 auto_wrap` or `zero_dp_3 auto_wrap`.\r\n",
      "                        (default: )\r\n",
      "  --fsdp FSDP           Whether or not to use PyTorch Fully Sharded Data\r\n",
      "                        Parallel (FSDP) training (in distributed training\r\n",
      "                        only). The base option should be `full_shard`,\r\n",
      "                        `shard_grad_op` or `no_shard` and you can add CPU-\r\n",
      "                        offload to `full_shard` or `shard_grad_op` like this:\r\n",
      "                        full_shard offload` or `shard_grad_op offload`. You\r\n",
      "                        can add auto-wrap to `full_shard` or `shard_grad_op`\r\n",
      "                        with the same syntax: full_shard auto_wrap` or\r\n",
      "                        `shard_grad_op auto_wrap`. (default: )\r\n",
      "  --fsdp_min_num_params FSDP_MIN_NUM_PARAMS\r\n",
      "                        FSDP's minimum number of parameters for Default Auto\r\n",
      "                        Wrapping. (useful only when `fsdp` field is passed).\r\n",
      "                        (default: 0)\r\n",
      "  --fsdp_transformer_layer_cls_to_wrap FSDP_TRANSFORMER_LAYER_CLS_TO_WRAP\r\n",
      "                        Transformer layer class name (case-sensitive) to wrap\r\n",
      "                        ,e.g, `BertLayer`, `GPTJBlock`, `T5Block` .... (useful\r\n",
      "                        only when `fsdp` flag is passed). (default: None)\r\n",
      "  --deepspeed DEEPSPEED\r\n",
      "                        Enable deepspeed and pass the path to deepspeed json\r\n",
      "                        config file (e.g. ds_config.json) or an already loaded\r\n",
      "                        json file as a dict (default: None)\r\n",
      "  --label_smoothing_factor LABEL_SMOOTHING_FACTOR\r\n",
      "                        The label smoothing epsilon to apply (zero means no\r\n",
      "                        label smoothing). (default: 0.0)\r\n",
      "  --optim {adamw_hf,adamw_torch,adamw_torch_xla,adamw_apex_fused,adafactor,adamw_bnb_8bit,sgd,adagrad}\r\n",
      "                        The optimizer to use. (default: adamw_hf)\r\n",
      "  --adafactor [ADAFACTOR]\r\n",
      "                        Whether or not to replace AdamW by Adafactor.\r\n",
      "                        (default: False)\r\n",
      "  --group_by_length [GROUP_BY_LENGTH]\r\n",
      "                        Whether or not to group samples of roughly the same\r\n",
      "                        length together when batching. (default: False)\r\n",
      "  --length_column_name LENGTH_COLUMN_NAME\r\n",
      "                        Column name with precomputed lengths to use when\r\n",
      "                        grouping by length. (default: length)\r\n",
      "  --report_to REPORT_TO [REPORT_TO ...]\r\n",
      "                        The list of integrations to report the results and\r\n",
      "                        logs to. (default: None)\r\n",
      "  --ddp_find_unused_parameters DDP_FIND_UNUSED_PARAMETERS\r\n",
      "                        When using distributed training, the value of the flag\r\n",
      "                        `find_unused_parameters` passed to\r\n",
      "                        `DistributedDataParallel`. (default: None)\r\n",
      "  --ddp_bucket_cap_mb DDP_BUCKET_CAP_MB\r\n",
      "                        When using distributed training, the value of the flag\r\n",
      "                        `bucket_cap_mb` passed to `DistributedDataParallel`.\r\n",
      "                        (default: None)\r\n",
      "  --dataloader_pin_memory [DATALOADER_PIN_MEMORY]\r\n",
      "                        Whether or not to pin memory for DataLoader. (default:\r\n",
      "                        True)\r\n",
      "  --no_dataloader_pin_memory\r\n",
      "                        Whether or not to pin memory for DataLoader. (default:\r\n",
      "                        False)\r\n",
      "  --skip_memory_metrics [SKIP_MEMORY_METRICS]\r\n",
      "                        Whether or not to skip adding of memory profiler\r\n",
      "                        reports to metrics. (default: True)\r\n",
      "  --no_skip_memory_metrics\r\n",
      "                        Whether or not to skip adding of memory profiler\r\n",
      "                        reports to metrics. (default: False)\r\n",
      "  --use_legacy_prediction_loop [USE_LEGACY_PREDICTION_LOOP]\r\n",
      "                        Whether or not to use the legacy prediction_loop in\r\n",
      "                        the Trainer. (default: False)\r\n",
      "  --push_to_hub [PUSH_TO_HUB]\r\n",
      "                        Whether or not to upload the trained model to the\r\n",
      "                        model hub after training. (default: False)\r\n",
      "  --resume_from_checkpoint RESUME_FROM_CHECKPOINT\r\n",
      "                        The path to a folder with a valid checkpoint for your\r\n",
      "                        model. (default: None)\r\n",
      "  --hub_model_id HUB_MODEL_ID\r\n",
      "                        The name of the repository to keep in sync with the\r\n",
      "                        local `output_dir`. (default: None)\r\n",
      "  --hub_strategy {end,every_save,checkpoint,all_checkpoints}\r\n",
      "                        The hub strategy to use when `--push_to_hub` is\r\n",
      "                        activated. (default: every_save)\r\n",
      "  --hub_token HUB_TOKEN\r\n",
      "                        The token to use to push to the Model Hub. (default:\r\n",
      "                        None)\r\n",
      "  --hub_private_repo [HUB_PRIVATE_REPO]\r\n",
      "                        Whether the model repository is private or not.\r\n",
      "                        (default: False)\r\n",
      "  --gradient_checkpointing [GRADIENT_CHECKPOINTING]\r\n",
      "                        If True, use gradient checkpointing to save memory at\r\n",
      "                        the expense of slower backward pass. (default: False)\r\n",
      "  --include_inputs_for_metrics [INCLUDE_INPUTS_FOR_METRICS]\r\n",
      "                        Whether or not the inputs will be passed to the\r\n",
      "                        `compute_metrics` function. (default: False)\r\n",
      "  --fp16_backend {auto,cuda_amp,apex,cpu_amp}\r\n",
      "                        Deprecated. Use half_precision_backend instead\r\n",
      "                        (default: auto)\r\n",
      "  --push_to_hub_model_id PUSH_TO_HUB_MODEL_ID\r\n",
      "                        The name of the repository to which push the\r\n",
      "                        `Trainer`. (default: None)\r\n",
      "  --push_to_hub_organization PUSH_TO_HUB_ORGANIZATION\r\n",
      "                        The name of the organization in with to which push the\r\n",
      "                        `Trainer`. (default: None)\r\n",
      "  --push_to_hub_token PUSH_TO_HUB_TOKEN\r\n",
      "                        The token to use to push to the Model Hub. (default:\r\n",
      "                        None)\r\n",
      "  --mp_parameters MP_PARAMETERS\r\n",
      "                        Used by the SageMaker launcher to send mp-specific\r\n",
      "                        args. Ignored in Trainer (default: )\r\n",
      "  --auto_find_batch_size [AUTO_FIND_BATCH_SIZE]\r\n",
      "                        Whether to automatically decrease the batch size in\r\n",
      "                        half and rerun the training loop again each time a\r\n",
      "                        CUDA Out-of-Memory was reached (default: False)\r\n",
      "  --full_determinism [FULL_DETERMINISM]\r\n",
      "                        Whether to call enable_full_determinism instead of\r\n",
      "                        set_seed for reproducibility in distributed training\r\n",
      "                        (default: False)\r\n",
      "  --torchdynamo {eager,nvfuser,fx2trt,fx2trt-fp16}\r\n",
      "                        Sets up the backend compiler for TorchDynamo.\r\n",
      "                        TorchDynamo is a Python level JIT compiler designed to\r\n",
      "                        make unmodified PyTorch programs faster. TorchDynamo\r\n",
      "                        dynamically modifies the Python bytecode right before\r\n",
      "                        its executed. It rewrites Python bytecode to extract\r\n",
      "                        sequences of PyTorch operations and lifts them up into\r\n",
      "                        Fx graph. We can then pass these Fx graphs to other\r\n",
      "                        backend compilers. There are two options - eager and\r\n",
      "                        nvfuser. Eager defaults to pytorch eager and is useful\r\n",
      "                        for debugging. nvfuser path uses AOT Autograd and\r\n",
      "                        nvfuser compiler to optimize the models. (default:\r\n",
      "                        None)\r\n",
      "  --ray_scope RAY_SCOPE\r\n",
      "                        The scope to use when doing hyperparameter search with\r\n",
      "                        Ray. By default, `\"last\"` will be used. Ray will then\r\n",
      "                        use the last checkpoint of all trials, compare those,\r\n",
      "                        and select the best one. However, other options are\r\n",
      "                        also available. See the Ray documentation (https://doc\r\n",
      "                        s.ray.io/en/latest/tune/api_docs/analysis.html#ray.tun\r\n",
      "                        e.ExperimentAnalysis.get_best_trial) for more options.\r\n",
      "                        (default: last)\r\n",
      "  --ddp_timeout DDP_TIMEOUT\r\n",
      "                        Overrides the default timeout for distributed training\r\n",
      "                        (value should be given in seconds). (default: 1800)\r\n",
      "  --sortish_sampler [SORTISH_SAMPLER]\r\n",
      "                        Whether to use SortishSampler or not. (default: False)\r\n",
      "  --predict_with_generate [PREDICT_WITH_GENERATE]\r\n",
      "                        Whether to use generate to calculate generative\r\n",
      "                        metrics (ROUGE, BLEU). (default: False)\r\n",
      "  --generation_max_length GENERATION_MAX_LENGTH\r\n",
      "                        The `max_length` to use on each evaluation loop when\r\n",
      "                        `predict_with_generate=True`. Will default to the\r\n",
      "                        `max_length` value of the model configuration.\r\n",
      "                        (default: None)\r\n",
      "  --generation_num_beams GENERATION_NUM_BEAMS\r\n",
      "                        The `num_beams` to use on each evaluation loop when\r\n",
      "                        `predict_with_generate=True`. Will default to the\r\n",
      "                        `num_beams` value of the model configuration.\r\n",
      "                        (default: None)\r\n"
     ]
    }
   ],
   "source": [
    "!python run_summarization.py -h"
   ]
  },
  {
   "cell_type": "markdown",
   "metadata": {},
   "source": [
    "## fine-tune command\n",
    "\n",
    "This command is used for fine-tuning, which should be executed in a terminal\n",
    "\n",
    "We choose the [google/mt5-base](https://huggingface.co/google/mt5-base) pre-trained model, which is a sequence to sequence multilingual model, covering 101 languages. \n",
    "\n",
    "We can also choose different training dataset for fine-tuning, e.g. zero-shot only with English questions or a dataset contains more languages. \n",
    "\n",
    "Following is an example to use 4 languages: English, German, Russian, and France for 200 epochs."
   ]
  },
  {
   "cell_type": "code",
   "execution_count": null,
   "metadata": {
    "colab": {
     "base_uri": "https://localhost:8080/"
    },
    "id": "3SgZotJgBune",
    "outputId": "645b8bf2-4824-4dc1-effe-8196df03b865"
   },
   "outputs": [],
   "source": [
    "!python run_summarization.py    \\\n",
    "    --model_name_or_path google/mt5-base  \\\n",
    "    --do_train True  \\\n",
    "    --train_file wikidata_en_de_ru_fr.csv   \\\n",
    "    --output_dir en_de_ru_fr  \\\n",
    "    --num_train_epochs 200  \\\n",
    "    --overwrite_output_dir True  \\\n",
    "    --max_target_length 1024   \\\n",
    "    --per_device_train_batch_size 4   \\\n",
    "    --save_steps 20000"
   ]
  },
  {
   "cell_type": "markdown",
   "metadata": {
    "tags": []
   },
   "source": [
    "# Manual Test with questions\n",
    "\n",
    "After fine-tuning, we test our model with some simple questions first. "
   ]
  },
  {
   "cell_type": "code",
   "execution_count": 9,
   "metadata": {},
   "outputs": [
    {
     "name": "stderr",
     "output_type": "stream",
     "text": [
      "/upb/users/m/mengshim/profiles/unix/cs/miniconda3/envs/mengshi/lib/python3.9/site-packages/tqdm/auto.py:22: TqdmWarning: IProgress not found. Please update jupyter and ipywidgets. See https://ipywidgets.readthedocs.io/en/stable/user_install.html\n",
      "  from .autonotebook import tqdm as notebook_tqdm\n"
     ]
    }
   ],
   "source": [
    "from transformers import pipeline\n",
    "\n",
    "def get_question_answer(question):\n",
    "    return summarizer(question)[0]['summary_text']\n",
    "\n",
    "def answer_questions(questions_list):\n",
    "    for q in questions_list:\n",
    "        print(\"Q: \"+q)\n",
    "        print(\"A: \"+get_question_answer(q))\n",
    "        print()"
   ]
  },
  {
   "cell_type": "markdown",
   "metadata": {},
   "source": [
    "Define some questions in a list"
   ]
  },
  {
   "cell_type": "code",
   "execution_count": 10,
   "metadata": {},
   "outputs": [],
   "source": [
    "test_questions = [\n",
    "    \"Где умер Хиллел Словак?\",                          # ru\n",
    "    \"When was the Statue of Liberty built?\",            # en\n",
    "    \"Who is the mayor of Paris?\",                       # en\n",
    "    \"Išvardykite visas Australijos metalcore grupes\"    # lt\n",
    "]"
   ]
  },
  {
   "cell_type": "markdown",
   "metadata": {},
   "source": [
    "Load our fine-tuned 'en_de_ru_fr' model in a summarization pipeline"
   ]
  },
  {
   "cell_type": "code",
   "execution_count": 11,
   "metadata": {},
   "outputs": [],
   "source": [
    "checkpoint_path = 'en_de_ru_fr'\n",
    "summarizer = pipeline(\"summarization\", model=checkpoint_path, max_length=100)"
   ]
  },
  {
   "cell_type": "markdown",
   "metadata": {},
   "source": [
    "answer questions from `test_questions`"
   ]
  },
  {
   "cell_type": "code",
   "execution_count": 12,
   "metadata": {},
   "outputs": [
    {
     "name": "stderr",
     "output_type": "stream",
     "text": [
      "Your max_length is set to 100, but you input_length is only 11. You might consider decreasing max_length manually, e.g. summarizer('...', max_length=5)\n"
     ]
    },
    {
     "name": "stdout",
     "output_type": "stream",
     "text": [
      "Q: Где умер Хиллел Словак?\n"
     ]
    },
    {
     "name": "stderr",
     "output_type": "stream",
     "text": [
      "Your max_length is set to 100, but you input_length is only 13. You might consider decreasing max_length manually, e.g. summarizer('...', max_length=6)\n"
     ]
    },
    {
     "name": "stdout",
     "output_type": "stream",
     "text": [
      "A: SELECT DISTINCT var_uri WHERE bra_open wd_Q186924 wdt_P20 var_uri sep_dot bra_close \n",
      "\n",
      "Q: When was the Statue of Liberty built?\n"
     ]
    },
    {
     "name": "stderr",
     "output_type": "stream",
     "text": [
      "Your max_length is set to 100, but you input_length is only 8. You might consider decreasing max_length manually, e.g. summarizer('...', max_length=4)\n"
     ]
    },
    {
     "name": "stdout",
     "output_type": "stream",
     "text": [
      "A: SELECT DISTINCT var_date WHERE bra_open wd_Q9202 wdt_P571 var_date sep_dot bra_close \n",
      "\n",
      "Q: Who is the mayor of Paris?\n"
     ]
    },
    {
     "name": "stderr",
     "output_type": "stream",
     "text": [
      "Your max_length is set to 100, but you input_length is only 12. You might consider decreasing max_length manually, e.g. summarizer('...', max_length=6)\n"
     ]
    },
    {
     "name": "stdout",
     "output_type": "stream",
     "text": [
      "A: SELECT DISTINCT var_uri WHERE bra_open wd_Q90 wdt_P6 var_uri sep_dot bra_close \n",
      "\n",
      "Q: Išvardykite visas Australijos metalcore grupes\n",
      "A: SELECT DISTINCT var_uri WHERE bra_open var_uri wdt_P31 wd_Q215380 ; wdt_P495 wd_Q408 ; wdt_P136 wd_Q183862 sep_dot bra_close \n",
      "\n"
     ]
    }
   ],
   "source": [
    "answer_questions(test_questions)"
   ]
  },
  {
   "cell_type": "markdown",
   "metadata": {},
   "source": [
    "We see that at least the structures of predicted sequences are the same as SPARQL queries. \n",
    "When special tokens are replaced with normal symbols in SPARQL query, they can be executed. \n",
    "Even though the answers are not guaranteed to be correct since entities or relations could be wrong, it proves the feasibility of this approach. "
   ]
  },
  {
   "cell_type": "markdown",
   "metadata": {},
   "source": [
    "- Why wikidata not dbpedia?\n",
    "\n",
    "    - Because of the representation of entities and relations. \n",
    "    - In dbpedia SPARQL queries, the entities and relations are represented explicitly, namely with there names. But in multilingal case, the generated sequence can also contain entities and relations in other languages, which reduces the possibility to retrieve the correct answer. \n",
    "    - In wikidata SPARQL queries, they are represented implicitly. For us, we don't know the meaning of e.g. wd:Q215380, but it is easier for the language model to map an entity in different language to the same entity in wikidata. "
   ]
  },
  {
   "cell_type": "markdown",
   "metadata": {
    "tags": []
   },
   "source": [
    "# Generate qald answer dataset for gerbil\n",
    "\n",
    "To show a quantitative evaluation, we use qald_9_plus_test dataset and evaluate with [gerbil](http://gerbil-qa.cs.upb.de:8080/gerbil/config). \n",
    "\n",
    "Since we don't have an endpoint for gerbil to send request, we need to construct a file in qald format with natural language questions, queries generated by our fine-tuned model, and answers retrieved from wikidata. \n",
    "\n",
    "We do the following steps:\n",
    "\n",
    "- read qald_9_plus_test dataset and get natural language questions\n",
    "- load our fine-tuned model and predict a SPARQL query for each question\n",
    "- replace the special tokens from predicted sequence to normal symbols to make them executable\n",
    "- send request to endpoint of wikidata to get answers for generated SPARQL queries\n",
    "- construct a file in QALD format"
   ]
  },
  {
   "cell_type": "markdown",
   "metadata": {
    "jp-MarkdownHeadingCollapsed": true,
    "tags": []
   },
   "source": [
    "## postprocessing functions"
   ]
  },
  {
   "cell_type": "code",
   "execution_count": 4,
   "metadata": {},
   "outputs": [],
   "source": [
    "replacement_back = [\n",
    "    [\"var-\", \" ?\"],\n",
    "    [\"var_\", \" ?\"],\n",
    "    [\"var=\", \" ?\"],\n",
    "    [\"var \", \" ?\"],\n",
    "    [\"var _\", \" ?\"],\n",
    "    [\"bra_open\", \" { \"],\n",
    "    [\"bra_close\", \" } \"],\n",
    "    [\"bra-close\", \" } \"],\n",
    "    [\"sep_dot\", \".\"],\n",
    "    [\"sep_or\", \"|\"],\n",
    "    [\"res_\", \"dbr:\"],\n",
    "    [\"dbo_\", \"dbo:\"],\n",
    "    [\"dbp_\", \"dbp:\"],\n",
    "    [\"dbr_\", \"dbr:\"],\n",
    "    [\"dct_\", \"dct:\"],\n",
    "    [\"yago_\", \"yago:\"],\n",
    "    [\"onto_\", \"onto:\"],\n",
    "    [\"rdf_type\", \"rdf:type\"],\n",
    "    [\"wd_\", \"wd:\"],\n",
    "    [\"wdt_\", \"wdt:\"],\n",
    "]"
   ]
  },
  {
   "cell_type": "code",
   "execution_count": 5,
   "metadata": {},
   "outputs": [],
   "source": [
    "from typing import Any\n",
    "from typing import Dict\n",
    "\n",
    "from SPARQLWrapper import JSON\n",
    "from SPARQLWrapper import SPARQLWrapper\n",
    "from SPARQLWrapper.SPARQLExceptions import SPARQLWrapperException\n",
    "\n",
    "import requests\n",
    "\n",
    "\n",
    "def ask_dbpedia(question: str, sparql_query: str, lang: str) -> Dict[str, Any]:\n",
    "    \"\"\"Send a SPARQL-query to DBpedia and return a formated QALD-string containing the answers.\n",
    "\n",
    "    Parameters\n",
    "    ----------\n",
    "    question : str\n",
    "        Natural language question asked by an enduser.\n",
    "    sparql_query : str\n",
    "        SPARQL-query to be sent to DBpedia. Should correspond to the question.\n",
    "    lang : str\n",
    "        Language tag for the question (should always be \"en\").\n",
    "\n",
    "    Returns\n",
    "    -------\n",
    "    qald_answer : str\n",
    "        Formated string in the QALD-format containing the answers for the sparql_query.\n",
    "    \"\"\"\n",
    "    # print(\"SPARQL-Query:\", sparql_query.encode(\"utf-8\"))\n",
    "\n",
    "    try:\n",
    "        sparql = SPARQLWrapper(\"http://dbpedia.org/sparql/\")\n",
    "        sparql.setReturnFormat(JSON)\n",
    "        sparql.setQuery(sparql_query)\n",
    "        return sparql.query().convert()\n",
    "    except SPARQLWrapperException as exception:\n",
    "        return {\"answers\": [{\"head\": {\"vars\": []}, \"results\": {\"bindings\": []}}]}\n",
    "\n",
    "def ask_wikidata(question, sparql_query, lang):\n",
    "    url = 'https://query.wikidata.org/sparql'\n",
    "    try:\n",
    "        r = requests.get(url, params = {'format': 'json', 'query': sparql_query})\n",
    "        return r.json()\n",
    "    except:\n",
    "        return {\"answers\": [{\"head\": {\"vars\": []}, \"results\": {\"bindings\": []}}]}"
   ]
  },
  {
   "cell_type": "code",
   "execution_count": 8,
   "metadata": {},
   "outputs": [],
   "source": [
    "from http.client import SWITCHING_PROTOCOLS\n",
    "from sys import setswitchinterval\n",
    "from transformers import pipeline\n",
    "import json\n",
    "import time\n",
    "\n",
    "def init_summarizer(checkpoint_path):\n",
    "    return pipeline(\"summarization\", model = checkpoint_path, max_length=128)\n",
    "\n",
    "def load_test_dataset_in_json(test_dataset_path):\n",
    "    with open(test_dataset_path, 'r') as f:\n",
    "        testset = json.load(f)\n",
    "    return testset\n",
    "\n",
    "def build_qald_entry(id, question_string, sparql_query, answer, language):\n",
    "    # id-Object\n",
    "    json_id = {\"id\": id}\n",
    "\n",
    "    # question-Object\n",
    "    json_question = {\"question\": [{\"language\": language, \"string\": question_string}]}\n",
    "\n",
    "    # query-Object\n",
    "    json_query = {\"query\": {\"sparql\": sparql_query}}\n",
    "\n",
    "    # answers-Object\n",
    "    json_answers: Dict = {\"answers\": [answer]}\n",
    "\n",
    "    # Combined-Object\n",
    "    questions_obj = {\n",
    "        \"id\": json_id[\"id\"],\n",
    "        \"question\": json_question[\"question\"],\n",
    "        \"query\": json_query[\"query\"],\n",
    "        \"answers\": json_answers[\"answers\"],\n",
    "    }\n",
    "    \n",
    "    return questions_obj\n",
    "\n",
    "def post_processing_sparql(sparql_query):\n",
    "    for r in replacement_back:\n",
    "        if r[0] in sparql_query:\n",
    "            sparql_query = sparql_query.replace(r[0], r[1])\n",
    "    return sparql_query\n",
    "\n",
    "def build_answer_qald_json(testset, summarizer, kg, language):\n",
    "    questions_with_answer: Dict = {\"questions\": []}\n",
    "    questions_list = testset[\"questions\"]\n",
    "    for question_dict in questions_list:\n",
    "        for question in question_dict[\"question\"]:\n",
    "            if question[\"language\"] == language:\n",
    "                print(\"processing question id \" + question_dict[\"id\"])\n",
    "                question_string = question[\"string\"]\n",
    "                print(\"question: \" + question_string)\n",
    "                sparql_query = summarizer(question_string)[0]['summary_text']\n",
    "                sparql_query = post_processing_sparql(sparql_query)\n",
    "                print(\"query: \" + sparql_query)\n",
    "                if kg == \"dbpedia\":\n",
    "                    answer = ask_dbpedia(question_string, sparql_query, language)\n",
    "                elif kg == \"wikidata\":\n",
    "                    answer = ask_wikidata(question_string, sparql_query, language)\n",
    "                questions_with_answer[\"questions\"].append(\n",
    "                    build_qald_entry(question_dict[\"id\"], \n",
    "                                     question_string, \n",
    "                                     sparql_query, \n",
    "                                     answer,\n",
    "                                     language)\n",
    "                )\n",
    "                break\n",
    "    return questions_with_answer\n",
    "\n",
    "def export_json(data):\n",
    "    t = time.strftime(\"%m.%d.%Y_%H:%M\")\n",
    "    file_name = \"gerbil_eval_\" + t + \".json\"\n",
    "    f = open(file_name, 'w+', encoding = 'utf-8')\n",
    "    json.dump(data, f, ensure_ascii=False, indent=4)\n",
    "    print(\"json file is exported in \" + file_name)\n",
    "\n",
    "def build_qald_evaluation_set(test_dataset, checkpoint_path, kg, language=\"en\"):\n",
    "    summarizer = init_summarizer(checkpoint_path)\n",
    "    print(\"initialized summarizer from path \" + checkpoint_path)\n",
    "    testset_json = load_test_dataset_in_json(test_dataset)\n",
    "    print(\"test set loaded from \" + test_dataset)\n",
    "    qald_json_for_evaluation = build_answer_qald_json(testset_json, summarizer, kg, language)\n",
    "    export_json(qald_json_for_evaluation)\n",
    "    \n"
   ]
  },
  {
   "cell_type": "markdown",
   "metadata": {
    "tags": []
   },
   "source": [
    "## Generate for test dataset and a fine-tuned model and results for the combination\n",
    "\n",
    "The file in QALD format with answers is uploaded to gerbil with the gold qald_9_plus_test dataset for evaluation. \n",
    "\n",
    "Here, I tested two models \n",
    "- \"zero-shot\" model is trained on English questions only for 300 epochs\n",
    "- \"en_de_ru_fr\" model is trained on English, German, Russian, and France questions for 200 epochs\n",
    "\n",
    "For some questions there are multiple translations in other languages than English. \n",
    "In this case we choose the first translation to avoid unbalancing."
   ]
  },
  {
   "cell_type": "markdown",
   "metadata": {},
   "source": [
    "### zero-shot\n",
    "\n",
    "Results for zero-shot model, tested on English, German, and Russian. \n",
    "\n",
    "| language | Macro F1 | Macro Precision | Macro Recall | Macro F1 QALD |\n",
    "|----------|----------|-----------------|--------------|---------------|\n",
    "| en       | 0.2391   | 0.2542          | 0.2376       | 0.346         |\n",
    "| de       | 0.1565   | 0.1752          | 0.1546       | 0.2478        |\n",
    "| ru       | 0.1236   | 0.136           | 0.128        | 0.2139        |"
   ]
  },
  {
   "cell_type": "code",
   "execution_count": null,
   "metadata": {},
   "outputs": [],
   "source": [
    "build_qald_evaluation_set(\n",
    "    \"qald_9_plus_test_wikidata.json\",\n",
    "    \"en_zero-shot\",\n",
    "    \"wikidata\"\n",
    ")"
   ]
  },
  {
   "cell_type": "markdown",
   "metadata": {},
   "source": [
    "- en: http://gerbil-qa.cs.upb.de:8080/gerbil/experiment?id=202210230001"
   ]
  },
  {
   "cell_type": "code",
   "execution_count": null,
   "metadata": {},
   "outputs": [],
   "source": [
    "build_qald_evaluation_set(\n",
    "    \"qald_9_plus_test_wikidata.json\",\n",
    "    \"en_zero-shot\",\n",
    "    \"wikidata\",\n",
    "    \"de\"\n",
    ")"
   ]
  },
  {
   "cell_type": "markdown",
   "metadata": {},
   "source": [
    "- de: http://gerbil-qa.cs.upb.de:8080/gerbil/experiment?id=202210260000"
   ]
  },
  {
   "cell_type": "code",
   "execution_count": null,
   "metadata": {},
   "outputs": [],
   "source": [
    "build_qald_evaluation_set(\n",
    "    \"qald_9_plus_test_wikidata.json\",\n",
    "    \"en_zero-shot\",\n",
    "    \"wikidata\",\n",
    "    \"ru\"\n",
    ")"
   ]
  },
  {
   "cell_type": "markdown",
   "metadata": {},
   "source": [
    "- ru: http://gerbil-qa.cs.upb.de:8080/gerbil/experiment?id=202210260000"
   ]
  },
  {
   "cell_type": "markdown",
   "metadata": {},
   "source": [
    "### en_de_ru_fr model\n",
    "\n",
    "Tested on English, German, Russian, and Lithuanian\n",
    "\n",
    "| language | Macro F1 | Macro Precision | Macro Recall | Macro F1 QALD |\n",
    "|----------|----------|-----------------|--------------|---------------|\n",
    "| en       | 0.2245   | 0.2395          | 0.2232       | 0.3095        |\n",
    "| de       | 0.1923   | 0.2026          | 0.1933       | 0.2783        |\n",
    "| ru       | 0.1997   | 0.2064          | 0.2011       | 0.2806        |\n",
    "| lt       | 0.1434   | 0.1544          | 0.1407       | 0.2141        |"
   ]
  },
  {
   "cell_type": "code",
   "execution_count": null,
   "metadata": {},
   "outputs": [],
   "source": [
    "build_qald_evaluation_set(\n",
    "    \"qald_9_plus_test_wikidata.json\",\n",
    "    \"en_de_ru_fr\",\n",
    "    \"wikidata\",\n",
    "    \"en\"\n",
    ")"
   ]
  },
  {
   "cell_type": "markdown",
   "metadata": {},
   "source": [
    "- en: http://gerbil-qa.cs.upb.de:8080/gerbil/experiment?id=202210240000"
   ]
  },
  {
   "cell_type": "code",
   "execution_count": null,
   "metadata": {},
   "outputs": [],
   "source": [
    "build_qald_evaluation_set(\n",
    "    \"qald_9_plus_test_wikidata.json\",\n",
    "    \"en_de_ru_fr\",\n",
    "    \"wikidata\",\n",
    "    \"de\"\n",
    ")"
   ]
  },
  {
   "cell_type": "markdown",
   "metadata": {},
   "source": [
    "- de: http://gerbil-qa.cs.upb.de:8080/gerbil/experiment?id=202210270001"
   ]
  },
  {
   "cell_type": "code",
   "execution_count": null,
   "metadata": {},
   "outputs": [],
   "source": [
    "build_qald_evaluation_set(\n",
    "    \"qald_9_plus_test_wikidata.json\",\n",
    "    \"en_de_ru_fr\",\n",
    "    \"wikidata\",\n",
    "    \"ru\"\n",
    ")"
   ]
  },
  {
   "cell_type": "markdown",
   "metadata": {},
   "source": [
    "- ru: http://gerbil-qa.cs.upb.de:8080/gerbil/experiment?id=202210240002"
   ]
  },
  {
   "cell_type": "code",
   "execution_count": null,
   "metadata": {},
   "outputs": [],
   "source": [
    "build_qald_evaluation_set(\n",
    "    \"qald_9_plus_test_wikidata.json\",\n",
    "    \"en_de_ru_fr\",\n",
    "    \"wikidata\",\n",
    "    \"lt\"\n",
    ")"
   ]
  },
  {
   "cell_type": "markdown",
   "metadata": {},
   "source": [
    "- lt: http://gerbil-qa.cs.upb.de:8080/gerbil/experiment?id=202210250000"
   ]
  },
  {
   "cell_type": "markdown",
   "metadata": {},
   "source": [
    "# Future plan\n",
    "\n",
    "- train tokenizer with SPARQL query\n",
    "- train model with more languages and evaluate on in and out of dataset languages\n",
    "- entity and relation linking (possible in multilingual?)"
   ]
  },
  {
   "cell_type": "markdown",
   "metadata": {},
   "source": [
    "Compare predicted and reference SPARQL query to see how good the model disambiguated entities and relations. calculate F1 score."
   ]
  },
  {
   "cell_type": "markdown",
   "metadata": {},
   "source": []
  }
 ],
 "metadata": {
  "colab": {
   "provenance": []
  },
  "kernelspec": {
   "display_name": "mengshi",
   "language": "python",
   "name": "python3"
  },
  "language_info": {
   "codemirror_mode": {
    "name": "ipython",
    "version": 3
   },
   "file_extension": ".py",
   "mimetype": "text/x-python",
   "name": "python",
   "nbconvert_exporter": "python",
   "pygments_lexer": "ipython3",
   "version": "3.9.13 (main, Oct 13 2022, 21:15:33) \n[GCC 11.2.0]"
  },
  "vscode": {
   "interpreter": {
    "hash": "831f47b340cd9142d044ce7606dedd31def08d9bf4dbb095e8657e50ac098d96"
   }
  }
 },
 "nbformat": 4,
 "nbformat_minor": 4
}
