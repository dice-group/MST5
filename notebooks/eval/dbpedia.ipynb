{
 "cells": [
  {
   "attachments": {},
   "cell_type": "markdown",
   "metadata": {},
   "source": [
    "# Why choose Wikidata, but not DBpedia?"
   ]
  },
  {
   "attachments": {},
   "cell_type": "markdown",
   "metadata": {},
   "source": [
    "In this notebook, we show the reason for choosing Wikidata SPARQL queries instead of DBpedia SPARQL queries. \n",
    "\n",
    "We trained a model using the same setting as our baseline, only change the queries to queries for DBpedia. For DBpedia, there are more queries than for Wikidata, because of the difference of the knowledge in these two knowledge graphs. However, this has no major impact on the results."
   ]
  },
  {
   "cell_type": "code",
   "execution_count": 6,
   "metadata": {},
   "outputs": [],
   "source": [
    "import sys\n",
    "sys.path.append('../../code/')\n",
    "from utils.query import init_summarizer, predict_query\n",
    "from utils.query import postprocess_sparql"
   ]
  },
  {
   "cell_type": "code",
   "execution_count": 20,
   "metadata": {},
   "outputs": [],
   "source": [
    "summarizer = init_summarizer(\"../../fine-tuned_models/mt5-base-qald9-dbpedia/checkpoint-20000\")\n",
    "def predict_and_print_language_query(question):\n",
    "    for lang, question_string in question.items():\n",
    "        query = predict_query(summarizer, question_string)\n",
    "        query = postprocess_sparql(query)\n",
    "        print(f\"{lang}: {query}\")"
   ]
  },
  {
   "attachments": {},
   "cell_type": "markdown",
   "metadata": {},
   "source": [
    "We first show the predicted queries of a simple example question. "
   ]
  },
  {
   "cell_type": "code",
   "execution_count": 21,
   "metadata": {},
   "outputs": [],
   "source": [
    "question = {\n",
    "    \"en\": \"Who is the mayor of Berlin?\",\n",
    "    \"de\": \"Wer ist Bürgermeister von Berlin?\",\n",
    "    \"ru\": \"Кто мэр Берлина?\",\n",
    "    \"uk\": \"Хто є мером Берліну?\",\n",
    "    \"lt\": \"Kas yra Berlyno meras?\",\n",
    "    \"be\": \"Хто мэр Берліна?\",\n",
    "    \"ba\": \"Берлин ҡалаһының мэры кем?\"\n",
    "}"
   ]
  },
  {
   "cell_type": "code",
   "execution_count": 22,
   "metadata": {},
   "outputs": [
    {
     "name": "stderr",
     "output_type": "stream",
     "text": [
      "Your max_length is set to 128, but your input_length is only 8. Since this is a summarization task, where outputs shorter than the input are typically wanted, you might consider decreasing max_length manually, e.g. summarizer('...', max_length=4)\n",
      "Your max_length is set to 128, but your input_length is only 8. Since this is a summarization task, where outputs shorter than the input are typically wanted, you might consider decreasing max_length manually, e.g. summarizer('...', max_length=4)\n"
     ]
    },
    {
     "name": "stdout",
     "output_type": "stream",
     "text": [
      "en: SELECT DISTINCT  ?uri WHERE  {  dbr:Berlin dbo:leaderName  ?uri  }  \n"
     ]
    },
    {
     "name": "stderr",
     "output_type": "stream",
     "text": [
      "Your max_length is set to 128, but your input_length is only 7. Since this is a summarization task, where outputs shorter than the input are typically wanted, you might consider decreasing max_length manually, e.g. summarizer('...', max_length=3)\n"
     ]
    },
    {
     "name": "stdout",
     "output_type": "stream",
     "text": [
      "de: SELECT DISTINCT  ?uri WHERE  {  dbr:Berlin dbo:leaderName  ?uri  }  \n"
     ]
    },
    {
     "name": "stderr",
     "output_type": "stream",
     "text": [
      "Your max_length is set to 128, but your input_length is only 10. Since this is a summarization task, where outputs shorter than the input are typically wanted, you might consider decreasing max_length manually, e.g. summarizer('...', max_length=5)\n"
     ]
    },
    {
     "name": "stdout",
     "output_type": "stream",
     "text": [
      "ru: SELECT DISTINCT  ?uri WHERE  {  dbr:Berlin dbo:leaderName  ?uri  }  \n"
     ]
    },
    {
     "name": "stderr",
     "output_type": "stream",
     "text": [
      "Your max_length is set to 128, but your input_length is only 10. Since this is a summarization task, where outputs shorter than the input are typically wanted, you might consider decreasing max_length manually, e.g. summarizer('...', max_length=5)\n"
     ]
    },
    {
     "name": "stdout",
     "output_type": "stream",
     "text": [
      "uk: SELECT DISTINCT  ?uri WHERE  {  dbr:Brooklyn_Bridge dbo:leaderName  ?uri  }  \n"
     ]
    },
    {
     "name": "stderr",
     "output_type": "stream",
     "text": [
      "Your max_length is set to 128, but your input_length is only 7. Since this is a summarization task, where outputs shorter than the input are typically wanted, you might consider decreasing max_length manually, e.g. summarizer('...', max_length=3)\n"
     ]
    },
    {
     "name": "stdout",
     "output_type": "stream",
     "text": [
      "lt: SELECT DISTINCT  ?uri WHERE  {  dbr:Berlin dbo:leaderName  ?uri  }  \n"
     ]
    },
    {
     "name": "stderr",
     "output_type": "stream",
     "text": [
      "Your max_length is set to 128, but your input_length is only 11. Since this is a summarization task, where outputs shorter than the input are typically wanted, you might consider decreasing max_length manually, e.g. summarizer('...', max_length=5)\n"
     ]
    },
    {
     "name": "stdout",
     "output_type": "stream",
     "text": [
      "be: SELECT DISTINCT  ?uri WHERE  {  dbr:Berlin dbo:leaderName  ?uri  }  \n",
      "ba: SELECT DISTINCT  ?uri WHERE  {  dbr:Berlin dbo:mayor  ?uri  }  \n"
     ]
    }
   ],
   "source": [
    "predict_and_print_language_query(question)"
   ]
  },
  {
   "attachments": {},
   "cell_type": "markdown",
   "metadata": {},
   "source": [
    "Our language model did a good job to predict `dbr:Berlin` and `dbo:leaderName` for the most languages.\n",
    "\n",
    "Let's try with another more complicated question. "
   ]
  },
  {
   "cell_type": "code",
   "execution_count": 23,
   "metadata": {},
   "outputs": [
    {
     "name": "stderr",
     "output_type": "stream",
     "text": [
      "Your max_length is set to 128, but your input_length is only 11. Since this is a summarization task, where outputs shorter than the input are typically wanted, you might consider decreasing max_length manually, e.g. summarizer('...', max_length=5)\n",
      "Your max_length is set to 128, but your input_length is only 12. Since this is a summarization task, where outputs shorter than the input are typically wanted, you might consider decreasing max_length manually, e.g. summarizer('...', max_length=6)\n"
     ]
    },
    {
     "name": "stdout",
     "output_type": "stream",
     "text": [
      "en: SELECT DISTINCT  ?uri WHERE  {  dbr:Bill_Gates dbo:birthPlace  ?uri  }  \n"
     ]
    },
    {
     "name": "stderr",
     "output_type": "stream",
     "text": [
      "Your max_length is set to 128, but your input_length is only 13. Since this is a summarization task, where outputs shorter than the input are typically wanted, you might consider decreasing max_length manually, e.g. summarizer('...', max_length=6)\n"
     ]
    },
    {
     "name": "stdout",
     "output_type": "stream",
     "text": [
      "de: SELECT DISTINCT  ?uri WHERE  {  dbr:Bill_Gates dbo:birthPlace  ?uri  }  \n"
     ]
    },
    {
     "name": "stderr",
     "output_type": "stream",
     "text": [
      "/upb/users/m/mengshim/profiles/unix/cs/miniconda3/envs/mengshi/lib/python3.9/site-packages/transformers/pipelines/base.py:1081: UserWarning: You seem to be using the pipelines sequentially on GPU. In order to maximize efficiency please use a dataset\n",
      "  warnings.warn(\n",
      "Your max_length is set to 128, but your input_length is only 13. Since this is a summarization task, where outputs shorter than the input are typically wanted, you might consider decreasing max_length manually, e.g. summarizer('...', max_length=6)\n"
     ]
    },
    {
     "name": "stdout",
     "output_type": "stream",
     "text": [
      "ru: SELECT DISTINCT  ?uri WHERE  {  dbr:Bill_Eisenberg dbo:birthPlace  ?uri .  ?uri rdf:type dbo:Country  }  \n"
     ]
    },
    {
     "name": "stderr",
     "output_type": "stream",
     "text": [
      "Your max_length is set to 128, but your input_length is only 14. Since this is a summarization task, where outputs shorter than the input are typically wanted, you might consider decreasing max_length manually, e.g. summarizer('...', max_length=7)\n"
     ]
    },
    {
     "name": "stdout",
     "output_type": "stream",
     "text": [
      "uk: SELECT DISTINCT  ?uri WHERE  {  dbr:William_Eisenberg dbo:birthPlace  ?uri  }  \n"
     ]
    },
    {
     "name": "stderr",
     "output_type": "stream",
     "text": [
      "Your max_length is set to 128, but your input_length is only 14. Since this is a summarization task, where outputs shorter than the input are typically wanted, you might consider decreasing max_length manually, e.g. summarizer('...', max_length=7)\n"
     ]
    },
    {
     "name": "stdout",
     "output_type": "stream",
     "text": [
      "be: SELECT DISTINCT  ?uri WHERE  {  dbr:Bile_Getchie dbo:birthPlace  ?uri  }  \n"
     ]
    },
    {
     "name": "stderr",
     "output_type": "stream",
     "text": [
      "Your max_length is set to 128, but your input_length is only 17. Since this is a summarization task, where outputs shorter than the input are typically wanted, you might consider decreasing max_length manually, e.g. summarizer('...', max_length=8)\n"
     ]
    },
    {
     "name": "stdout",
     "output_type": "stream",
     "text": [
      "lt: SELECT DISTINCT  ?uri WHERE  {  dbr:William_Gates dbo:birthPlace  ?uri  }  \n",
      "ba: SELECT DISTINCT  ?uri WHERE  {  dbr:William_Gereots dbo:birthPlace  ?uri .  ?uri rdf:type dbo:Country  }  \n"
     ]
    }
   ],
   "source": [
    "question = {\n",
    "    \"en\": \"Which country was Bill Gates born in?\",\n",
    "    \"de\": \"In welchen Land wurde Bill Gates geboren?\",\n",
    "    \"ru\": \"В какой стране родился Билл Гейтс?\",\n",
    "    \"uk\": \"У якій країні народився Білл Гейтс?\",\n",
    "    \"be\": \"У якой краіне нарадзіўся Біл Гейтс?\",\n",
    "    \"lt\": \"Kokioje šalyje gimė Billas Gatesas?\",\n",
    "    \"ba\": \"Билл гейтс тыуған илде ниндәй?\"\n",
    "}\n",
    "predict_and_print_language_query(question)"
   ]
  },
  {
   "cell_type": "code",
   "execution_count": null,
   "metadata": {},
   "outputs": [],
   "source": []
  }
 ],
 "metadata": {
  "kernelspec": {
   "display_name": "mengshi",
   "language": "python",
   "name": "python3"
  },
  "language_info": {
   "codemirror_mode": {
    "name": "ipython",
    "version": 3
   },
   "file_extension": ".py",
   "mimetype": "text/x-python",
   "name": "python",
   "nbconvert_exporter": "python",
   "pygments_lexer": "ipython3",
   "version": "3.9.0"
  },
  "orig_nbformat": 4
 },
 "nbformat": 4,
 "nbformat_minor": 2
}
