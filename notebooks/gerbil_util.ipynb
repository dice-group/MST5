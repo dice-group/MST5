{
 "cells": [
  {
   "cell_type": "markdown",
   "metadata": {},
   "source": [
    "### Notebook to perform gerbil related actions"
   ]
  },
  {
   "cell_type": "markdown",
   "metadata": {},
   "source": [
    "#### Submit Gerbil experiments individually for each language"
   ]
  },
  {
   "cell_type": "markdown",
   "metadata": {},
   "source": [
    "# variables\n",
    "reference_file_path = \"datasets/qald9plus/wikidata/qald_9_plus_test_wikidata.json\"\n",
    "reference_file_label = \"QALD 9 Plus - Test\"\n",
    "\n",
    "prediction_root = \"predictions_qald9plus_test\"\n",
    "prediction_models = \"all\"\n",
    "\n",
    "languages = [\"en\"]"
   ]
  }
 ],
 "metadata": {
  "language_info": {
   "name": "python"
  },
  "orig_nbformat": 4
 },
 "nbformat": 4,
 "nbformat_minor": 2
}
