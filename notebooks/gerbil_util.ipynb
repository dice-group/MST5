{
 "cells": [
  {
   "cell_type": "markdown",
   "metadata": {},
   "source": [
    "### Notebook to perform gerbil related actions"
   ]
  },
  {
   "cell_type": "markdown",
   "metadata": {},
   "source": [
    "#### Submit Gerbil experiments individually for each language"
   ]
  },
  {
   "cell_type": "markdown",
   "metadata": {},
   "source": [
    "**Set variables**"
   ]
  },
  {
   "cell_type": "code",
   "execution_count": null,
   "metadata": {
    "tags": []
   },
   "outputs": [],
   "source": [
    "# imports\n",
    "import os\n",
    "import time\n",
    "from tqdm import tqdm\n",
    "import sys\n",
    "sys.path.append('../code/')\n",
    "from components.Gerbil import Gerbil"
   ]
  },
  {
   "cell_type": "code",
   "execution_count": null,
   "metadata": {
    "tags": []
   },
   "outputs": [],
   "source": [
    "# variables\n",
    "# reference_file = \"../datasets/qald9plus/wikidata/qald_9_plus_test_wikidata.json\"\n",
    "# reference_file_label = \"QALD 9 Plus - Test\"\n",
    "reference_file = \"../datasets/qald10/qald_10.json\"\n",
    "reference_file_label = \"QALD 10\"\n",
    "\n",
    "# prediction_root = \"../predictions_qald9plus_test_multilingual\"\n",
    "prediction_root = \"../predictions_qald10_multilingual/\"\n",
    "\n",
    "prediction_models = []\n",
    "\n",
    "# Use the loop below if you want all directories to be evaluated by Gerbil\n",
    "for file in os.listdir(prediction_root):\n",
    "    d = os.path.join(prediction_root, file)\n",
    "    if os.path.isdir(d):\n",
    "        prediction_models.append(file)\n",
    "\n",
    "# languages = [\"en\",\"de\",\"ru\",\"fr\",\"lt\",\"ba\",\"be\",\"uk\",\"zh\",\"ja\",\"es\"]\n",
    "languages = [\"en\",\"de\",\"ru\",\"zh\"]"
   ]
  },
  {
   "cell_type": "markdown",
   "metadata": {},
   "source": [
    "**Submit experiments**"
   ]
  },
  {
   "cell_type": "code",
   "execution_count": null,
   "metadata": {
    "tags": []
   },
   "outputs": [],
   "source": [
    "# Gerbil evaluation\n",
    "gerbil_dict = dict()\n",
    "# for each prediction model\n",
    "for pred_model in tqdm(prediction_models):\n",
    "    print('Processing predictions for %s' % pred_model)\n",
    "    pred_path = f\"{prediction_root}/{pred_model}\"\n",
    "    # Gerbil experiments\n",
    "    gerbil_lang_dict = dict()\n",
    "    \n",
    "    for language in languages:\n",
    "        print('Uploading results to Gerbil for %s' % language)\n",
    "        model_name = pred_model\n",
    "        # Initializing Gerbil object\n",
    "        gerbil = Gerbil()\n",
    "        gerbil.add_ref_file(reference_file_label, reference_file)\n",
    "        \n",
    "        output_file = f\"{pred_path}/{language}.json\"\n",
    "        \n",
    "        gerbil.add_pred_file(f\"{model_name}-{language}\", output_file, language)\n",
    "        response = gerbil.submit_experiment(language)\n",
    "        print(response)\n",
    "        exp_uri_file = f\"{pred_path}/exp_uri_{language}\"\n",
    "        # Write the experiment URI to a file\n",
    "        if response and response.text:\n",
    "            print('Gerbil response %s' % response.text)\n",
    "            exp_id = response.text\n",
    "            exp_id = \"https://gerbil-qa.aksw.org/gerbil/experiment?id=\" + exp_id.strip()\n",
    "            with open(exp_uri_file, 'w') as exp_det:\n",
    "                exp_det.write(exp_id + '\\n')\n",
    "        # Save gerbil object for export later\n",
    "        gerbil_lang_dict[language] = gerbil\n",
    "        time.sleep(10)\n",
    "    gerbil_dict[pred_path] = gerbil_lang_dict"
   ]
  },
  {
   "cell_type": "markdown",
   "metadata": {},
   "source": [
    "**Export experiment results**"
   ]
  },
  {
   "cell_type": "code",
   "execution_count": null,
   "metadata": {
    "tags": []
   },
   "outputs": [],
   "source": [
    "# Export Gerbil results\n",
    "for pred_path in gerbil_dict:\n",
    "    gerbil_lang_dict = gerbil_dict[pred_path]\n",
    "    # Export the Gerbil result files\n",
    "    for key in gerbil_lang_dict:\n",
    "        result_file_name = f\"{pred_path}/result_{key}.csv\"\n",
    "        gerbil : Gerbil = gerbil_lang_dict[key]\n",
    "        # Export results to a csv\n",
    "        gerbil.export_results(result_file_name)"
   ]
  },
  {
   "cell_type": "markdown",
   "metadata": {},
   "source": [
    "**Display formatted results**"
   ]
  },
  {
   "cell_type": "code",
   "execution_count": null,
   "metadata": {
    "tags": []
   },
   "outputs": [],
   "source": [
    "# for each prediction model\n",
    "for pred_model in prediction_models:\n",
    "    pred_path = f\"{prediction_root}/{pred_model}\"\n",
    "    for language in languages:\n",
    "        result_file_name = f\"{pred_path}/result_{language}.csv\"\n",
    "        uri_file_name = f\"{pred_path}/exp_uri_{language}\"\n",
    "        with open(result_file_name, 'r') as rf, open(uri_file_name, 'r') as uf:\n",
    "            header = rf.readline()\n",
    "            results = rf.readline().rstrip().split(',')\n",
    "            uri = uf.readline().rstrip()\n",
    "            print(pred_model + '\\t' + ('\\t'.join(results)) + '\\t' + uri)"
   ]
  },
  {
   "cell_type": "code",
   "execution_count": null,
   "metadata": {},
   "outputs": [],
   "source": []
  }
 ],
 "metadata": {
  "kernelspec": {
   "display_name": "mengshi_thesis_exp9",
   "language": "python",
   "name": "mengshi_thesis_exp9"
  },
  "language_info": {
   "codemirror_mode": {
    "name": "ipython",
    "version": 3
   },
   "file_extension": ".py",
   "mimetype": "text/x-python",
   "name": "python",
   "nbconvert_exporter": "python",
   "pygments_lexer": "ipython3",
   "version": "3.9.17"
  }
 },
 "nbformat": 4,
 "nbformat_minor": 4
}
