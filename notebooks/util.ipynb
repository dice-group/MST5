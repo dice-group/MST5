{
 "cells": [
  {
   "cell_type": "markdown",
   "metadata": {},
   "source": [
    "### Notebook to perform general utility actions"
   ]
  },
  {
   "cell_type": "markdown",
   "metadata": {},
   "source": [
    "#### Update the answers in a QALD file from remote endpoint"
   ]
  },
  {
   "cell_type": "code",
   "execution_count": 1,
   "metadata": {},
   "outputs": [],
   "source": [
    "# imports\n",
    "import sys\n",
    "sys.path.append('../code/')\n",
    "from utils.gen_util import update_qald_dataset"
   ]
  },
  {
   "cell_type": "code",
   "execution_count": 2,
   "metadata": {},
   "outputs": [],
   "source": [
    "# Set variables\n",
    "#input_file_path = \"../datasets/qald9plus/wikidata/qald_9_plus_test_wikidata_new.json\"\n",
    "#output_file_path = \"../datasets/qald9plus/wikidata/qald_9_plus_test_wikidata_latest.json\"\n",
    "input_file_path = \"../datasets/qald10/qald_10.json\"\n",
    "output_file_path = \"../datasets/qald10/qald_10_latest.json\"\n",
    "kg = \"Wikidata\"\n",
    "#languages = [\"en\", \"de\", \"ru\", \"fr\", \"lt\", \"ba\", \"be\", \"uk\", \"zh\", \"ja\", \"es\"]\n",
    "languages = [\"en\", \"de\", \"ru\", \"zh\"]"
   ]
  },
  {
   "cell_type": "code",
   "execution_count": 3,
   "metadata": {},
   "outputs": [
    {
     "name": "stdout",
     "output_type": "stream",
     "text": [
      "json file is exported to  ../datasets/qald10/qald_10_latest.json\n"
     ]
    }
   ],
   "source": [
    "update_qald_dataset(input_file_path, output_file_path, languages, kg)"
   ]
  },
  {
   "cell_type": "markdown",
   "metadata": {},
   "source": [
    "#### Convert LcQUAD2 dataset to QALD based format"
   ]
  },
  {
   "cell_type": "code",
   "execution_count": 1,
   "metadata": {},
   "outputs": [],
   "source": [
    "# imports\n",
    "import sys\n",
    "sys.path.append('../code/')\n",
    "from utils.gen_util import convert_lcquad2_to_qald"
   ]
  },
  {
   "cell_type": "code",
   "execution_count": 2,
   "metadata": {},
   "outputs": [],
   "source": [
    "# Set variables\n",
    "input_file_path = \"../datasets/lcquad2/test.json\"\n",
    "output_file_path = \"../datasets/qald_lcquad2/test_qald.json\""
   ]
  },
  {
   "cell_type": "code",
   "execution_count": 3,
   "metadata": {},
   "outputs": [
    {
     "name": "stdout",
     "output_type": "stream",
     "text": [
      "json file is exported to  ../datasets/qald_lcquad2/test_qald.json\n"
     ]
    }
   ],
   "source": [
    "convert_lcquad2_to_qald(input_file_path, output_file_path)"
   ]
  },
  {
   "cell_type": "code",
   "execution_count": null,
   "metadata": {},
   "outputs": [],
   "source": []
  }
 ],
 "metadata": {
  "kernelspec": {
   "display_name": "mengshi_thesis_exp9",
   "language": "python",
   "name": "python3"
  },
  "language_info": {
   "codemirror_mode": {
    "name": "ipython",
    "version": 3
   },
   "file_extension": ".py",
   "mimetype": "text/x-python",
   "name": "python",
   "nbconvert_exporter": "python",
   "pygments_lexer": "ipython3",
   "version": "3.9.17"
  },
  "orig_nbformat": 4
 },
 "nbformat": 4,
 "nbformat_minor": 2
}
