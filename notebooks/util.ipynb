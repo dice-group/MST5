{
 "cells": [
  {
   "cell_type": "markdown",
   "metadata": {},
   "source": [
    "### Notebook to perform general utility actions"
   ]
  },
  {
   "cell_type": "markdown",
   "metadata": {},
   "source": [
    "#### Update the answers in a QALD file from remote endpoint"
   ]
  },
  {
   "cell_type": "code",
   "execution_count": null,
   "metadata": {
    "tags": []
   },
   "outputs": [],
   "source": [
    "# imports\n",
    "import sys\n",
    "sys.path.append('../code/')\n",
    "from utils.gen_util import update_qald_dataset"
   ]
  },
  {
   "cell_type": "code",
   "execution_count": null,
   "metadata": {},
   "outputs": [],
   "source": [
    "# Set variables\n",
    "input_file_path = \"../datasets/qald9plus/wikidata/qald_9_plus_test_wikidata.json\"\n",
    "output_file_path = \"../datasets/qald9plus/wikidata/qald_9_plus_test_wikidata_updated.json\"\n",
    "#input_file_path = \"../datasets/qald10/qald_10.json\"\n",
    "#output_file_path = \"../datasets/qald10/qald_10_latest.json\"\n",
    "kg = \"Wikidata\"\n",
    "languages = [\"en\", \"de\", \"ru\", \"fr\", \"lt\", \"ba\", \"be\", \"uk\", \"zh\", \"ja\", \"es\"]\n",
    "#languages = [\"en\", \"de\", \"ru\", \"zh\", \"ja\"]"
   ]
  },
  {
   "cell_type": "code",
   "execution_count": null,
   "metadata": {
    "tags": []
   },
   "outputs": [],
   "source": [
    "update_qald_dataset(input_file_path, output_file_path, languages, kg)"
   ]
  },
  {
   "cell_type": "markdown",
   "metadata": {},
   "source": [
    "#### Convert LcQUAD2 dataset to QALD based format"
   ]
  },
  {
   "cell_type": "code",
   "execution_count": null,
   "metadata": {},
   "outputs": [],
   "source": [
    "# imports\n",
    "import sys\n",
    "sys.path.append('../code/')\n",
    "from utils.gen_util import convert_lcquad2_to_qald"
   ]
  },
  {
   "cell_type": "code",
   "execution_count": null,
   "metadata": {},
   "outputs": [],
   "source": [
    "# Set variables\n",
    "input_file_path = \"../datasets/lcquad2/test.json\"\n",
    "output_file_path = \"../datasets/qald_lcquad2/test_qald.json\""
   ]
  },
  {
   "cell_type": "code",
   "execution_count": null,
   "metadata": {},
   "outputs": [],
   "source": [
    "convert_lcquad2_to_qald(input_file_path, output_file_path)"
   ]
  },
  {
   "cell_type": "markdown",
   "metadata": {},
   "source": [
    "#### Convert Mintaka dataset to QALD based format"
   ]
  },
  {
   "cell_type": "code",
   "execution_count": null,
   "metadata": {},
   "outputs": [],
   "source": [
    "# imports\n",
    "import sys\n",
    "sys.path.append('../code/')\n",
    "from utils.gen_util import convert_mintaka_to_qald"
   ]
  },
  {
   "cell_type": "code",
   "execution_count": null,
   "metadata": {},
   "outputs": [],
   "source": [
    "# Set variables\n",
    "input_file_path = \"../datasets/mintaka/mintaka_test.json\"\n",
    "output_file_path = \"../datasets/qald_mintaka/mintaka_test_qald.json\"\n",
    "languages = [\"en\", \"de\", \"es\", \"fr\"]"
   ]
  },
  {
   "cell_type": "code",
   "execution_count": null,
   "metadata": {},
   "outputs": [],
   "source": [
    "convert_mintaka_to_qald(input_file_path, output_file_path, languages)"
   ]
  },
  {
   "cell_type": "markdown",
   "metadata": {},
   "source": [
    "#### Format QALD based Mintaka results for Mintaka evaluation"
   ]
  },
  {
   "cell_type": "code",
   "execution_count": null,
   "metadata": {},
   "outputs": [],
   "source": [
    "# imports\n",
    "import sys\n",
    "sys.path.append('../code/')\n",
    "from utils.gen_util import extract_mintaka_qald_results"
   ]
  },
  {
   "cell_type": "code",
   "execution_count": null,
   "metadata": {},
   "outputs": [],
   "source": [
    "# Set variables\n",
    "languages = [\"en\", \"de\", \"es\", \"fr\"]\n",
    "input_file_path_tmpl = \"../pred_files_mintaka2qald/qald9plus-finetune/%s.json\"\n",
    "output_file_path_tmpl = \"../pred_files_mintaka2qald/qald9plus-finetune/%s_formatted_result.json\""
   ]
  },
  {
   "cell_type": "code",
   "execution_count": null,
   "metadata": {},
   "outputs": [],
   "source": [
    "for lang in languages:\n",
    "    input_file_path = input_file_path_tmpl % lang\n",
    "    output_file_path = output_file_path_tmpl % lang\n",
    "    extract_mintaka_qald_results(input_file_path, output_file_path)"
   ]
  },
  {
   "cell_type": "code",
   "execution_count": null,
   "metadata": {},
   "outputs": [],
   "source": [
    "import re\n",
    "import sys\n",
    "from SPARQLWrapper import JSON\n",
    "from SPARQLWrapper import SPARQLWrapper\n",
    "from SPARQLWrapper.SPARQLExceptions import SPARQLWrapperException"
   ]
  },
  {
   "cell_type": "code",
   "execution_count": null,
   "metadata": {},
   "outputs": [],
   "source": [
    "QUERY_PREFIX = \"\"\"\n",
    "PREFIX p: <http://www.wikidata.org/prop/>\n",
    "PREFIX pq: <http://www.wikidata.org/prop/qualifier/>\n",
    "PREFIX ps: <http://www.wikidata.org/prop/statement/>\n",
    "PREFIX psn: <http://www.wikidata.org/prop/statement/value-normalized/>\n",
    "PREFIX rdfs: <http://www.w3.org/2000/01/rdf-schema#>\n",
    "PREFIX wd: <http://www.wikidata.org/entity/>\n",
    "PREFIX wds: <http://www.wikidata.org/entity/statement/>\n",
    "PREFIX wdt: <http://www.wikidata.org/prop/direct/> \n",
    "PREFIX wdv: <http://www.wikidata.org/value/>\n",
    "\"\"\"\n",
    "\n",
    "def ask_wikidata(sparql_str):\n",
    "    # endpoint_url = \"https://query.wikidata.org/sparql\"\n",
    "    endpoint_url = \"https://skynet.coypu.org/wikidata/\"\n",
    "    sparql = SPARQLWrapper(endpoint_url)\n",
    "    sparql.setQuery(QUERY_PREFIX + '\\n' + sparql_str)\n",
    "    sparql.setReturnFormat(JSON)\n",
    "    return sparql.query().convert()"
   ]
  },
  {
   "cell_type": "code",
   "execution_count": null,
   "metadata": {},
   "outputs": [],
   "source": [
    "sparql_str = \"SELECT DISTINCT  ?uri WHERE  {  wd:Q761383 wdt:P50  ?uri .  }  \"\n",
    "print(ask_wikidata(sparql_str))"
   ]
  },
  {
   "cell_type": "markdown",
   "metadata": {},
   "source": [
    "#### Update train file for QALD10 with Chinese, Japanese and Spanish translations"
   ]
  },
  {
   "cell_type": "code",
   "execution_count": null,
   "metadata": {
    "tags": []
   },
   "outputs": [],
   "source": [
    "import json\n",
    "\n",
    "qald9plus_train_path = \"../datasets/qald9plus/wikidata/qald_9_plus_train_wikidata.json\"\n",
    "qald9plus_test_path = \"../datasets/qald9plus/wikidata/qald_9_plus_test_wikidata.json\"\n",
    "\n",
    "qald10_train_path = \"../datasets/qald10/qald_9_plus_train_wikidata.json\"\n",
    "\n",
    "output_file = \"../datasets/qald10/qald10_train.json\"\n",
    "\n",
    "# Load both qald 9 plus test and train\n",
    "with open(qald9plus_train_path) as train_file, open(qald9plus_test_path) as test_file:\n",
    "    qald9plus_train = json.load(train_file)\n",
    "    qald9plus_test = json.load(test_file)\n",
    "    qald_objects = [qald9plus_train, qald9plus_test]\n",
    "# Map English question against Chinese, Japanese and Spanish translations\n",
    "q_map = {}\n",
    "lang_arr = ['zh', 'ja', 'es']\n",
    "for qald_json in qald_objects:\n",
    "    questions = qald_json['questions']\n",
    "    for ques in questions:\n",
    "        translations = []\n",
    "        for q_pair in ques['question']:\n",
    "            lang = q_pair['language']\n",
    "            if lang  == 'en':\n",
    "                cur_key = q_pair['string']\n",
    "            elif lang in lang_arr:\n",
    "                translations.append(q_pair)\n",
    "        q_map[cur_key] = translations\n",
    "# Load qald 10 train\n",
    "with open(qald10_train_path) as train_file:\n",
    "    qald10_train = json.load(train_file)\n",
    "# for each question find and update translations\n",
    "questions = qald10_train['questions']\n",
    "for ques in questions:\n",
    "    translations = []\n",
    "    for q_pair in ques['question']:\n",
    "        lang = q_pair['language']\n",
    "        if lang  == 'en':\n",
    "            translations = q_map[q_pair['string']]\n",
    "            break\n",
    "    ques['question'].extend(translations)\n",
    "# export csv\n",
    "with open(output_file, 'w', encoding='utf-8') as f:\n",
    "    json.dump(qald10_train, f, ensure_ascii=False, indent=4)"
   ]
  },
  {
   "cell_type": "code",
   "execution_count": null,
   "metadata": {},
   "outputs": [],
   "source": []
  }
 ],
 "metadata": {
  "kernelspec": {
   "display_name": "mst5-venv",
   "language": "python",
   "name": "mst5-venv"
  },
  "language_info": {
   "codemirror_mode": {
    "name": "ipython",
    "version": 3
   },
   "file_extension": ".py",
   "mimetype": "text/x-python",
   "name": "python",
   "nbconvert_exporter": "python",
   "pygments_lexer": "ipython3",
   "version": "3.10.4"
  }
 },
 "nbformat": 4,
 "nbformat_minor": 4
}
