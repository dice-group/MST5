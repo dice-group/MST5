{
 "cells": [
  {
   "cell_type": "markdown",
   "metadata": {},
   "source": [
    "### Notebook to perform general utility actions"
   ]
  },
  {
   "cell_type": "markdown",
   "metadata": {},
   "source": [
    "#### Update the answers in a QALD file from remote endpoint"
   ]
  },
  {
   "cell_type": "code",
   "execution_count": null,
   "metadata": {},
   "outputs": [],
   "source": [
    "# imports\n",
    "import sys\n",
    "sys.path.append('../code/')\n",
    "from utils.gen_util import update_qald_dataset"
   ]
  },
  {
   "cell_type": "code",
   "execution_count": null,
   "metadata": {},
   "outputs": [],
   "source": [
    "# Set variables\n",
    "#input_file_path = \"../datasets/qald9plus/wikidata/qald_9_plus_test_wikidata_new.json\"\n",
    "#output_file_path = \"../datasets/qald9plus/wikidata/qald_9_plus_test_wikidata_latest.json\"\n",
    "input_file_path = \"../datasets/qald10/qald_10.json\"\n",
    "output_file_path = \"../datasets/qald10/qald_10_latest.json\"\n",
    "kg = \"Wikidata\"\n",
    "#languages = [\"en\", \"de\", \"ru\", \"fr\", \"lt\", \"ba\", \"be\", \"uk\", \"zh\", \"ja\", \"es\"]\n",
    "languages = [\"en\", \"de\", \"ru\", \"zh\"]"
   ]
  },
  {
   "cell_type": "code",
   "execution_count": null,
   "metadata": {},
   "outputs": [],
   "source": [
    "update_qald_dataset(input_file_path, output_file_path, languages, kg)"
   ]
  },
  {
   "cell_type": "markdown",
   "metadata": {},
   "source": [
    "#### Convert LcQUAD2 dataset to QALD based format"
   ]
  },
  {
   "cell_type": "code",
   "execution_count": null,
   "metadata": {},
   "outputs": [],
   "source": [
    "# imports\n",
    "import sys\n",
    "sys.path.append('../code/')\n",
    "from utils.gen_util import convert_lcquad2_to_qald"
   ]
  },
  {
   "cell_type": "code",
   "execution_count": null,
   "metadata": {},
   "outputs": [],
   "source": [
    "# Set variables\n",
    "input_file_path = \"../datasets/lcquad2/test.json\"\n",
    "output_file_path = \"../datasets/qald_lcquad2/test_qald.json\""
   ]
  },
  {
   "cell_type": "code",
   "execution_count": null,
   "metadata": {},
   "outputs": [],
   "source": [
    "convert_lcquad2_to_qald(input_file_path, output_file_path)"
   ]
  },
  {
   "cell_type": "markdown",
   "metadata": {},
   "source": [
    "#### Convert Mintaka dataset to QALD based format"
   ]
  },
  {
   "cell_type": "code",
   "execution_count": null,
   "metadata": {},
   "outputs": [],
   "source": [
    "# imports\n",
    "import sys\n",
    "sys.path.append('../code/')\n",
    "from utils.gen_util import convert_mintaka_to_qald"
   ]
  },
  {
   "cell_type": "code",
   "execution_count": null,
   "metadata": {},
   "outputs": [],
   "source": [
    "# Set variables\n",
    "input_file_path = \"../datasets/mintaka/mintaka_test.json\"\n",
    "output_file_path = \"../datasets/qald_mintaka/mintaka_test_qald.json\"\n",
    "languages = [\"en\", \"de\", \"es\", \"fr\"]"
   ]
  },
  {
   "cell_type": "code",
   "execution_count": null,
   "metadata": {},
   "outputs": [],
   "source": [
    "convert_mintaka_to_qald(input_file_path, output_file_path, languages)"
   ]
  },
  {
   "cell_type": "markdown",
   "metadata": {},
   "source": [
    "#### Format QALD based Mintaka results for Mintaka evaluation"
   ]
  },
  {
   "cell_type": "code",
   "execution_count": null,
   "metadata": {},
   "outputs": [],
   "source": [
    "# imports\n",
    "import sys\n",
    "sys.path.append('../code/')\n",
    "from utils.gen_util import extract_mintaka_qald_results"
   ]
  },
  {
   "cell_type": "code",
   "execution_count": null,
   "metadata": {},
   "outputs": [],
   "source": [
    "# Set variables\n",
    "languages = [\"en\", \"de\", \"es\", \"fr\"]\n",
    "input_file_path_tmpl = \"../pred_files_mintaka2qald/qald9plus-finetune/%s.json\"\n",
    "output_file_path_tmpl = \"../pred_files_mintaka2qald/qald9plus-finetune/%s_formatted_result.json\""
   ]
  },
  {
   "cell_type": "code",
   "execution_count": null,
   "metadata": {},
   "outputs": [],
   "source": [
    "for lang in languages:\n",
    "    input_file_path = input_file_path_tmpl % lang\n",
    "    output_file_path = output_file_path_tmpl % lang\n",
    "    extract_mintaka_qald_results(input_file_path, output_file_path)"
   ]
  },
  {
   "cell_type": "code",
   "execution_count": null,
   "metadata": {},
   "outputs": [],
   "source": [
    "import re\n",
    "import sys\n",
    "from SPARQLWrapper import JSON\n",
    "from SPARQLWrapper import SPARQLWrapper\n",
    "from SPARQLWrapper.SPARQLExceptions import SPARQLWrapperException"
   ]
  },
  {
   "cell_type": "code",
   "execution_count": null,
   "metadata": {},
   "outputs": [],
   "source": [
    "QUERY_PREFIX = \"\"\"\n",
    "PREFIX p: <http://www.wikidata.org/prop/>\n",
    "PREFIX pq: <http://www.wikidata.org/prop/qualifier/>\n",
    "PREFIX ps: <http://www.wikidata.org/prop/statement/>\n",
    "PREFIX psn: <http://www.wikidata.org/prop/statement/value-normalized/>\n",
    "PREFIX rdfs: <http://www.w3.org/2000/01/rdf-schema#>\n",
    "PREFIX wd: <http://www.wikidata.org/entity/>\n",
    "PREFIX wds: <http://www.wikidata.org/entity/statement/>\n",
    "PREFIX wdt: <http://www.wikidata.org/prop/direct/> \n",
    "PREFIX wdv: <http://www.wikidata.org/value/>\n",
    "\"\"\"\n",
    "\n",
    "def ask_wikidata(sparql_str):\n",
    "    # endpoint_url = \"https://query.wikidata.org/sparql\"\n",
    "    endpoint_url = \"https://skynet.coypu.org/wikidata/\"\n",
    "    sparql = SPARQLWrapper(endpoint_url)\n",
    "    sparql.setQuery(QUERY_PREFIX + '\\n' + sparql_str)\n",
    "    sparql.setReturnFormat(JSON)\n",
    "    return sparql.query().convert()"
   ]
  },
  {
   "cell_type": "code",
   "execution_count": null,
   "metadata": {},
   "outputs": [],
   "source": [
    "sparql_str = \"SELECT DISTINCT  ?uri WHERE  {  wd:Q761383 wdt:P50  ?uri .  }  \"\n",
    "print(ask_wikidata(sparql_str))"
   ]
  },
  {
   "cell_type": "code",
   "execution_count": null,
   "metadata": {},
   "outputs": [],
   "source": []
  }
 ],
 "metadata": {
  "kernelspec": {
   "display_name": "mengshi_thesis_exp9",
   "language": "python",
   "name": "python3"
  },
  "language_info": {
   "codemirror_mode": {
    "name": "ipython",
    "version": 3
   },
   "file_extension": ".py",
   "mimetype": "text/x-python",
   "name": "python",
   "nbconvert_exporter": "python",
   "pygments_lexer": "ipython3",
   "version": "3.9.17"
  },
  "orig_nbformat": 4
 },
 "nbformat": 4,
 "nbformat_minor": 2
}
