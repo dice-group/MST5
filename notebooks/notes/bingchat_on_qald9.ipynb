{
 "cells": [
  {
   "attachments": {},
   "cell_type": "markdown",
   "metadata": {},
   "source": [
    "# Bing chat answers questions from qald 9 plus\n",
    "\n",
    "In order to test the question answering performance of bing chat, we select some questions and send to bing chat. "
   ]
  },
  {
   "attachments": {},
   "cell_type": "markdown",
   "metadata": {},
   "source": [
    "## Questions"
   ]
  },
  {
   "attachments": {},
   "cell_type": "markdown",
   "metadata": {},
   "source": [
    "### List all boardgames by GMT."
   ]
  },
  {
   "attachments": {},
   "cell_type": "markdown",
   "metadata": {},
   "source": [
    "#### en: List all boardgames by GMT.\n",
    "\n",
    "GMT Games is a publisher of board games that specializes in strategy, historical and war games1. Some of their board games are: \n",
    "  - Dominant Species: Marine (2021), a game of adaptation and survival in the ancient oceans2. \n",
    "  - Twilight Struggle: Red Sea – Conflict in the Horn of Africa (2020), a card-driven game that simulates the geopolitical struggle in East Africa during the Cold War2. \n",
    "  - Cuba Libre (2013), a game of insurgency and counterinsurgency in 1950s Cuba2.\n",
    "\n",
    "Comment: Bing chat introduces GMT briefly and answers with three board games with descriptions from GMT. However, all board games are wanted."
   ]
  },
  {
   "attachments": {},
   "cell_type": "markdown",
   "metadata": {},
   "source": [
    "#### de: Liste die Brettspiele von GMT auf.\n",
    "\n",
    "Hallo, das ist Bing. Ich kann Ihnen einige Brettspiele von GMT nennen, die ich aus den Suchergebnissen gefunden habe:\n",
    "- Dominant Species\n",
    "- Imperial Struggle\n",
    "- Twilight Struggle\n",
    "- SpaceCorp 2025-2300 AD\n",
    "- 1862 Railway Mania In The Eastern Counties\n",
    "\n",
    "Comment: Bing chat answers with more board games, but no descriptions, and not all board games are listed."
   ]
  },
  {
   "attachments": {},
   "cell_type": "markdown",
   "metadata": {},
   "source": [
    "#### ru: Перечислите все игры GMT.\n",
    "\n",
    "Привет, это Bing. Я могу общаться с вами на русском языке. 😊\n",
    "GMT Games - это издательство настольных игр, специализирующееся на исторических симуляциях и военных стратегиях1. На сайте GMT Games вы можете найти список всех их игр2, а также предзаказать новые или переизданные игры через программу P5003.\n",
    "\n",
    "Comment: Bing chat searches in Internet and gives an implicit answer.\t"
   ]
  },
  {
   "attachments": {},
   "cell_type": "markdown",
   "metadata": {},
   "source": [
    "#### lt: Išvardinkite visus stalo žaidimus pagal GMT.\n",
    "\n",
    "Jūs norite sužinoti apie stalo žaidimus pagal GMT? GMT yra tarptautinė laiko juosta, kuri yra 0 valandų skirtumas nuo Grinvičo laiko. Ar jūs turite omenyje stalo žaidimus, kurie yra susiję su GMT laiko juosta arba kurie yra išleisti GMT Games leidyklos?\n",
    "- Stalo žaidimai EU - Stalo žaidimai EU \n",
    "- Brain Games LT - Žaisk. Galvok. Mėgaukis. \n",
    "- Žaiskite stalo žaidimus naudodami savo interneto naršyklę • Board Game Arena\n",
    "\n",
    "Comment: Bing chat interprets “GMT” as an acronym for “Greenwich Mean Time”, not as a board game publisher. However, it still asks whether GMT refers to the board game publisher because it cannot distinguish these two entities based on context."
   ]
  },
  {
   "attachments": {},
   "cell_type": "markdown",
   "metadata": {},
   "source": [
    "#### uk: Перерахуйте всі ігри GMT.\n",
    "\n",
    "Привіт, це Bing. Я можу розуміти і спілкуватися українською мовою. Ви хочете дізнатися про всі ігри GMT? GMT - це компанія, що виробляє настільні ігри про військову та історичну тематику1. На їхньому сайті ви можете знайти список всіх їхніх ігор2, а також замовити ті, що вас цікавлять3. Якщо ви шукаєте конкретну гру або жанр, я можу допомогти вам звузити пошук. Що саме вас цікавить?\n",
    "\n",
    "Comment: Same as in ru, implicit answer."
   ]
  },
  {
   "attachments": {},
   "cell_type": "markdown",
   "metadata": {},
   "source": [
    "#### fr: Listez tous les jeux de société de GMT.\n",
    "\n",
    "Bonjour, c’est Bing. GMT Games est une société américaine qui produit des jeux de société sur des thèmes historiques ou militaires1. Parmi les jeux les plus connus de GMT Games, on peut citer :1\n",
    "- 18XX : une série de jeux économiques sur la construction et l’investissement dans les compagnies ferroviaires.\n",
    "- Battle Line : un jeu de cartes stratégique sur les affrontements entre armées antiques.\n",
    "- Dominant Species : un jeu de plateau sur l’évolution et la survie des espèces animales à la fin de l’ère glaciaire.\n",
    "Quel type de jeu vous intéresse le plus ? 🎲\n",
    "\n",
    "Comment: Bing chat suggests some board games that are different from those in English and German, but it does not cover all the games available."
   ]
  },
  {
   "attachments": {},
   "cell_type": "markdown",
   "metadata": {},
   "source": [
    "### Which computer scientist won an oscar?"
   ]
  },
  {
   "attachments": {},
   "cell_type": "markdown",
   "metadata": {},
   "source": [
    "#### en: Which computer scientist won an oscar?\n",
    "\n",
    "There are several computer scientists who have won Oscars for their contributions to animation and visual effects. One of them is Theodore Kim, a Yale computer scientist associate professor, who picked up his second Oscar of his career this year for developing a new method for simulating hair and fur. He also won an Oscar in 2017 for creating a technique for generating realistic smoke and fire.\n",
    "\n",
    "Comment: Bing chat knows there are several answers, and it gives only one with a short description."
   ]
  },
  {
   "attachments": {},
   "cell_type": "markdown",
   "metadata": {},
   "source": [
    "#### de: Welcher Informatiker hat den Oscar gewonnen?\n",
    "\n",
    "Es gibt mehrere Informatiker, die einen Oscar gewonnen haben. Meinen Sie vielleicht die drei ehemaligen Saarbrücker Informatik-Doktoranden, die 2021 einen Technik-Oscar für ihre Software-Bibliothek Open Shading Language erhalten haben? Oder suchen Sie nach einem anderen Informatiker?\n",
    "\n",
    "Comment: Bing chat knows there are several answers, and it asks which we are meaning."
   ]
  },
  {
   "attachments": {},
   "cell_type": "markdown",
   "metadata": {},
   "source": [
    "#### ru: Какой ученый в области информационных технологий выиграл оскар?\n",
    "\n",
    "Ваш вопрос интересный, но не так простой. Американская киноакадемия вручает премии «Оскар» не только за художественные достижения, но и за научные и технические новшества в области кинематографа12. Среди лауреатов этой премии есть много ученых и инженеров, которые работали над развитием информационных технологий для создания спецэффектов, анимации, звука и других аспектов фильмов.\n",
    "\n",
    "Однако я не нашел информации о том, что какой-то ученый в области информационных технологий выиграл «Оскар» за свою научную деятельность вне кинематографа. \n",
    "Возможно, вы имели в виду какого-то конкретного ученого или какую-то конкретную область информационных технологий? Если да, то пожалуйста уточните ваш запрос.\n",
    "\n",
    "Comment: Bing chat doesn't find any computer scientist who won oscar, which is a wrong answer."
   ]
  },
  {
   "attachments": {},
   "cell_type": "markdown",
   "metadata": {},
   "source": [
    "#### hy: Համակարգչային ո՞ր գիտնականն է շահել օսկար:\n",
    "\n",
    "Բարև, սա Bing-ն է: Ես կարող եմ օգնել քեզ: 😊\n",
    "Երևի քեզ\n",
    "\n",
    "օր․․․\n",
    "\n",
    "«2023»-«2023»-«2023»-«2023»-«2023»-«2023»\n",
    "\n",
    "«Ար․․․\n",
    "\n",
    "«Ար․․․\n",
    "\n",
    "Comment: Something wrong with bing chat on Armenian."
   ]
  },
  {
   "attachments": {},
   "cell_type": "markdown",
   "metadata": {},
   "source": [
    "#### uk: Який інформатик виграв Оскар?\n",
    "\n",
    "Привіт! Це Bing. Я можу розуміти і спілкуватися з вами українською мовою.😊 <br> Ваше запитання дуже цікаве. Я знайшов декілька інформатиків, які виграли Оскар за свої досягнення в анімації. <br> Один з них - Теодор Кім, професор комп’ютерних наук з Єльського університету. Він отримав свого другого Оскара за розробку алгоритму для моделювання хмар та диму. <br> Інший - Марк Гіллз, експерт з комп’ютерної графіки, який закінчив школу в Рипон (Англія)3. Він отримав науково-технологічного Оскара за створення програмного забезпечення для анимацыи волосся та шерстi. <br> Чи це те, що ви шукали?\n",
    "\n",
    "Comment: Bing chat understands the question well and gives several answers."
   ]
  },
  {
   "attachments": {},
   "cell_type": "markdown",
   "metadata": {},
   "source": [
    "#### lt: Kuris informacinių technologijų mokslininkas laimėjo „Oskarą“?\n",
    "\n",
    "Sveiki, čia Bing. Aš galiu suprasti ir bendrauti su jumis lietuvių kalba.😊 <br>Jūsų klausimas yra labai įdomus. Mano paieškos rezultatai rodo, kad yra daug informacinių technologijų mokslininkų, kurie laimėjo „Oskaro“ už savo mokslinius ir techninius nuopelnus kino industrijoje. Vienas iš jų yra Iain Neil, kuris 2023 metais gavo aukščiausią Akademijos apdovanojimą šioje srityje – Gordon E. Sawyer Award. Jis yra optikos specialistas ir sukūrė daugybę objektyvų kino kameroms. <br> Ar galite patikslinti, kokio tipo informacinių technologijų mokslininko jūs ieškote? Ar jums reikia žinoti tik vardą ar ir kitą informaciją?\n",
    "\n",
    "Comment: Bing chat answers with Gorden E. Sawyer Award, which is the Oscar in technique, but not Oscar in the question."
   ]
  },
  {
   "attachments": {},
   "cell_type": "markdown",
   "metadata": {},
   "source": [
    "#### ba: Ниндэй укымышлы кеше хэбэрлэр технология олкэхендэ Оскар алды?\n",
    "\n",
    "Здравствуйте! Это Bing. Я могу понимать и общаться с вами на башкирском языке. Вы спрашиваете, какой технологичный человек получил Оскар? Я не нашел точного ответа на ваш вопрос, но я нашел несколько статей о фильмах и режиссерах, которые получили Оскар. Возможно, вы имели в виду одного из них?\n",
    "\n",
    "Comment: Bing chat doesn't find the answer."
   ]
  },
  {
   "attachments": {},
   "cell_type": "markdown",
   "metadata": {},
   "source": [
    "## Conculsion: "
   ]
  },
  {
   "attachments": {},
   "cell_type": "markdown",
   "metadata": {},
   "source": [
    "### Pros:\n",
    "\n",
    "- short descriptions for the answer\n",
    "- latest information from Internet"
   ]
  },
  {
   "attachments": {},
   "cell_type": "markdown",
   "metadata": {},
   "source": [
    "### Cons:\n",
    "\n",
    "- doesn't understands all languages, for some language it gives wrong answer\n",
    "- Can only give part of the answers\n",
    "- Wrong entity\n",
    "- indirect answer"
   ]
  },
  {
   "attachments": {},
   "cell_type": "markdown",
   "metadata": {},
   "source": [
    "Bing chat also has some limitations. For example, 2 states that it does not understand all languages well and may give wrong answers for some queries. Moreover, 1 notes that it can only give partial answers for complex or ambiguous questions. Additionally, it may also confuse different entities or topics in the conversation.\n",
    "Using Bing chat for question answering can be beneficial for users who want to get short descriptions for their queries and access the latest information from the internet. Bing chat can leverage Bing's search capabilities and provide relevant web results or factual answers. It can also generate quizzes based on web pages to test users' knowledge.\n",
    "However, Bing chat also has some drawbacks that may affect its performance and accuracy. For example, it may not understand all languages well and give wrong answers for some queries. It may also only give partial answers or miss some important details that users are looking for. Sometimes, it may also identify wrong entities or give indirect answers that do not match the user's intent. Therefore, users should be aware of these limitations and use Bing chat with caution and curiosity.\n"
   ]
  },
  {
   "cell_type": "markdown",
   "metadata": {},
   "source": []
  }
 ],
 "metadata": {
  "language_info": {
   "name": "python"
  },
  "orig_nbformat": 4
 },
 "nbformat": 4,
 "nbformat_minor": 2
}
