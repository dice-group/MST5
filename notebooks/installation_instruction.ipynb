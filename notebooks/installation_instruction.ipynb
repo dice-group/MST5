{
 "cells": [
  {
   "cell_type": "markdown",
   "metadata": {},
   "source": [
    "__Note: Please run all commands in the root of this repo__"
   ]
  },
  {
   "cell_type": "markdown",
   "metadata": {},
   "source": [
    "#### **Pre-requisites**"
   ]
  },
  {
   "cell_type": "markdown",
   "metadata": {},
   "source": [
    "**Install requirements**\n",
    "\n",
    "```bash\n",
    "pip install -r requirements.txt\n",
    "```"
   ]
  },
  {
   "cell_type": "markdown",
   "metadata": {},
   "source": [
    "**Download/Install SpaCy models**\n",
    "\n",
    "```bash\n",
    "pip install -U pip setuptools wheel\n",
    "pip install -U spacy\n",
    "python -m spacy download zh_core_web_sm\n",
    "python -m spacy download en_core_web_sm\n",
    "python -m spacy download fr_core_news_sm\n",
    "python -m spacy download de_core_news_sm\n",
    "python -m spacy download ja_core_news_sm\n",
    "python -m spacy download lt_core_news_sm\n",
    "python -m spacy download ru_core_news_sm\n",
    "python -m spacy download es_core_news_sm\n",
    "python -m spacy download uk_core_news_sm\n",
    "```"
   ]
  },
  {
   "cell_type": "markdown",
   "metadata": {},
   "source": [
    "**Download QA datasets**\n",
    "```bash\n",
    "bash download_datasets.sh\n",
    "```"
   ]
  },
  {
   "cell_type": "markdown",
   "metadata": {},
   "source": [
    "**Setup [wandb](https://docs.wandb.ai/guides/integrations/huggingface)** (optional)\n",
    "\n",
    "\n",
    "1. sign up for an account in [wandb](https://wandb.ai/)\n",
    "2. create a `wandb` folder in the root of this repository\n",
    "3. set TMPDIR to the path of `wandb` folder\n",
    "3. login in local setting `wandb login` and follow the instruction"
   ]
  }
 ],
 "metadata": {
  "language_info": {
   "name": "python"
  },
  "orig_nbformat": 4
 },
 "nbformat": 4,
 "nbformat_minor": 2
}
