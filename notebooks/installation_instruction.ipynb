{
 "cells": [
  {
   "cell_type": "markdown",
   "metadata": {},
   "source": [
    "__Note: Please run all commands in the root of this repo__"
   ]
  },
  {
   "cell_type": "markdown",
   "metadata": {},
   "source": [
    "#### **Pre-requisites**"
   ]
  },
  {
   "cell_type": "markdown",
   "metadata": {},
   "source": [
    "**Create a python virtual environment (optional)**\n",
    "\n",
    "We used `Python 3.10.4`\n",
    "\n",
    "```bash\n",
    "# Creating virtual environment\n",
    "python -m venv --system-site-packages ./mst5-venv\n",
    "# Activation virtual environment\n",
    "source mst5-venv/bin/activate\n",
    "```"
   ]
  },
  {
   "cell_type": "markdown",
   "metadata": {},
   "source": [
    "**Install requirements**\n",
    "\n",
    "Install pytorch (torch >= 1.12) as per your hardware setup: https://pytorch.org/\n",
    "\n",
    "We used the following pytorch version:\n",
    "```\n",
    "torch==2.1.0+cu121\n",
    "torchaudio==2.1.0+cu121\n",
    "torchvision==0.16.0+cu121\n",
    "```\n",
    "\n",
    "Then, install the other dependencies:\n",
    "\n",
    "```bash\n",
    "pip install -r requirements.txt\n",
    "```"
   ]
  },
  {
   "cell_type": "markdown",
   "metadata": {},
   "source": [
    "**To use the the python environment as a notebook kernel (optional)**\n",
    "```bash\n",
    "python -m ipykernel install --user --name=mst5-venv\n",
    "```"
   ]
  },
  {
   "cell_type": "markdown",
   "metadata": {},
   "source": [
    "**Download/Install SpaCy models**\n",
    "\n",
    "```bash\n",
    "pip install -U pip setuptools wheel\n\n",
    "python -m spacy download zh_core_web_sm\n",
    "python -m spacy download en_core_web_sm\n",
    "python -m spacy download fr_core_news_sm\n",
    "python -m spacy download de_core_news_sm\n",
    "python -m spacy download ja_core_news_sm\n",
    "python -m spacy download lt_core_news_sm\n",
    "python -m spacy download ru_core_news_sm\n",
    "python -m spacy download es_core_news_sm\n",
    "python -m spacy download uk_core_news_sm\n",
    "```"
   ]
  },
  {
   "cell_type": "markdown",
   "metadata": {},
   "source": [
    "**Download QA datasets**\n",
    "```bash\n",
    "bash download_datasets.sh\n",
    "```"
   ]
  },
  {
   "cell_type": "markdown",
   "metadata": {},
   "source": [
    "**Setup [wandb](https://docs.wandb.ai/guides/integrations/huggingface)** (optional)\n",
    "\n",
    "\n",
    "1. sign up for an account in [wandb](https://wandb.ai/)\n",
    "2. create a `wandb` folder in the root of this repository: `mkdir wandb`\n",
    "3. set TMPDIR to the path of `wandb` folder: `export TMPDIR=wandb/`\n",
    "3. login in local setting `wandb login` and follow the instruction"
   ]
  },
  {
   "cell_type": "markdown",
   "metadata": {},
   "source": []
  }
 ],
 "metadata": {
  "kernelspec": {
   "display_name": "",
   "name": ""
  },
  "language_info": {
   "name": "python"
  }
 },
 "nbformat": 4,
 "nbformat_minor": 4
}
