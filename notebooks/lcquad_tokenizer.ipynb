{
 "cells": [
  {
   "cell_type": "code",
   "execution_count": 25,
   "metadata": {},
   "outputs": [],
   "source": [
    "from transformers import AutoTokenizer\n",
    "import pandas as pd\n",
    "import re\n",
    "import random"
   ]
  },
  {
   "cell_type": "code",
   "execution_count": 26,
   "metadata": {},
   "outputs": [
    {
     "name": "stderr",
     "output_type": "stream",
     "text": [
      "/upb/users/m/mengshim/profiles/unix/cs/miniconda3/envs/mengshi/lib/python3.9/site-packages/transformers/convert_slow_tokenizer.py:446: UserWarning: The sentencepiece tokenizer that you are converting to a fast tokenizer uses the byte fallback option which is not implemented in the fast tokenizers. In practice this means that the fast version of the tokenizer can produce unknown tokens whereas the sentencepiece version would have converted these unknown tokens into a sequence of byte tokens matching the original piece of text.\n",
      "  warnings.warn(\n"
     ]
    },
    {
     "data": {
      "text/plain": [
       "250100"
      ]
     },
     "execution_count": 26,
     "metadata": {},
     "output_type": "execute_result"
    }
   ],
   "source": [
    "mt5_tokenizer = AutoTokenizer.from_pretrained(\"google/mt5-base\")\n",
    "len(mt5_tokenizer)"
   ]
  },
  {
   "cell_type": "code",
   "execution_count": 27,
   "metadata": {},
   "outputs": [
    {
     "data": {
      "text/plain": [
       "0     select distinct var_obj where bra_open wd_Q18...\n",
       "1    SELECT var_answer WHERE bra_open wd_Q169794 wd...\n",
       "2    ASK WHERE bra_open wd_Q174843 wdt_P106 wd_Q180...\n",
       "3    SELECT var_answer WHERE bra_open wd_Q675176 wd...\n",
       "4    select distinct var_answer where bra_open wd_Q...\n",
       "Name: query, dtype: object"
      ]
     },
     "execution_count": 27,
     "metadata": {},
     "output_type": "execute_result"
    }
   ],
   "source": [
    "lcquad = pd.read_csv(\"datasets/lcqald_wikidata.csv\")\n",
    "lcquad[\"query\"].head()"
   ]
  },
  {
   "cell_type": "code",
   "execution_count": 28,
   "metadata": {},
   "outputs": [
    {
     "name": "stdout",
     "output_type": "stream",
     "text": [
      "['var_obj', 'wd_Q188920', 'wdt_P2813', 'var_obj', 'var_obj', 'wdt_P31', 'wd_Q1002697']\n",
      "['var_answer', 'wd_Q169794', 'wdt_P26', 'var_X', 'var_X', 'wdt_P22', 'var_answer']\n",
      "['wd_Q174843', 'wdt_P106', 'wd_Q1804811', 'wd_Q174843', 'wdt_P106', 'wd_Q33231']\n",
      "['var_answer', 'wd_Q675176', 'wdt_P515', 'var_X', 'var_X', 'wdt_P156', 'var_answer']\n",
      "['var_answer', 'wd_Q32491', 'wdt_P3362', 'var_answer']\n"
     ]
    }
   ],
   "source": [
    "pattern = r\"\\b(?:wdt|ps|wd|rdfs|xsd|pq|var)\\w*\\b\"\n",
    "for query in lcquad[\"query\"].head():\n",
    "    print(re.findall(pattern, query))"
   ]
  },
  {
   "cell_type": "code",
   "execution_count": 29,
   "metadata": {},
   "outputs": [
    {
     "data": {
      "text/plain": [
       "['wd_Q318734',\n",
       " 'wd_Q132971',\n",
       " 'wd_Q41582627',\n",
       " 'wd_Q1509',\n",
       " 'wd_Q2696109',\n",
       " 'wd_Q17199338',\n",
       " 'wd_Q7192',\n",
       " 'wd_Q4024510',\n",
       " 'wd_Q164651',\n",
       " 'wd_Q34823585',\n",
       " 'wd_Q1248784',\n",
       " 'wd_Q1190554',\n",
       " 'wd_Q500551',\n",
       " 'wd_Q15074515',\n",
       " 'wd_Q152805',\n",
       " 'wd_Q55221138',\n",
       " 'wd_Q949423',\n",
       " 'wd_Q1778821',\n",
       " 'wd_Q511405',\n",
       " 'wd_Q1028']"
      ]
     },
     "execution_count": 29,
     "metadata": {},
     "output_type": "execute_result"
    }
   ],
   "source": [
    "new_tokens = []\n",
    "for query in lcquad[\"query\"]:\n",
    "    new_tokens.extend(re.findall(pattern, query))\n",
    "new_tokens = list(set(new_tokens))\n",
    "new_tokens[:20]"
   ]
  },
  {
   "cell_type": "code",
   "execution_count": 30,
   "metadata": {},
   "outputs": [
    {
     "data": {
      "text/plain": [
       "273397"
      ]
     },
     "execution_count": 30,
     "metadata": {},
     "output_type": "execute_result"
    }
   ],
   "source": [
    "mt5_tokenizer.add_tokens(new_tokens)\n",
    "len(mt5_tokenizer)"
   ]
  },
  {
   "cell_type": "code",
   "execution_count": 31,
   "metadata": {},
   "outputs": [
    {
     "data": {
      "text/plain": [
       "273401"
      ]
     },
     "execution_count": 31,
     "metadata": {},
     "output_type": "execute_result"
    }
   ],
   "source": [
    "symbol_tokens = [\"bra_open\", \"bra_close\", \"sep_dot\", \"sep_or\"]\n",
    "mt5_tokenizer.add_tokens(symbol_tokens)\n",
    "len(mt5_tokenizer)"
   ]
  },
  {
   "cell_type": "code",
   "execution_count": 33,
   "metadata": {},
   "outputs": [
    {
     "name": "stdout",
     "output_type": "stream",
     "text": [
      "\n",
      "\n"
     ]
    },
    {
     "data": {
      "text/plain": [
       "PreTrainedTokenizerFast(name_or_path='google/mt5-base', vocab_size=38699, model_max_len=1000000000000000019884624838656, is_fast=True, padding_side='right', truncation_side='right', special_tokens={'eos_token': '</s>', 'unk_token': '<unk>', 'pad_token': '<pad>'})"
      ]
     },
     "execution_count": 33,
     "metadata": {},
     "output_type": "execute_result"
    }
   ],
   "source": [
    "mt5_tokenizer.train_new_from_iterator(lcquad[\"query\"], vocab_size=300000)"
   ]
  },
  {
   "cell_type": "code",
   "execution_count": 34,
   "metadata": {},
   "outputs": [
    {
     "data": {
      "text/plain": [
       "('lcquad_tokenizer/tokenizer_config.json',\n",
       " 'lcquad_tokenizer/special_tokens_map.json',\n",
       " 'lcquad_tokenizer/spiece.model',\n",
       " 'lcquad_tokenizer/added_tokens.json',\n",
       " 'lcquad_tokenizer/tokenizer.json')"
      ]
     },
     "execution_count": 34,
     "metadata": {},
     "output_type": "execute_result"
    }
   ],
   "source": [
    "mt5_tokenizer.save_pretrained(\"lcquad_tokenizer\")"
   ]
  },
  {
   "attachments": {},
   "cell_type": "markdown",
   "metadata": {},
   "source": [
    "# Test performance of lcquad tokenizer "
   ]
  },
  {
   "cell_type": "code",
   "execution_count": 35,
   "metadata": {},
   "outputs": [],
   "source": [
    "lcquad_tokenizer = AutoTokenizer.from_pretrained(\"lcquad_tokenizer\")"
   ]
  },
  {
   "cell_type": "code",
   "execution_count": 36,
   "metadata": {},
   "outputs": [
    {
     "data": {
      "text/plain": [
       "['SELECT var_value1 var_obj WHERE bra_open wd_Q81506 p_P39 var_s sep_dot var_s ps_P39 var_obj sep_dot var_s pq_P582 var_value1 sep_dot bra_close ',\n",
       " 'SELECT (COUNT( var_obj) AS var_value ) bra_open wd_Q153048 wdt_P802 var_obj bra_close ',\n",
       " 'SELECT var_value1 var_value2 WHERE bra_open wd_Q41532 p_P26 var_s sep_dot var_s ps_P26 wd_Q124210 sep_dot var_s pq_P582 var_value1 sep_dot var_s pq_P580 var_value2 bra_close ',\n",
       " 'ASK WHERE bra_open wd_Q6276882 wdt_P108 wd_Q49108 sep_dot wd_Q6276882 wdt_P108 wd_Q180865 bra_close ',\n",
       " 'SELECT var_answer WHERE bra_open wd_Q11392 wdt_P397 var_X sep_dot var_X wdt_P398 var_answer bra_close ']"
      ]
     },
     "execution_count": 36,
     "metadata": {},
     "output_type": "execute_result"
    }
   ],
   "source": [
    "example_queries = random.sample(list(lcquad[\"query\"]), 5)\n",
    "example_queries"
   ]
  },
  {
   "cell_type": "code",
   "execution_count": 37,
   "metadata": {},
   "outputs": [
    {
     "name": "stdout",
     "output_type": "stream",
     "text": [
      "['▁', 'SELECT', '▁', 'var_value1', '▁', 'var_obj', '▁W', 'HERE', '▁', 'bra_open', '▁', 'wd_Q81506', '▁p', '_', 'P', '39', '▁', 'var_s', '▁', 'sep_dot', '▁', 'var_s', '▁', 'ps_P39', '▁', 'var_obj', '▁', 'sep_dot', '▁', 'var_s', '▁', 'pq_P582', '▁', 'var_value1', '▁', 'sep_dot', '▁', 'bra_close', '▁']\n",
      "['▁', 'SELECT', '▁(', 'COUNT', '(', '▁', 'var_obj', '▁', ')', '▁AS', '▁', 'var_value', '▁', ')', '▁', 'bra_open', '▁', 'wd_Q153048', '▁', 'wdt_P802', '▁', 'var_obj', '▁', 'bra_close', '▁']\n",
      "['▁', 'SELECT', '▁', 'var_value1', '▁', 'var_value2', '▁W', 'HERE', '▁', 'bra_open', '▁', 'wd_Q41532', '▁p', '_', 'P', '26', '▁', 'var_s', '▁', 'sep_dot', '▁', 'var_s', '▁', 'ps_P26', '▁', 'wd_Q124210', '▁', 'sep_dot', '▁', 'var_s', '▁', 'pq_P582', '▁', 'var_value1', '▁', 'sep_dot', '▁', 'var_s', '▁', 'pq_P580', '▁', 'var_value2', '▁', 'bra_close', '▁']\n",
      "['▁', 'ASK', '▁W', 'HERE', '▁', 'bra_open', '▁', 'wd_Q6276882', '▁', 'wdt_P108', '▁', 'wd_Q49108', '▁', 'sep_dot', '▁', 'wd_Q6276882', '▁', 'wdt_P108', '▁', 'wd_Q180865', '▁', 'bra_close', '▁']\n",
      "['▁', 'SELECT', '▁', 'var_answer', '▁W', 'HERE', '▁', 'bra_open', '▁', 'wd_Q11392', '▁', 'wdt_P397', '▁', 'var_X', '▁', 'sep_dot', '▁', 'var_X', '▁', 'wdt_P398', '▁', 'var_answer', '▁', 'bra_close', '▁']\n"
     ]
    }
   ],
   "source": [
    "for query in example_queries:\n",
    "    tokens = lcquad_tokenizer.tokenize(query)\n",
    "    print(tokens)"
   ]
  },
  {
   "cell_type": "code",
   "execution_count": null,
   "metadata": {},
   "outputs": [],
   "source": []
  }
 ],
 "metadata": {
  "kernelspec": {
   "display_name": "mengshi",
   "language": "python",
   "name": "python3"
  },
  "language_info": {
   "codemirror_mode": {
    "name": "ipython",
    "version": 3
   },
   "file_extension": ".py",
   "mimetype": "text/x-python",
   "name": "python",
   "nbconvert_exporter": "python",
   "pygments_lexer": "ipython3",
   "version": "3.9.13"
  },
  "orig_nbformat": 4
 },
 "nbformat": 4,
 "nbformat_minor": 2
}
