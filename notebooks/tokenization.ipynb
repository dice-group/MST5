{
 "cells": [
  {
   "cell_type": "code",
   "execution_count": 1,
   "id": "f26cecd6-bd22-4b7a-9094-180c83915173",
   "metadata": {
    "tags": []
   },
   "outputs": [],
   "source": [
    "from transformers import T5Tokenizer\n",
    "import json"
   ]
  },
  {
   "cell_type": "code",
   "execution_count": 2,
   "id": "d44af6cd-273c-4fcb-a067-1e2fbfdb891a",
   "metadata": {
    "tags": []
   },
   "outputs": [],
   "source": [
    "tokenizer = T5Tokenizer.from_pretrained('google/mt5-xl', legacy=False)"
   ]
  },
  {
   "cell_type": "code",
   "execution_count": 6,
   "id": "8eb51e85-a621-4a2f-81e5-011ca7a5f261",
   "metadata": {},
   "outputs": [
    {
     "data": {
      "text/plain": [
       "['▁After',\n",
       " '▁who',\n",
       " 'm',\n",
       " '▁is',\n",
       " '▁the',\n",
       " '▁Rie',\n",
       " 'manni',\n",
       " 'an',\n",
       " '▁',\n",
       " 'geometry',\n",
       " '▁',\n",
       " 'named',\n",
       " '?',\n",
       " '<pad>',\n",
       " '<pad>',\n",
       " '<pad>',\n",
       " 'SCO',\n",
       " 'NJ',\n",
       " '▁PRO',\n",
       " 'N',\n",
       " '▁',\n",
       " 'AUX',\n",
       " '▁DET',\n",
       " '▁A',\n",
       " 'DJ',\n",
       " '▁NO',\n",
       " 'UN',\n",
       " '▁VER',\n",
       " 'B',\n",
       " '▁PUN',\n",
       " 'CT',\n",
       " '<pad>',\n",
       " 'w',\n",
       " 'd',\n",
       " '_',\n",
       " 'Q',\n",
       " '76',\n",
       " '1383',\n",
       " '<pad>',\n",
       " '<pad>']"
      ]
     },
     "execution_count": 6,
     "metadata": {},
     "output_type": "execute_result"
    }
   ],
   "source": [
    "sample_query = \"After whom is the Riemannian geometry named? <pad> <pad> <pad>SCONJ PRON AUX DET ADJ NOUN VERB PUNCT <pad> wd_Q761383 <pad> <pad> \"\n",
    "tokenizer.tokenize(sample_query)"
   ]
  },
  {
   "cell_type": "markdown",
   "id": "e85c3008-9829-4e0b-ad82-64e796f80d13",
   "metadata": {
    "tags": []
   },
   "source": [
    "**Token analysis for datasets**"
   ]
  },
  {
   "cell_type": "code",
   "execution_count": 3,
   "id": "c412f2a9-291c-4542-8876-96dd266ef891",
   "metadata": {
    "tags": []
   },
   "outputs": [],
   "source": [
    "qald_data_paths = {\n",
    "    'qald9plus_train_path': '../datasets/qald9plus/wikidata/qald_9_plus_train_wikidata.json',\n",
    "    'qald9plus_test_path': '../datasets/qald9plus/wikidata/qald_9_plus_test_wikidata.json',\n",
    "    'qald10_train_path': '../datasets/qald10/qald_10.json'\n",
    "}\n",
    "\n",
    "lcquad_data_paths = {\n",
    "    'lcquad2_train_path': '../datasets/lcquad2/train.json',\n",
    "    'lcquad2_test_path': '../datasets/lcquad2/test.json'\n",
    "}"
   ]
  },
  {
   "cell_type": "code",
   "execution_count": 4,
   "id": "e15e3ef5-5e34-4d7f-baad-a8c7025685f8",
   "metadata": {
    "tags": []
   },
   "outputs": [
    {
     "name": "stdout",
     "output_type": "stream",
     "text": [
      "Maximum token length: 47\n",
      "question: Манхэттенский ҡатнашыусыларҙың проекттары һәм донъяла билдәле ғалим булараҡ нобель премияһына лайыҡ булыусылар ниндәй?\n",
      "File: ../datasets/qald9plus/wikidata/qald_9_plus_train_wikidata.json\n"
     ]
    }
   ],
   "source": [
    "# Find maximum length in QALDfiles\n",
    "qald_max_length = 0\n",
    "max_question_string = ''\n",
    "max_file = ''\n",
    "for file in qald_data_paths.values():\n",
    "    with open(file, 'r') as fp:\n",
    "        qald_obj = json.load(fp)\n",
    "    for question_obj in qald_obj['questions']:\n",
    "        for q_pair in question_obj['question']:\n",
    "            q_str = q_pair['string']\n",
    "            cur_len = len(tokenizer.tokenize(q_str))\n",
    "            if cur_len > qald_max_length:\n",
    "                qald_max_length = cur_len\n",
    "                max_question_string = q_str\n",
    "                max_file = file\n",
    "\n",
    "print('Maximum token length:', qald_max_length)\n",
    "print('question:', max_question_string)\n",
    "print('File:', max_file)"
   ]
  },
  {
   "cell_type": "code",
   "execution_count": 5,
   "id": "059bf975-a4a8-406b-a68a-d466c2c2e4b6",
   "metadata": {
    "tags": []
   },
   "outputs": [
    {
     "name": "stdout",
     "output_type": "stream",
     "text": [
      "Maximum token length: 101\n",
      "question: What is {safety classification and labelling} of {water}, that has {original title} is {Europa-Parlamentets og Rådets forordning (EF) nr. 1272/2008 af 16. december 2008 om klassificering, mærkning og emballering af stoffer og blandinger og om ændring og ophævelse af direktiv 67/548/EØF og 1999/45/EF og om ændring af forordning (EF) nr. 1907/2006} ?\n",
      "File: ../datasets/lcquad2/train.json\n"
     ]
    }
   ],
   "source": [
    "# Find maximum length in LCQUAD files\n",
    "lcquad_max_length = 0\n",
    "max_question_string = ''\n",
    "max_file = ''\n",
    "for file in lcquad_data_paths.values():\n",
    "    with open(file, 'r') as fp:\n",
    "        lcquad_obj = json.load(fp)\n",
    "    for question_obj in lcquad_obj:\n",
    "        q_str = question_obj['NNQT_question']\n",
    "        cur_len = len(tokenizer.tokenize(q_str))\n",
    "        if cur_len > lcquad_max_length:\n",
    "            lcquad_max_length = cur_len\n",
    "            max_question_string = q_str\n",
    "            max_file = file\n",
    "\n",
    "print('Maximum token length:', lcquad_max_length)\n",
    "print('question:', max_question_string)\n",
    "print('File:', max_file)"
   ]
  },
  {
   "cell_type": "code",
   "execution_count": null,
   "id": "aeeede89-e63f-477a-8cc7-c2c169d9c7a9",
   "metadata": {},
   "outputs": [],
   "source": []
  }
 ],
 "metadata": {
  "kernelspec": {
   "display_name": "mengshi_thesis_exp9",
   "language": "python",
   "name": "mengshi_thesis_exp9"
  },
  "language_info": {
   "codemirror_mode": {
    "name": "ipython",
    "version": 3
   },
   "file_extension": ".py",
   "mimetype": "text/x-python",
   "name": "python",
   "nbconvert_exporter": "python",
   "pygments_lexer": "ipython3",
   "version": "3.9.17"
  }
 },
 "nbformat": 4,
 "nbformat_minor": 5
}
