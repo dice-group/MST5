{
 "cells": [
  {
   "cell_type": "code",
   "execution_count": null,
   "id": "f26cecd6-bd22-4b7a-9094-180c83915173",
   "metadata": {
    "tags": []
   },
   "outputs": [],
   "source": [
    "from transformers import T5Tokenizer\n",
    "import json"
   ]
  },
  {
   "cell_type": "code",
   "execution_count": null,
   "id": "d44af6cd-273c-4fcb-a067-1e2fbfdb891a",
   "metadata": {
    "tags": []
   },
   "outputs": [],
   "source": [
    "tokenizer = T5Tokenizer.from_pretrained('google/mt5-xl', legacy=False)"
   ]
  },
  {
   "cell_type": "code",
   "execution_count": null,
   "id": "8eb51e85-a621-4a2f-81e5-011ca7a5f261",
   "metadata": {
    "tags": []
   },
   "outputs": [],
   "source": [
    "sample_query = \"After whom is the Riemannian geometry named? <pad> <pad> <pad>SCONJ PRON AUX DET ADJ NOUN VERB PUNCT <pad> wd_Q761383 <pad> <pad> \"\n",
    "tokenizer.tokenize(sample_query)"
   ]
  },
  {
   "cell_type": "markdown",
   "id": "e85c3008-9829-4e0b-ad82-64e796f80d13",
   "metadata": {
    "tags": []
   },
   "source": [
    "**Token analysis for datasets**"
   ]
  },
  {
   "cell_type": "code",
   "execution_count": null,
   "id": "c412f2a9-291c-4542-8876-96dd266ef891",
   "metadata": {
    "tags": []
   },
   "outputs": [],
   "source": [
    "### DBpedia\n",
    "qald_data_paths = {\n",
    "    'qald9plus_train_path': '../datasets/qald9plus/dbpedia/qald_9_plus_train_dbpedia.json',\n",
    "    'qald9plus_test_path': '../datasets/qald9plus/dbpedia/qald_9_plus_test_dbpedia.json'\n",
    "}\n",
    "\n",
    "lcquad_data_paths = {\n",
    "    'lcquad2_train_path': '../datasets/lcquad1/train-data.json',\n",
    "    'lcquad2_test_path': '../datasets/lcquad1/test-data.json'\n",
    "}\n",
    "\n",
    "### Wikidata\n",
    "# qald_data_paths = {\n",
    "#     'qald9plus_train_path': '../datasets/qald9plus/wikidata/qald_9_plus_train_wikidata.json',\n",
    "#     'qald9plus_test_path': '../datasets/qald9plus/wikidata/qald_9_plus_test_wikidata.json',\n",
    "#     'qald10_train_path': '../datasets/qald10/qald_10.json'\n",
    "# }\n",
    "\n",
    "# lcquad_data_paths = {\n",
    "#     'lcquad2_train_path': '../datasets/lcquad2/train.json',\n",
    "#     'lcquad2_test_path': '../datasets/lcquad2/test.json'\n",
    "# }"
   ]
  },
  {
   "cell_type": "code",
   "execution_count": null,
   "id": "e15e3ef5-5e34-4d7f-baad-a8c7025685f8",
   "metadata": {
    "tags": []
   },
   "outputs": [],
   "source": [
    "# Find maximum question length in QALDfiles\n",
    "qald_max_length = 0\n",
    "max_question_string = ''\n",
    "max_file = ''\n",
    "for file in qald_data_paths.values():\n",
    "    with open(file, 'r') as fp:\n",
    "        qald_obj = json.load(fp)\n",
    "    for question_obj in qald_obj['questions']:\n",
    "        for q_pair in question_obj['question']:\n",
    "            q_str = q_pair['string']\n",
    "            cur_len = len(tokenizer.tokenize(q_str))\n",
    "            if cur_len > qald_max_length:\n",
    "                qald_max_length = cur_len\n",
    "                max_question_string = q_str\n",
    "                max_file = file\n",
    "\n",
    "print('Maximum NL token length:', qald_max_length)\n",
    "print('question:', max_question_string)\n",
    "print('File:', max_file)"
   ]
  },
  {
   "cell_type": "code",
   "execution_count": null,
   "id": "318929ee-f9fc-4e52-8a01-08fc5743a84c",
   "metadata": {
    "tags": []
   },
   "outputs": [],
   "source": [
    "# Find maximum SPARQL length in QALDfiles\n",
    "qald_max_length = 0\n",
    "max_question_string = ''\n",
    "max_file = ''\n",
    "for file in qald_data_paths.values():\n",
    "    with open(file, 'r') as fp:\n",
    "        qald_obj = json.load(fp)\n",
    "    for question_obj in qald_obj['questions']:\n",
    "        q_str = question_obj['query']['sparql']\n",
    "        cur_len = len(tokenizer.tokenize(q_str))\n",
    "        if cur_len > qald_max_length:\n",
    "            qald_max_length = cur_len\n",
    "            max_question_string = q_str\n",
    "            max_file = file\n",
    "\n",
    "print('Maximum SPARQL token length:', qald_max_length)\n",
    "print('question:', max_question_string)\n",
    "print('File:', max_file)"
   ]
  },
  {
   "cell_type": "code",
   "execution_count": null,
   "id": "059bf975-a4a8-406b-a68a-d466c2c2e4b6",
   "metadata": {
    "tags": []
   },
   "outputs": [],
   "source": [
    "# Find maximum question length in LCQUAD files\n",
    "lcquad_max_length = 0\n",
    "max_question_string = ''\n",
    "max_file = ''\n",
    "for file in lcquad_data_paths.values():\n",
    "    with open(file, 'r') as fp:\n",
    "        lcquad_obj = json.load(fp)\n",
    "    for question_obj in lcquad_obj:\n",
    "        q_str = question_obj.get('NNQT_question')\n",
    "        if not q_str:\n",
    "            q_str = question_obj.get('corrected_question')\n",
    "        cur_len = len(tokenizer.tokenize(q_str))\n",
    "        if cur_len > lcquad_max_length:\n",
    "            lcquad_max_length = cur_len\n",
    "            max_question_string = q_str\n",
    "            max_file = file\n",
    "\n",
    "print('Maximum NL token length:', lcquad_max_length)\n",
    "print('question:', max_question_string)\n",
    "print('File:', max_file)"
   ]
  },
  {
   "cell_type": "code",
   "execution_count": null,
   "id": "aeeede89-e63f-477a-8cc7-c2c169d9c7a9",
   "metadata": {
    "tags": []
   },
   "outputs": [],
   "source": [
    "import csv\n",
    "from transformers import T5Tokenizer"
   ]
  },
  {
   "cell_type": "code",
   "execution_count": null,
   "id": "7e182c1f-fdbd-4637-bcac-4944882b7835",
   "metadata": {
    "tags": []
   },
   "outputs": [],
   "source": [
    "tokenizer = T5Tokenizer.from_pretrained('google/mt5-xl', legacy=False)\n",
    "tokenizer.add_tokens([\"<start-of-pos-tags>\", \"<start-of-dependency-relation>\", \"<start-of-dependency-tree-depth>\", \"<start-of-entity-info>\"])\n",
    "# csvfile = open('../datasets/lcquad2/train-lc-ent.csv','r')\n",
    "# csvfile = open('../datasets/lcquad2/train-simple.csv','r')\n",
    "# csvfile = open('../datasets/lcquad2/train-lc.csv','r')\n",
    "# csvfile = open('../datasets/lcquad2/train-ent.csv','r')\n",
    "\n",
    "# csvfile = open('../datasets/qald9plus/wikidata/qald_9_plus_train_wikidata-lc-ent.csv','r')\n",
    "# csvfile = open('../datasets/qald9plus/wikidata/qald_9_plus_train_wikidata-simple.csv','r')\n",
    "# csvfile = open('../datasets/qald9plus/wikidata/qald_9_plus_train_wikidata-lc.csv','r')\n",
    "# csvfile = open('../datasets/qald9plus/wikidata/qald_9_plus_train_wikidata-ent.csv','r')\n",
    "csvfile = open('../datasets/lcquad1/train-data.csv','r')\n",
    "\n",
    "spamreader = csv.reader(csvfile)\n",
    "header = next(spamreader)"
   ]
  },
  {
   "cell_type": "code",
   "execution_count": null,
   "id": "4085ee3f-4622-47e6-ba97-80b324625222",
   "metadata": {
    "tags": []
   },
   "outputs": [],
   "source": [
    "expected_len = 576 # lc-ent\n",
    "# expected_len = 128 # simple\n",
    "# expected_len = 512 # lc\n",
    "# expected_len = 192 # ent\n",
    "all_valid = True\n",
    "for row in spamreader:\n",
    "    row_len = len(tokenizer.tokenize(row[0].strip()))\n",
    "    if(row_len != expected_len):\n",
    "        print(row[0])\n",
    "        print(row_len)\n",
    "        all_valid = False\n",
    "        break\n",
    "if all_valid:\n",
    "    print('All strings format as expected.')\n",
    "\n",
    "# Note: Only question that fails for samples with linguistic context is from LCQUAD2 train:\n",
    "# \"NNQT_question\": \"What is {safety classification and labelling} of {water}, that has {original title} is {Europa-Parlamentets og R\\u00e5dets forordning (EF) nr. 1272/2008 af 16. december 2008 om klassificering, m\\u00e6rkning og emballering af stoffer og blandinger og om \\u00e6ndring og oph\\u00e6velse af direktiv 67/548/E\\u00d8F og 1999/45/EF og om \\u00e6ndring af forordning (EF) nr. 1907/2006} ?\",\n",
    "# \"uid\": 12586\n",
    "# We choose to ignore this particular error as the sample size is too low."
   ]
  },
  {
   "cell_type": "code",
   "execution_count": null,
   "id": "97b6fb59-e804-44b7-9fe4-c8e4b9cc677c",
   "metadata": {},
   "outputs": [],
   "source": []
  }
 ],
 "metadata": {
  "kernelspec": {
   "display_name": "mst5-venv",
   "language": "python",
   "name": "python3"
  },
  "language_info": {
   "codemirror_mode": {
    "name": "ipython",
    "version": 3
   },
   "file_extension": ".py",
   "mimetype": "text/x-python",
   "name": "python",
   "nbconvert_exporter": "python",
   "pygments_lexer": "ipython3",
   "version": "3.11.2"
  }
 },
 "nbformat": 4,
 "nbformat_minor": 5
}
