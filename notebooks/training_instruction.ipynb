{
 "cells": [
  {
   "cell_type": "markdown",
   "metadata": {},
   "source": [
    "# Train model for exp9\n",
    "\n",
    "- use Wikidata knowledge graph\n",
    "- use mT5-XL as base model\n",
    "- pre-train on LC-QuAD 2.0 for 32 epochs\n",
    "- pre-train on QALD-9-Plus all languages for 15 epochs\n",
    "- with linguistic context in pre-training and fine-tuning\n",
    "- without entity knowledge\n",
    "- without padding, only add a `<pad>` token after each component"
   ]
  },
  {
   "cell_type": "markdown",
   "metadata": {},
   "source": [
    "## Generate datasets"
   ]
  },
  {
   "cell_type": "markdown",
   "metadata": {},
   "source": [
    "```bash\n",
    "python3 code/generate_train_csv.py \\\n",
    "-i datasets/lcquad1/train-data.json \\\n",
    "-o datasets/lcquad1/train-data.csv \\\n",
    "-t lcquad1 \\\n",
    "--linguistic_context \\\n",
    "--question_padding_length 0\n",
    "```"
   ]
  },
  {
   "cell_type": "markdown",
   "metadata": {},
   "source": []
  }
 ],
 "metadata": {
  "language_info": {
   "name": "python"
  },
  "orig_nbformat": 4
 },
 "nbformat": 4,
 "nbformat_minor": 2
}
