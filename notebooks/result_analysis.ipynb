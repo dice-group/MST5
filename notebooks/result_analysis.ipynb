{
 "cells": [
  {
   "cell_type": "code",
   "execution_count": 1,
   "metadata": {},
   "outputs": [],
   "source": [
    "import sys\n",
    "sys.path.append('../code/')\n",
    "from utils.preprocess import read_json\n",
    "from Ques_pair import Ques_pair"
   ]
  },
  {
   "cell_type": "code",
   "execution_count": 2,
   "metadata": {},
   "outputs": [],
   "source": [
    "ref_file = read_json(\"../datasets/qald9plus/qald_9_plus_test_wikidata.json\")\n",
    "pred_file = read_json(\"/Users/mengshima/Downloads/en.json\") # mt5 linguistic 11 languages"
   ]
  },
  {
   "cell_type": "code",
   "execution_count": 3,
   "metadata": {},
   "outputs": [],
   "source": [
    "ref_ques_list = [ref for ref in ref_file[\"questions\"]]\n",
    "pred_ques_list = [pred for pred in pred_file[\"questions\"]]"
   ]
  },
  {
   "cell_type": "code",
   "execution_count": 4,
   "metadata": {},
   "outputs": [
    {
     "name": "stdout",
     "output_type": "stream",
     "text": [
      "id: 99\n",
      "question: What is the time zone of Salt Lake City?\n",
      "ref sparql: SELECT DISTINCT ?o1 WHERE { wd:Q23337 wdt:P421 ?o1 . }\n",
      "pred sparql: SELECT DISTINCT ?uri WHERE { wd:Q187893 wdt:P421 ?uri }\n",
      "ref_answer:\n",
      " [{'o1': {'type': 'uri', 'value': 'http://www.wikidata.org/entity/Q3134980'}}, {'o1': {'type': 'uri', 'value': 'http://www.wikidata.org/entity/Q2212'}}]\n",
      "pred_answer:\n",
      " [{'uri': {'type': 'uri', 'value': 'http://www.wikidata.org/entity/Q5762'}}]\n",
      "\n",
      "\n",
      "id: 98\n",
      "question: Who killed Caesar?\n",
      "ref sparql: SELECT DISTINCT ?o1 WHERE { wd:Q1048 wdt:P157 ?o1 . }\n",
      "pred sparql: SELECT DISTINCT ?uri WHERE { wd:Q692 wdt:P570 ?uri . }\n",
      "ref_answer:\n",
      " [{'o1': {'type': 'uri', 'value': 'http://www.wikidata.org/entity/Q172248'}}, {'o1': {'type': 'uri', 'value': 'http://www.wikidata.org/entity/Q207370'}}, {'o1': {'type': 'uri', 'value': 'http://www.wikidata.org/entity/Q294846'}}, {'o1': {'type': 'uri', 'value': 'http://www.wikidata.org/entity/Q1228715'}}, {'o1': {'type': 'uri', 'value': 'http://www.wikidata.org/entity/Q1243545'}}]\n",
      "pred_answer:\n",
      " [{'uri': {'datatype': 'http://www.w3.org/2001/XMLSchema#dateTime', 'type': 'literal', 'value': '1616-05-03T00:00:00Z'}}]\n",
      "\n",
      "\n",
      "id: 86\n",
      "question: What is the highest mountain in Germany?\n",
      "ref sparql: SELECT ?uri WHERE { ?uri wdt:P31 wd:Q8502 ; wdt:P2044 ?elevation ; wdt:P17 wd:Q183 . } ORDER BY DESC(?elevation) LIMIT 1\n",
      "pred sparql: SELECT ?res WHERE { ?res wdt:P31 wd:Q8502 . ?res wdt:P131+ wd:Q1202 . ?res wdt:P2044 ?height . } ORDER BY DESC(?height) LIMIT 1\n",
      "ref_answer:\n",
      " [{'uri': {'type': 'uri', 'value': 'http://www.wikidata.org/entity/Q3375'}}]\n",
      "pred_answer:\n",
      " [{'res': {'type': 'uri', 'value': 'http://www.wikidata.org/entity/Q164561'}}]\n",
      "\n",
      "\n",
      "id: 84\n",
      "question: Which American presidents were in office during the Vietnam War?\n",
      "ref sparql: SELECT DISTINCT ?o WHERE { wd:Q8740 wdt:P580 ?startWar . wd:Q8740 wdt:P582 ?endWar . wd:Q30 <p:P6> ?blank . ?blank ps:P6 ?o . ?blank pq:P580 ?start . ?blank pq:P582 ?end . FILTER (?startWar < ?start && ?endWar > ?end)} \n",
      "pred sparql: SELECT DISTINCT ?uri WHERE { ?uri wdt:P39 wd:Q9696 ; wdt:P20 wd:Q20 . }\n",
      "ref_answer:\n",
      " [{'o': {'type': 'uri', 'value': 'http://www.wikidata.org/entity/Q9588'}}, {'o': {'type': 'uri', 'value': 'http://www.wikidata.org/entity/Q9640'}}, {'o': {'type': 'uri', 'value': 'http://www.wikidata.org/entity/Q9696'}}]\n",
      "pred_answer:\n",
      " []\n",
      "\n",
      "\n",
      "id: 81\n",
      "question: Butch Otter is the governor of which U.S. state?\n",
      "ref sparql: SELECT ?res WHERE { ?res wdt:P6 wd:Q39593 . }\n",
      "pred sparql: SELECT DISTINCT ?uri WHERE { wd:Q4970706 wdt:P6 ?uri . } \n",
      "ref_answer:\n",
      " []\n",
      "pred_answer:\n",
      " []\n",
      "\n",
      "\n"
     ]
    }
   ],
   "source": [
    "n = 5\n",
    "for ref, pred in zip(ref_ques_list[:n], pred_ques_list[:n]):\n",
    "    ques_pair = Ques_pair(ref, pred)\n",
    "    ques_pair.print(print_answer=True)\n",
    "    print()"
   ]
  },
  {
   "cell_type": "code",
   "execution_count": 5,
   "metadata": {},
   "outputs": [],
   "source": [
    "entity_f1_sum = 0\n",
    "relation_f1_sum = 0\n",
    "num_of_ques = len(ref_ques_list)\n",
    "\n",
    "for ref, pred in zip(ref_ques_list, pred_ques_list):\n",
    "    ques_pair = Ques_pair(ref, pred)\n",
    "    entity_f1_sum += ques_pair.calculate_entity_f1()\n",
    "    relation_f1_sum += ques_pair.calculate_relation_f1()\n",
    "\n",
    "macro_entity_f1 = entity_f1_sum / num_of_ques\n",
    "macro_relation_f1 = relation_f1_sum / num_of_ques"
   ]
  },
  {
   "cell_type": "code",
   "execution_count": 6,
   "metadata": {},
   "outputs": [
    {
     "data": {
      "text/plain": [
       "0.1744281045751634"
      ]
     },
     "execution_count": 6,
     "metadata": {},
     "output_type": "execute_result"
    }
   ],
   "source": [
    "macro_entity_f1"
   ]
  },
  {
   "cell_type": "code",
   "execution_count": 7,
   "metadata": {},
   "outputs": [
    {
     "data": {
      "text/plain": [
       "0.2720588235294118"
      ]
     },
     "execution_count": 7,
     "metadata": {},
     "output_type": "execute_result"
    }
   ],
   "source": [
    "macro_relation_f1"
   ]
  },
  {
   "cell_type": "code",
   "execution_count": 13,
   "metadata": {},
   "outputs": [
    {
     "name": "stdout",
     "output_type": "stream",
     "text": [
      "id: 84\n",
      "question: Which American presidents were in office during the Vietnam War?\n",
      "ref sparql: SELECT DISTINCT ?o WHERE { wd:Q8740 wdt:P580 ?startWar . wd:Q8740 wdt:P582 ?endWar . wd:Q30 <p:P6> ?blank . ?blank ps:P6 ?o . ?blank pq:P580 ?start . ?blank pq:P582 ?end . FILTER (?startWar < ?start && ?endWar > ?end)} \n",
      "pred sparql: SELECT DISTINCT ?uri WHERE { ?uri wdt:P39 wd:Q9696 ; wdt:P20 wd:Q20 . }\n",
      "\n",
      "id: 81\n",
      "question: Butch Otter is the governor of which U.S. state?\n",
      "ref sparql: SELECT ?res WHERE { ?res wdt:P6 wd:Q39593 . }\n",
      "pred sparql: SELECT DISTINCT ?uri WHERE { wd:Q4970706 wdt:P6 ?uri . } \n",
      "\n",
      "id: 56\n",
      "question: How many seats does the home stadium of FC Porto have?\n",
      "ref sparql: SELECT DISTINCT ?num WHERE { wd:Q128446 wdt:P115/wdt:P1083 ?num }\n",
      "pred sparql: SELECT DISTINCT ?uri WHERE { wd:Q483110 wdt:P131 ?uri . }\n",
      "\n",
      "id: 49\n",
      "question: Which frequent flyer program has the most airlines?\n",
      "ref sparql: SELECT ?frequentflyer WHERE { ?airlines wdt:P31 wd:Q46970 . ?airlines p:P4446/ps:P4446 ?frequentflyer . } GROUP BY ?frequentflyer ORDER BY DESC(COUNT(?airlines)) LIMIT 1\n",
      "pred sparql: SELECT DISTINCT ?uri WHERE { ?uri wdt:P31/wdt:P279* wd:Q46970 } ?uri wdt:P106 ?uri . } GROUP BY ?uri ORDER BY DESC(COUNT(DISTINCT ?uri) LIMIT 1\n",
      "\n",
      "id: 42\n",
      "question: Which countries have places with more than two caves?\n",
      "ref sparql: SELECT DISTINCT ?uri WHERE { ?cave wdt:P31 wd:Q35509 ; wdt:P17 ?uri . } GROUP BY ?uri HAVING (COUNT(?cave) > 2)\n",
      "pred sparql: SELECT DISTINCT ?uri WHERE { ?uri wdt:P31 wd:Q6256 . ?uri wdt:P37 ?lake . ?uri wdt:P31 wd:Q5287 . } GROUP BY ?uri HAVING(COUNT(?lake)>\n",
      "\n",
      "id: 214\n",
      "question: Give me all professional skateboarders from Sweden.\n",
      "ref sparql:  SELECT ?s1 WHERE { ?s1 wdt:P641 wd:Q842284 . ?s1 wdt:P19 ?o1 . ?o1 wdt:P131* wd:Q34 . }\n",
      "pred sparql: SELECT ?uri WHERE { ?uri wdt:P106 wd:Q10841764 ; wdt:P19 wd:Q64 . }\n",
      "\n",
      "id: 199\n",
      "question: Give me all Argentine films.\n",
      "ref sparql: SELECT DISTINCT ?uri { ?uri wdt:P31 wd:Q11424 . ?uri wdt:P495 wd:Q414 }\n",
      "pred sparql: SELECT DISTINCT ?uri WHERE { ?uri wdt:P31 wd:Q11424 ; wdt:P162 wd:Q193668 ; wdt:P495 wd:Q29 ; wdt:P161 ?uri . }\n",
      "\n",
      "id: 187\n",
      "question: Who is the husband of Amanda Palmer?\n",
      "ref sparql: SELECT ?uri WHERE { ?uri wdt:P26 wd:Q240377 } \n",
      "pred sparql: SELECT DISTINCT ?o1 WHERE { wd:Q303 wdt:P26 wd:Q303 . }\n",
      "\n",
      "id: 176\n",
      "question: Who painted The Storm on the Sea of Galilee?\n",
      "ref sparql: SELECT ?uri WHERE { wd:Q2246489 wdt:P170 ?uri } \n",
      "pred sparql: SELECT DISTINCT ?uri WHERE { wd:Q7378 wdt:P737 ?uri . }\n",
      "\n",
      "id: 25\n",
      "question: What is the longest river in China?\n",
      "ref sparql: SELECT DISTINCT ?uri WHERE { ?uri wdt:P31 wd:Q4022 . ?uri wdt:P17 wd:Q148 . ?uri wdt:P2043 ?length } ORDER BY DESC(?length) LIMIT 1\n",
      "pred sparql: SELECT DISTINCT ?uri WHERE { ?uri wdt:P31 wd:Q4022 . ?uri p:P2043\n",
      "\n",
      "id: 134\n",
      "question: What is Batman's real name?\n",
      "ref sparql: SELECT DISTINCT ?uri WHERE { wd:Q2695156 wdt:P460 ?uri . }\n",
      "pred sparql: SELECT DISTINCT ?uri WHERE { wd:Q166262 wdt:P1477 ?uri . }\n",
      "\n",
      "id: 113\n",
      "question: Which German cities have more than 250000 inhabitants?\n",
      "ref sparql:  SELECT ?s1 WHERE { ?s1 wdt:P17 wd:Q183 . ?s1 wdt:P31 wd:Q515 . ?s1 wdt:P1082 ?o1 . FILTER ( ?o1 > \"250000\"^^<http://www.w3.org/2001/XMLSchema#integer>)}\n",
      "pred sparql: SELECT DISTINCT ?uri WHERE { ?uri wdt:P31 wd:Q515 ; wdt:P131+ wd:Q515 . } GROUP BY ?uri HAVING(COUNT(DISTINCT ?uri) as ?cnt) { ?uri wdt:P31 wd:Q515 . } UNION { ?uri w\n",
      "\n",
      "id: 39\n",
      "question: Which poet wrote the most books?\n",
      "ref sparql: SELECT DISTINCT ?uri WHERE { ?uri wdt:P106 wd:Q49757 . ?x wdt:P50 ?uri ; wdt:P31 wd:Q571 . } GROUP BY ?uri ORDER BY DESC(COUNT(?x)) LIMIT 1\n",
      "pred sparql: SELECT DISTINCT ?s1 WHERE { ?s1 wdt:P106 wd:Q49757 . ?s2 wdt:P50 ?s1 . ?s2 wdt:P31 wd:Q571 . } GROUP BY ?s1 ORDER BY\n",
      "\n",
      "id: 105\n",
      "question: Which countries have more than ten volcanoes?\n",
      "ref sparql: SELECT DISTINCT ?uri WHERE { { ?volcano wdt:P31 wd:Q8072 . } UNION { ?volcano wdt:P31 ?type . ?type wdt:P279* wd:Q8072 . } ?volcano wdt:P17 ?uri . } GROUP BY ?uri HAVING(COUNT(?volcano)>10)\n",
      "pred sparql: SELECT DISTINCT ?uri WHERE { ?uri wdt:P31 wd:Q6256 . ?uri wdt:P131+ wd:Q1408 . ?uri wdt:P1082 ?lake . ?uri <p:\n",
      "\n",
      "id: 102\n",
      "question: When did Dracula's creator die?\n",
      "ref sparql: SELECT ?date WHERE { wd:Q3266236 wdt:P170 ?author . ?author wdt:P570 ?date }\n",
      "pred sparql: SELECT DISTINCT ?uri WHERE { wd:Q2695156 wdt:P570 ?uri . }\n",
      "\n",
      "id: 154\n",
      "question: Which books were written by Danielle Steel?\n",
      "ref sparql: SELECT DISTINCT ?uri WHERE { ?uri wdt:P50 wd:Q72653 . ?uri wdt:P136 ?genre . ?genre wdt:P279* wd:Q571 . }\n",
      "pred sparql: SELECT DISTINCT ?uri WHERE { ?uri wdt:P31 wd:Q571 . ?uri wdt:P50 wd:Q72653 . } \n",
      "\n",
      "id: 212\n",
      "question: Which companies work in the aerospace industry as well as in medicine?\n",
      "ref sparql: SELECT DISTINCT ?uri WHERE { ?type wdt:P279* wd:Q4830453 . ?aerospace wdt:P279* wd:Q3477363 . ?healthcare wdt:P279* wd:Q15067276 . ?pharma wdt:P279* wd:Q507443 . ?uri wdt:P452 ?aerospace ; wdt:P452 ?healthcare . }\n",
      "pred sparql: SELECT DISTINCT ?uri WHERE { ?uri wdt:P31 wd:Q212282 . }\n",
      "\n",
      "id: 79\n",
      "question: Are there any castles in the United States?\n",
      "ref sparql: ASK WHERE { { ?uri wdt:P31 wd:Q23413. } UNION { ?uri wdt:P31 ?castlesubtype . ?castlesubtype wdt:P279* wd:Q23413 } ?uri wdt:P17 wd:Q30 }\n",
      "pred sparql: SELECT DISTINCT ?uri WHERE { ?uri wdt:P31 wd:Q1207989 ; wdt:P17 wd:Q30 . }\n",
      "\n",
      "id: 80\n",
      "question: Give me a list of all critically endangered birds.\n",
      "ref sparql: SELECT DISTINCT ?uri WHERE { ?uri wdt:P171* wd:Q5113 . ?uri wdt:P141 wd:Q219127 . }\n",
      "pred sparql: SELECT DISTINCT ?uri WHERE { ?uri wdt:P31 wd:Q7378 ; wdt:P17 wd:Q408 ; wdt:P1082 ?population . } ORDER BY DESC(?population) LIMIT 1\n",
      "\n",
      "id: 163\n",
      "question: Give me all chemical elements.\n",
      "ref sparql: SELECT DISTINCT ?uri WHERE { ?uri wdt:P31 wd:Q11344 . }\n",
      "pred sparql: SELECT DISTINCT ?uri WHERE { ?uri wdt:P31 wd:Q635637 ; wdt:P17 wd:Q35637 . }\n",
      "\n",
      "id: 211\n",
      "question: Give me all American presidents of the last 20 years.\n",
      "ref sparql: SELECT DISTINCT ?uri WHERE { ?uri p:P39 ?position . ?position ps:P39 wd:Q11696 . ?position pq:P582 ?termEnd. FILTER((YEAR(NOW()) - YEAR(?termEnd)) <= 20) }\n",
      "pred sparql: SELECT ?uri WHERE { ?uri wdt:P39 wd:Q473984 . ?uri p:P39 ?statement . ?statement pq:P580 ?startDate ; ps:P582 ?date . FILTER(?date >= \n",
      "\n",
      "id: 151\n",
      "question: Give me all B-sides of the Ramones.\n",
      "ref sparql: SELECT ?res WHERE { ?res wdt:P175 wd:Q483407 . ?res p:P1433 _:a ._:a pq:P2868 wd:Q13432985 . }\n",
      "pred sparql: SELECT ?res WHERE { ?res wdt:P175 wd:Q483407 . ?res p:P1433 _:\n",
      "\n",
      "id: 27\n",
      "question: Which rivers flow into the North Sea?\n",
      "ref sparql: SELECT DISTINCT ?uri WHERE { ?uri wdt:P31 wd:Q4022 . ?uri wdt:P403 wd:Q1693 . }\n",
      "pred sparql: SELECT DISTINCT ?uri WHERE { ?uri wdt:P31 wd:Q4022 . ?lake wdt:P31 wd:Q23397 ; wdt:P17 wd:183 . ?uri wdt:P200 ?lake . }\n",
      "\n",
      "id: 108\n",
      "question: When did Paraguay proclaim its independence?\n",
      "ref sparql: SELECT ?o1 WHERE { wd:Q733 wdt:P571 ?o1 . }\n",
      "pred sparql: SELECT DISTINCT ?date WHERE { wd:Q928 <p:P39> ?date . }\n",
      "\n",
      "id: 15\n",
      "question: How short is the shortest active NBA player?\n",
      "ref sparql: SELECT DISTINCT ?height WHERE { ?uri wdt:P106 wd:Q3665646 . ?uri wdt:P54/wdt:P118 wd:Q155223 . ?uri <p:P54> ?teamMembership . FILTER NOT EXISTS { ?teamMembership pq:P582 ?endDate } ?uri wdt:P2048 ?height } ORDER BY ?height LIMIT 1\n",
      "pred sparql: SELECT DISTINCT ?uri WHERE { ?uri w\n",
      "\n",
      "id: 82\n",
      "question: When was Jack Wolfskin founded?\n",
      "ref sparql: SELECT ?date WHERE { wd:Q536133 wdt:P571 ?date . } \n",
      "pred sparql: SELECT DISTINCT ?date WHERE { wd:Q622188 wdt:P62 ?date . }\n",
      "\n",
      "id: 9\n",
      "question: In which city is the headquarter of Air China?\n",
      "ref sparql: SELECT DISTINCT ?uri WHERE { wd:Q51747 wdt:P159 ?uri } \n",
      "pred sparql: SELECT DISTINCT ?uri WHERE { wd:Q51747 wdt:P131 ?uri . { ?uri wdt:P31 wd:Q515 . } UNION {?uri wdt:P31/<p:direct/P279\n",
      "\n",
      "id: 201\n",
      "question: What is the founding year of the brewery that produces Pilsner Urquell?\n",
      "ref sparql: SELECT ?date WHERE { wd:Q948831 wdt:P571 ?date . } \n",
      "pred sparql: SELECT ?year WHERE { wd:Q622188 wdt:P571 ?year . ?year wdt:P31/wdt:P279* wd:Q43229 . FILTER(year(?year) = 1930) . }\n",
      "\n",
      "id: 182\n",
      "question: Which animals are critically endangered?\n",
      "ref sparql: SELECT DISTINCT ?uri WHERE { ?uri wdt:P141 wd:Q219127 }\n",
      "pred sparql: SELECT DISTINCT ?uri WHERE { ?uri wdt:P31 wd:Q7378 ; wdt:P17 wd:Q408 ; wdt:P1082 ?population . } ORDER BY DESC(?population) LIMIT 1\n",
      "\n",
      "id: 206\n",
      "question: What was the name of the famous battle in 1836 in San Antonio?\n",
      "ref sparql: SELECT ?uri WHERE { ?uri wdt:P276 wd:Q975 . ?uri wdt:P31 wd:Q178561 . ?uri wdt:P585 ?time . FILTER( YEAR(?time) = 1836 ) } \n",
      "pred sparql: SELECT DISTINCT ?uri WHERE { ?uri wdt:P31 wd:Q937857 ; wdt:P19 ?city . ?city wdt:P159 wd:Q1471 . }\n",
      "\n",
      "id: 192\n",
      "question: Which museum exhibits The Scream by Munch?\n",
      "ref sparql: SELECT DISTINCT ?uri WHERE { wd:Q471379 wdt:P527/wdt:P276 ?uri . ?uri wdt:P31 wd:Q207694}\n",
      "pred sparql: SELECT DISTINCT ?uri WHERE { wd:Q33506 wdt:P131 ?uri . }\n",
      "\n",
      "id: 19\n",
      "question: Who became president after JFK died?\n",
      "ref sparql: SELECT DISTINCT ?uri WHERE { wd:Q9696 <p:P39> ?position . ?position ps:P39 wd:Q11696 . ?position pq:P1366 ?uri . }\n",
      "pred sparql: PREFIX pq: pq: PREFIX ps: ps: PREFIX wdt: wdt: PREFIX wd: wd: PREFIX p: <p:> PREFIX pq: pq: PREFIX p: <http://www.wikidata.org/prop\n",
      "\n",
      "id: 94\n",
      "question: When did princess Diana die?\n",
      "ref sparql: SELECT DISTINCT ?date WHERE { wd:Q9685 wdt:P570 ?date . }\n",
      "pred sparql: SELECT DISTINCT ?date WHERE { wd:Q152316 wdt:P22 ?date . }\n",
      "\n",
      "id: 115\n",
      "question: How many rivers and lakes are in South Carolina?\n",
      "ref sparql: SELECT (COUNT(?uri) AS ?c) WHERE { ?uri wdt:P131 wd:Q1456 . ?uri wdt:P31/wdt:P279* wd:Q23397 . }\n",
      "pred sparql: SELECT DISTINCT ?uri WHERE { ?uri wdt:P31 wd:Q4022 . ?lake wdt:P31 wd:Q23397 ; wdt:P17 wd:183 . ?uri wdt:P200 ?lake . }\n",
      "\n",
      "id: 87\n",
      "question: Which book has the most pages?\n",
      "ref sparql: SELECT DISTINCT ?uri WHERE { ?uri wdt:P31/wdt:P279* wd:Q571 . ?uri wdt:P1104 ?number . } ORDER BY DESC(?number) LIMIT 1\n",
      "pred sparql: SELECT DISTINCT ?uri WHERE { ?uri wdt:P31 wd:Q571 ; wdt:P50 ?uri . } GROUP BY ?uri ORDER BY DESC(COUNT(?x)) LIMIT 1\n",
      "\n",
      "id: 179\n",
      "question: What were the names of the three ships by Columbus?\n",
      "ref sparql: SELECT DISTINCT ?uri WHERE { ?uri wdt:P31/wdt:P279* wd:Q11446 . ?uri wdt:P1344/wdt:P710 wd:Q7322 . } \n",
      "pred sparql: SELECT DISTINCT ?uri WHERE { ?uri wdt:P31 wd:Q177477 }\n",
      "\n",
      "36 SPARQL queries don't give an answer\n"
     ]
    }
   ],
   "source": [
    "# check reason of no answer\n",
    "counter = 0\n",
    "\n",
    "for ref, pred in zip(ref_ques_list, pred_ques_list):\n",
    "    ques_pair = Ques_pair(ref, pred)\n",
    "    if ques_pair.pred_answer==[]:\n",
    "        ques_pair.print()\n",
    "        counter += 1\n",
    "\n",
    "print(str(counter) + \" SPARQL queries don't give an answer\")\n",
    "\n",
    "# counter = sum([ques_pair.print() or 1 for ref, pred in zip(ref_ques_list, pred_ques_list) if (ques_pair := Ques_pair(ref, pred)).pred_answer == []])\n",
    "# print(counter)\n"
   ]
  },
  {
   "cell_type": "code",
   "execution_count": 15,
   "metadata": {},
   "outputs": [
    {
     "name": "stdout",
     "output_type": "stream",
     "text": [
      "id: 81\n",
      "question: Butch Otter is the governor of which U.S. state?\n",
      "ref sparql: SELECT ?res WHERE { ?res wdt:P6 wd:Q39593 . }\n",
      "pred sparql: SELECT DISTINCT ?uri WHERE { wd:Q4970706 wdt:P6 ?uri . } \n",
      "\n",
      "id: 149\n",
      "question: Which U.S. state has the highest population density?\n",
      "ref sparql: SELECT ?uri { ?uri wdt:P31 wd:Q35657 . ?uri wdt:P1082 ?population . ?uri wdt:P2046 ?area . BIND((?population/?area) AS ?density ) } ORDER BY DESC(?density) LIMIT 1\n",
      "pred sparql: SELECT DISTINCT ?uri WHERE { ?uri wdt:P31 wd:Q35657 ; wdt:P2046 ?area ; wdt:P1082 ?population . BIND((?population/?area) AS ?density) . } ORDER BY DESC(?density) LIMIT 1\n",
      "\n",
      "id: 21\n",
      "question: Who created English Wikipedia?\n",
      "ref sparql: SELECT ?uri WHERE { wd:Q52 wdt:P170 ?uri . ?uri wdt:P31 wd:Q5 . }\n",
      "pred sparql: SELECT DISTINCT ?uri WHERE { wd:Q52 wdt:P112 ?uri . }\n",
      "\n",
      "id: 141\n",
      "question: Which languages are spoken in Estonia?\n",
      "ref sparql: SELECT * WHERE { wd:Q191 wdt:P2936 ?lang . }\n",
      "pred sparql: SELECT * WHERE { wd:Q191 wdt:P2936 ?lang . }\n",
      "\n",
      "id: 45\n",
      "question: Where did Abraham Lincoln die?\n",
      "ref sparql: SELECT DISTINCT ?uri WHERE { wd:Q91 wdt:P20 ?uri . }\n",
      "pred sparql: SELECT DISTINCT ?uri WHERE { wd:Q91 wdt:P20 ?uri } \n",
      "\n",
      "id: 92\n",
      "question: Is the wife of President Obama called Michelle?\n",
      "ref sparql: ASK WHERE { wd:Q76 wdt:P26 ?obj . ?obj rdfs:label ?label FILTER( REGEX( ?label, \"Michelle\" ) ) }\n",
      "pred sparql: ASK WHERE { wd:Q76 wdt:P26 ?wife . ?wife rdfs:label ?name . FILTER regex(?name, \"Michelle\") }\n",
      "\n",
      "id: 119\n",
      "question: Which instruments does Cat Stevens play?\n",
      "ref sparql: SELECT DISTINCT ?uri WHERE { wd:Q154216 wdt:P1303 ?uri . } \n",
      "pred sparql: SELECT DISTINCT ?uri WHERE { wd:Q154216 wdt:P1303 ?uri . } \n",
      "\n",
      "7 questions are 100% correct\n"
     ]
    }
   ],
   "source": [
    "# check correct answers\n",
    "counter = 0\n",
    "\n",
    "for ref, pred in zip(ref_ques_list, pred_ques_list):\n",
    "    ques_pair = Ques_pair(ref, pred)\n",
    "    if ques_pair.pred_answer==ques_pair.ref_answer:\n",
    "        ques_pair.print()\n",
    "        counter += 1\n",
    "\n",
    "print(str(counter) + \" questions are 100% correct\")"
   ]
  },
  {
   "attachments": {},
   "cell_type": "markdown",
   "metadata": {},
   "source": [
    "# question, sparql query and answers"
   ]
  },
  {
   "attachments": {},
   "cell_type": "markdown",
   "metadata": {},
   "source": [
    "## id: 99"
   ]
  },
  {
   "cell_type": "code",
   "execution_count": null,
   "metadata": {},
   "outputs": [],
   "source": [
    "next(gold_ques_gen).print_along_with(next(pred_ques_gen))"
   ]
  },
  {
   "attachments": {},
   "cell_type": "markdown",
   "metadata": {},
   "source": [
    "- SPARQL syntax ✅\n",
    "- entity ❌\n",
    "- relation ✅\n",
    "- answer ❌\n",
    "\n",
    "Wrong entity: Q187893(San Pedro de Atacama)\n",
    "\n",
    "Q23337(Salt Lake City) is not in trianing data"
   ]
  },
  {
   "attachments": {},
   "cell_type": "markdown",
   "metadata": {},
   "source": [
    "## id: 98"
   ]
  },
  {
   "cell_type": "code",
   "execution_count": null,
   "metadata": {},
   "outputs": [],
   "source": [
    "next(gold_ques_gen).print_along_with(next(pred_ques_gen))\n"
   ]
  },
  {
   "attachments": {},
   "cell_type": "markdown",
   "metadata": {},
   "source": [
    "- SPARQL syntax ✅\n",
    "- entity ❌\n",
    "- relation ✅\n",
    "- answer ❌\n",
    "predicted entity: Q1203(John Lennon)\n",
    "\n",
    "Q1048(Julius Caesar) is not in training data"
   ]
  },
  {
   "attachments": {},
   "cell_type": "markdown",
   "metadata": {},
   "source": [
    "## id: 86"
   ]
  },
  {
   "cell_type": "code",
   "execution_count": null,
   "metadata": {},
   "outputs": [],
   "source": [
    "next(gold_ques_gen).print_along_with(next(pred_ques_gen))\n"
   ]
  },
  {
   "attachments": {},
   "cell_type": "markdown",
   "metadata": {},
   "source": [
    "- SPARQL syntax ✅\n",
    "- entity ✅\n",
    "- relation ❌\n",
    "- answer ❌\n",
    "\n",
    "A tuple is wrong, it gives the highest mountain in Q1202(Saxony), the rest parts are correct\n",
    "\n",
    "It learns from 201 in training set: \"What is the highest mountain in Saxony Germany?\""
   ]
  },
  {
   "attachments": {},
   "cell_type": "markdown",
   "metadata": {},
   "source": [
    "## id: 84"
   ]
  },
  {
   "cell_type": "code",
   "execution_count": null,
   "metadata": {},
   "outputs": [],
   "source": [
    "next(gold_ques_gen).print_along_with(next(pred_ques_gen))\n"
   ]
  },
  {
   "attachments": {},
   "cell_type": "markdown",
   "metadata": {},
   "source": [
    "absolutly no sense\n",
    "\n",
    "out-of-scope: Q8740\n",
    "\n",
    "training set 324: \"Was U.S. president Jackson involved in a war?\""
   ]
  },
  {
   "attachments": {},
   "cell_type": "markdown",
   "metadata": {},
   "source": [
    "## id: 81"
   ]
  },
  {
   "cell_type": "code",
   "execution_count": null,
   "metadata": {},
   "outputs": [],
   "source": [
    "next(gold_ques_gen).print_along_with(next(pred_ques_gen))\n"
   ]
  },
  {
   "attachments": {},
   "cell_type": "markdown",
   "metadata": {},
   "source": [
    "- SPARQL syntax ✅\n",
    "- entity ❌\n",
    "- relation ✅\n",
    "- answer ❌\n",
    "\n",
    "it get the answer of \"who is the governor of Q1214(Wyoming)\"\n",
    "\n",
    "Q39593 is not in the training data\n",
    "\n",
    "training set 66: \"Who is the governor of Wyoming?\""
   ]
  },
  {
   "attachments": {},
   "cell_type": "markdown",
   "metadata": {},
   "source": [
    "## id:66"
   ]
  },
  {
   "cell_type": "code",
   "execution_count": null,
   "metadata": {},
   "outputs": [],
   "source": [
    "next(gold_ques_gen).print_along_with(next(pred_ques_gen))\n"
   ]
  },
  {
   "attachments": {},
   "cell_type": "markdown",
   "metadata": {},
   "source": [
    "- SPARQL syntax ❌\n",
    "- entity ✅\n",
    "- relation ✅\n",
    "- answer ❌\n",
    "\n",
    "get the birth date of Rachel Stevens correctly, but miss the part of find other artists\n",
    "\n",
    "out-of-scope: Q483501(artists)"
   ]
  },
  {
   "attachments": {},
   "cell_type": "markdown",
   "metadata": {},
   "source": [
    "## id:64"
   ]
  },
  {
   "cell_type": "code",
   "execution_count": null,
   "metadata": {},
   "outputs": [],
   "source": [
    "next(gold_ques_gen).print_along_with(next(pred_ques_gen))\n"
   ]
  },
  {
   "attachments": {},
   "cell_type": "markdown",
   "metadata": {},
   "source": [
    "- SPARQL syntax ✅\n",
    "- entity ✅\n",
    "- relation ❌\n",
    "- answer ❌\n",
    "\n",
    "out-of-scope: P106(occupation)\n",
    "\n",
    "However, P194(doctoral advisor) is a relation which is plausible\n",
    "\n",
    "training set 337: \"Who was the doctoral supervisor of Albert Einstein?\""
   ]
  },
  {
   "attachments": {},
   "cell_type": "markdown",
   "metadata": {},
   "source": [
    "## id: 56"
   ]
  },
  {
   "cell_type": "code",
   "execution_count": null,
   "metadata": {},
   "outputs": [],
   "source": [
    "next(gold_ques_gen).print_along_with(next(pred_ques_gen))\n"
   ]
  },
  {
   "attachments": {},
   "cell_type": "markdown",
   "metadata": {},
   "source": [
    "- SPARQL syntax ✅\n",
    "- entity ❌\n",
    "- relation ❌\n",
    "- answer ❌\n",
    "\n",
    "floors above ground (P1101)\n",
    "\n",
    "out-of-scope: FC Porto (Q128446)\n",
    "\n",
    "FC Porto (Q128446) and maximum capacity (P1083) are not in training data"
   ]
  },
  {
   "attachments": {},
   "cell_type": "markdown",
   "metadata": {},
   "source": [
    "## id: 49"
   ]
  },
  {
   "cell_type": "code",
   "execution_count": null,
   "metadata": {},
   "outputs": [],
   "source": [
    "next(gold_ques_gen).print_along_with(next(pred_ques_gen))\n"
   ]
  },
  {
   "attachments": {},
   "cell_type": "markdown",
   "metadata": {},
   "source": [
    "- SPARQL syntax ✅\n",
    "- entity ✅\n",
    "- relation ❌\n",
    "- answer ❌\n",
    "\n",
    "understand that answer should is related to airlines, but fail to understand \"most\" and \"frequent flyer program\"\n",
    "\n",
    "out-of-scope: reward program (P4446)\n",
    "\n",
    "training 58: \"How many airlines are there?\"|"
   ]
  },
  {
   "attachments": {},
   "cell_type": "markdown",
   "metadata": {},
   "source": [
    "## id: 44"
   ]
  },
  {
   "cell_type": "code",
   "execution_count": null,
   "metadata": {},
   "outputs": [],
   "source": [
    "next(gold_ques_gen).print_along_with(next(pred_ques_gen))"
   ]
  },
  {
   "attachments": {},
   "cell_type": "markdown",
   "metadata": {},
   "source": [
    "- SPARQL syntax ✅\n",
    "- entity ❌\n",
    "- relation ❌\n",
    "- answer ❌\n",
    "\n",
    "training 163: \"Which Greek parties are pro-European?\"\n",
    "\n",
    "out-of-scope: constitutional monarchy (Q41614)"
   ]
  },
  {
   "attachments": {},
   "cell_type": "markdown",
   "metadata": {},
   "source": [
    "## id: 42"
   ]
  },
  {
   "cell_type": "code",
   "execution_count": null,
   "metadata": {},
   "outputs": [],
   "source": [
    "next(gold_ques_gen).print_along_with(next(pred_ques_gen))\n"
   ]
  },
  {
   "attachments": {},
   "cell_type": "markdown",
   "metadata": {},
   "source": [
    "- SPARQL syntax ✅\n",
    "- entity ❌\n",
    "- relation ❌\n",
    "- answer ❌\n",
    "\n",
    "training 57: \"Which rivers flow into a German lake?\"\n",
    "\n",
    "out-of-scope: cave (Q35509)"
   ]
  },
  {
   "attachments": {},
   "cell_type": "markdown",
   "metadata": {},
   "source": [
    "## id: 4"
   ]
  },
  {
   "cell_type": "code",
   "execution_count": null,
   "metadata": {},
   "outputs": [],
   "source": [
    "next(gold_ques_gen).print_along_with(next(pred_ques_gen))\n"
   ]
  },
  {
   "attachments": {},
   "cell_type": "markdown",
   "metadata": {},
   "source": [
    "- SPARQL syntax ✅\n",
    "- entity ❌\n",
    "- relation ❌\n",
    "- answer ❌\n",
    "\n",
    "out-of-scope: airport (Q1248784)"
   ]
  },
  {
   "attachments": {},
   "cell_type": "markdown",
   "metadata": {},
   "source": [
    "## id: 32"
   ]
  },
  {
   "cell_type": "code",
   "execution_count": null,
   "metadata": {},
   "outputs": [],
   "source": [
    "next(gold_ques_gen).print_along_with(next(pred_ques_gen))\n"
   ]
  },
  {
   "attachments": {},
   "cell_type": "markdown",
   "metadata": {},
   "source": [
    "- SPARQL syntax ✅\n",
    "- entity ✅\n",
    "- relation ✅\n",
    "- answer ✅\n",
    "\n",
    "training 151: \"What is the birth name of Angela Merkel?\""
   ]
  },
  {
   "attachments": {},
   "cell_type": "markdown",
   "metadata": {},
   "source": [
    "## id: 31"
   ]
  },
  {
   "cell_type": "code",
   "execution_count": null,
   "metadata": {},
   "outputs": [],
   "source": [
    "next(gold_ques_gen).print_along_with(next(pred_ques_gen))\n"
   ]
  },
  {
   "attachments": {},
   "cell_type": "markdown",
   "metadata": {},
   "source": [
    "- SPARQL syntax ✅\n",
    "- entity ❌\n",
    "- relation ✅\n",
    "- answer ❌\n",
    "\n",
    "training 300: \"Who is the mayor of Rotterdam?\""
   ]
  },
  {
   "attachments": {},
   "cell_type": "markdown",
   "metadata": {},
   "source": [
    "## id: 29"
   ]
  },
  {
   "cell_type": "code",
   "execution_count": null,
   "metadata": {},
   "outputs": [],
   "source": [
    "next(gold_ques_gen).print_along_with(next(pred_ques_gen))\n"
   ]
  },
  {
   "attachments": {},
   "cell_type": "markdown",
   "metadata": {},
   "source": [
    "- SPARQL syntax ✅\n",
    "- entity ❌\n",
    "- relation ❌\n",
    "- answer ❌\n",
    "\n",
    "training 102: \"Which countries adopted the Euro?\"\n",
    "\n",
    "out-of-scope: contains the administrative territorial entity (P150)"
   ]
  },
  {
   "attachments": {},
   "cell_type": "markdown",
   "metadata": {},
   "source": [
    "## id: 68"
   ]
  },
  {
   "cell_type": "code",
   "execution_count": null,
   "metadata": {},
   "outputs": [],
   "source": [
    "next(gold_ques_gen).print_along_with(next(pred_ques_gen))\n"
   ]
  },
  {
   "attachments": {},
   "cell_type": "markdown",
   "metadata": {},
   "source": [
    "- SPARQL syntax ✅\n",
    "- entity ❌\n",
    "- relation ✅\n",
    "- answer ❌\n",
    "\n",
    "out-of-scope: Bill Gates (Q5284)"
   ]
  },
  {
   "attachments": {},
   "cell_type": "markdown",
   "metadata": {},
   "source": [
    "## id: 22"
   ]
  },
  {
   "cell_type": "code",
   "execution_count": null,
   "metadata": {},
   "outputs": [],
   "source": [
    "next(gold_ques_gen).print_along_with(next(pred_ques_gen))\n"
   ]
  },
  {
   "attachments": {},
   "cell_type": "markdown",
   "metadata": {},
   "source": [
    "- SPARQL syntax ✅\n",
    "- entity ❌\n",
    "- relation ❌\n",
    "- answer ❌\n",
    "\n",
    "training 144: \"How many children does Eddie Murphy have?\"\n",
    "\n",
    "out-of-scope: Jacques Cousteau (Q83233)\n",
    "\n",
    "doesn't understand P40/P40 for grand-children"
   ]
  },
  {
   "attachments": {},
   "cell_type": "markdown",
   "metadata": {},
   "source": [
    "## id: 214"
   ]
  },
  {
   "cell_type": "code",
   "execution_count": null,
   "metadata": {},
   "outputs": [],
   "source": [
    "next(gold_ques_gen).print_along_with(next(pred_ques_gen))\n"
   ]
  },
  {
   "attachments": {},
   "cell_type": "markdown",
   "metadata": {},
   "source": [
    "- SPARQL syntax ✅\n",
    "- entity ❌\n",
    "- relation ❌\n",
    "- answer ❌\n",
    "\n",
    "out-of-scope: sport (P641) skateboarding (Q842284)"
   ]
  },
  {
   "attachments": {},
   "cell_type": "markdown",
   "metadata": {},
   "source": [
    "## id: 210"
   ]
  },
  {
   "cell_type": "code",
   "execution_count": null,
   "metadata": {},
   "outputs": [],
   "source": [
    "next(gold_ques_gen).print_along_with(next(pred_ques_gen))\n"
   ]
  },
  {
   "attachments": {},
   "cell_type": "markdown",
   "metadata": {},
   "source": [
    "- SPARQL syntax ✅\n",
    "- entity ❌\n",
    "- relation ❌\n",
    "- answer ❌\n",
    "\n",
    "training 163: \"Which monarchs were married to a German?\"\n",
    "\n",
    "out-of-scope: Great Britain (Q161885)"
   ]
  },
  {
   "attachments": {},
   "cell_type": "markdown",
   "metadata": {},
   "source": [
    "## id: 199"
   ]
  },
  {
   "cell_type": "code",
   "execution_count": null,
   "metadata": {},
   "outputs": [],
   "source": [
    "next(gold_ques_gen).print_along_with(next(pred_ques_gen))\n"
   ]
  },
  {
   "attachments": {},
   "cell_type": "markdown",
   "metadata": {},
   "source": [
    "- SPARQL syntax ✅\n",
    "- entity ❌\n",
    "- relation ✅\n",
    "- answer ❌\n",
    "\n",
    "training 51: Give me all Danish movies.\n",
    "\n",
    "out-of-scope: Argentina (Q414)"
   ]
  },
  {
   "attachments": {},
   "cell_type": "markdown",
   "metadata": {},
   "source": [
    "## id: 203"
   ]
  },
  {
   "cell_type": "code",
   "execution_count": null,
   "metadata": {},
   "outputs": [],
   "source": [
    "next(gold_ques_gen).print_along_with(next(pred_ques_gen))\n"
   ]
  },
  {
   "attachments": {},
   "cell_type": "markdown",
   "metadata": {},
   "source": [
    "- SPARQL syntax ✅\n",
    "- entity ❌\n",
    "- relation ❌\n",
    "- answer ❌\n",
    "\n",
    "out-of-scope: Michael Jackson (Q2831)"
   ]
  },
  {
   "attachments": {},
   "cell_type": "markdown",
   "metadata": {},
   "source": [
    "## id: 197"
   ]
  },
  {
   "cell_type": "code",
   "execution_count": null,
   "metadata": {},
   "outputs": [],
   "source": [
    "next(gold_ques_gen).print_along_with(next(pred_ques_gen))\n"
   ]
  },
  {
   "attachments": {},
   "cell_type": "markdown",
   "metadata": {},
   "source": [
    "- SPARQL syntax ✅\n",
    "- entity ✅\n",
    "- relation ❌\n",
    "- answer ❌\n",
    "\n",
    "understand \"latest\" with ORDER"
   ]
  },
  {
   "attachments": {},
   "cell_type": "markdown",
   "metadata": {},
   "source": [
    "## id: 196"
   ]
  },
  {
   "cell_type": "code",
   "execution_count": null,
   "metadata": {},
   "outputs": [],
   "source": [
    "next(gold_ques_gen).print_along_with(next(pred_ques_gen))\n"
   ]
  },
  {
   "attachments": {},
   "cell_type": "markdown",
   "metadata": {},
   "source": [
    "- SPARQL syntax ✅\n",
    "- entity ❌\n",
    "- relation ✅\n",
    "- answer ❌\n",
    "\n",
    "training 255: \"Which species does an elephant belong?\"\n",
    "\n",
    "out-of-scope: millipede (Q11185669)"
   ]
  },
  {
   "attachments": {},
   "cell_type": "markdown",
   "metadata": {},
   "source": [
    "## id: 188"
   ]
  },
  {
   "cell_type": "code",
   "execution_count": null,
   "metadata": {},
   "outputs": [],
   "source": [
    "next(gold_ques_gen).print_along_with(next(pred_ques_gen))\n"
   ]
  },
  {
   "attachments": {},
   "cell_type": "markdown",
   "metadata": {},
   "source": [
    "- SPARQL syntax ✅\n",
    "- entity ✅\n",
    "- relation ❌\n",
    "- answer ❌\n",
    "\n",
    "training 220: \"Who is the editor of Forbes?\""
   ]
  },
  {
   "attachments": {},
   "cell_type": "markdown",
   "metadata": {},
   "source": [
    "## id: 187"
   ]
  },
  {
   "cell_type": "code",
   "execution_count": null,
   "metadata": {},
   "outputs": [],
   "source": [
    "next(gold_ques_gen).print_along_with(next(pred_ques_gen))\n"
   ]
  },
  {
   "attachments": {},
   "cell_type": "markdown",
   "metadata": {},
   "source": [
    "- SPARQL syntax ✅\n",
    "- entity ❌\n",
    "- relation ❌\n",
    "- answer ❌\n",
    "\n",
    "training 275: \"List the children of Margaret Thatcher.\"\n",
    "\n",
    "out-of-scope: Amanda Palmer (Q240377)"
   ]
  },
  {
   "attachments": {},
   "cell_type": "markdown",
   "metadata": {},
   "source": [
    "## id: 176"
   ]
  },
  {
   "cell_type": "code",
   "execution_count": null,
   "metadata": {},
   "outputs": [],
   "source": [
    "next(gold_ques_gen).print_along_with(next(pred_ques_gen))\n"
   ]
  },
  {
   "attachments": {},
   "cell_type": "markdown",
   "metadata": {},
   "source": [
    "- SPARQL syntax ✅\n",
    "- entity ❌\n",
    "- relation ❌\n",
    "- answer ❌\n",
    "\n",
    "training 335: \"Who wrote the book The Pillars of the Earth?\"\n",
    "\n",
    "out-of-scope: The Storm on the Sea of Galilee (Q2246489)\n",
    "\n",
    "misinterpreted creator (P170) as author (P50)"
   ]
  },
  {
   "attachments": {},
   "cell_type": "markdown",
   "metadata": {},
   "source": [
    "## id: 62"
   ]
  },
  {
   "cell_type": "code",
   "execution_count": null,
   "metadata": {},
   "outputs": [],
   "source": [
    "next(gold_ques_gen).print_along_with(next(pred_ques_gen))\n"
   ]
  },
  {
   "attachments": {},
   "cell_type": "markdown",
   "metadata": {},
   "source": [
    "- SPARQL syntax ✅\n",
    "- entity ❌\n",
    "- relation ✅\n",
    "- answer ❌\n",
    "\n",
    "training 65: \"What is the highest place of the Urals?\"\n",
    "\n",
    "out-of-scope: Karakoram (Q5469)"
   ]
  },
  {
   "attachments": {},
   "cell_type": "markdown",
   "metadata": {},
   "source": [
    "## id: 173"
   ]
  },
  {
   "cell_type": "code",
   "execution_count": null,
   "metadata": {},
   "outputs": [],
   "source": [
    "next(gold_ques_gen).print_along_with(next(pred_ques_gen))\n"
   ]
  },
  {
   "attachments": {},
   "cell_type": "markdown",
   "metadata": {},
   "source": [
    "- SPARQL syntax ✅\n",
    "- entity ❌\n",
    "- relation ✅\n",
    "- answer ❌\n",
    "\n",
    "training 138: \"When did Latvia join the EU?\"\n",
    "\n",
    "out-of-scope: Finland (Q33)"
   ]
  },
  {
   "attachments": {},
   "cell_type": "markdown",
   "metadata": {},
   "source": [
    "## id: 168"
   ]
  },
  {
   "cell_type": "code",
   "execution_count": null,
   "metadata": {},
   "outputs": [],
   "source": [
    "next(gold_ques_gen).print_along_with(next(pred_ques_gen))\n"
   ]
  },
  {
   "attachments": {},
   "cell_type": "markdown",
   "metadata": {},
   "source": [
    "- SPARQL syntax ✅\n",
    "- entity ❌\n",
    "- relation ✅\n",
    "- answer ❌\n",
    "\n",
    "training 412: \"Give me all actors starring in Last Action Hero.\"\n",
    "\n",
    "out-of-scope: The Big Bang Theory (Q8539)"
   ]
  },
  {
   "attachments": {},
   "cell_type": "markdown",
   "metadata": {},
   "source": [
    "## id: 166"
   ]
  },
  {
   "cell_type": "code",
   "execution_count": null,
   "metadata": {},
   "outputs": [],
   "source": [
    "next(gold_ques_gen).print_along_with(next(pred_ques_gen))\n"
   ]
  },
  {
   "attachments": {},
   "cell_type": "markdown",
   "metadata": {},
   "source": [
    "- SPARQL syntax ✅\n",
    "- entity ❌\n",
    "- relation ❌\n",
    "- answer ❌\n",
    "\n",
    "training 328: \"Which scientist is known for the Manhattan Project and the Nobel Peace Prize?\"\n",
    "\n",
    "out-of-scope: computer scientist (Q82594) Academy Awards (Q19020)"
   ]
  },
  {
   "attachments": {},
   "cell_type": "markdown",
   "metadata": {},
   "source": [
    "## id: 160"
   ]
  },
  {
   "cell_type": "code",
   "execution_count": null,
   "metadata": {},
   "outputs": [],
   "source": [
    "next(gold_ques_gen).print_along_with(next(pred_ques_gen))"
   ]
  },
  {
   "attachments": {},
   "cell_type": "markdown",
   "metadata": {},
   "source": [
    "- SPARQL syntax ✅\n",
    "- entity ❌\n",
    "- relation ✅\n",
    "- answer ❌\n",
    "\n",
    "training 163: \"Which Greek parties are pro-European?\"\n",
    "\n",
    "out-of-scope: Harry Potter (Q8337)"
   ]
  },
  {
   "attachments": {},
   "cell_type": "markdown",
   "metadata": {},
   "source": [
    "## id: 158"
   ]
  },
  {
   "cell_type": "code",
   "execution_count": null,
   "metadata": {},
   "outputs": [],
   "source": [
    "next(gold_ques_gen).print_along_with(next(pred_ques_gen))\n"
   ]
  },
  {
   "attachments": {},
   "cell_type": "markdown",
   "metadata": {},
   "source": [
    "- SPARQL syntax ✅\n",
    "- entity ✅\n",
    "- relation ✅\n",
    "- answer ✅\n",
    "\n",
    "training 33: \"Give me all writers that won the Nobel Prize in literature.\""
   ]
  },
  {
   "attachments": {},
   "cell_type": "markdown",
   "metadata": {},
   "source": [
    "## id: 157"
   ]
  },
  {
   "cell_type": "code",
   "execution_count": null,
   "metadata": {},
   "outputs": [],
   "source": [
    "next(gold_ques_gen).print_along_with(next(pred_ques_gen))"
   ]
  },
  {
   "attachments": {},
   "cell_type": "markdown",
   "metadata": {},
   "source": [
    "- SPARQL syntax ✅\n",
    "- entity ❌\n",
    "- relation ❌\n",
    "- answer ❌\n",
    "\n",
    "training 389: \"Which movies starring Mickey Rourke were directed by Guy Ritchie?\"\n",
    "\n",
    "out-of-scope: Lovesick (Q12125895)"
   ]
  },
  {
   "attachments": {},
   "cell_type": "markdown",
   "metadata": {},
   "source": [
    "## id: 150"
   ]
  },
  {
   "cell_type": "code",
   "execution_count": null,
   "metadata": {},
   "outputs": [],
   "source": [
    "next(gold_ques_gen).print_along_with(next(pred_ques_gen))"
   ]
  },
  {
   "attachments": {},
   "cell_type": "markdown",
   "metadata": {},
   "source": [
    "- SPARQL syntax ✅\n",
    "- entity ❌\n",
    "- relation ❌\n",
    "- answer ❌\n",
    "\n",
    "training 398: \"Who is the president of Eritrea?\"\n",
    "\n",
    "out-of-scope: Montenegro (Q236)"
   ]
  },
  {
   "attachments": {},
   "cell_type": "markdown",
   "metadata": {},
   "source": [
    "## id: 149"
   ]
  },
  {
   "cell_type": "code",
   "execution_count": null,
   "metadata": {},
   "outputs": [],
   "source": [
    "next(gold_ques_gen).print_along_with(next(pred_ques_gen))"
   ]
  },
  {
   "attachments": {},
   "cell_type": "markdown",
   "metadata": {},
   "source": [
    "- SPARQL syntax ✅\n",
    "- entity ✅\n",
    "- relation ✅\n",
    "- answer ✅\n",
    "\n",
    "training 16: \"Which state of the USA has the highest population density?\""
   ]
  },
  {
   "attachments": {},
   "cell_type": "markdown",
   "metadata": {},
   "source": [
    "## id: 25"
   ]
  },
  {
   "cell_type": "code",
   "execution_count": null,
   "metadata": {},
   "outputs": [],
   "source": [
    "next(gold_ques_gen).print_along_with(next(pred_ques_gen))"
   ]
  },
  {
   "attachments": {},
   "cell_type": "markdown",
   "metadata": {},
   "source": [
    "- SPARQL syntax ❌\n",
    "- entity ❌\n",
    "- relation ❌\n",
    "- answer ❌\n",
    "\n",
    "training 149: \"What is the longest river?\""
   ]
  },
  {
   "attachments": {},
   "cell_type": "markdown",
   "metadata": {},
   "source": [
    "## id: 143"
   ]
  },
  {
   "cell_type": "code",
   "execution_count": null,
   "metadata": {},
   "outputs": [],
   "source": [
    "next(gold_ques_gen).print_along_with(next(pred_ques_gen))"
   ]
  },
  {
   "attachments": {},
   "cell_type": "markdown",
   "metadata": {},
   "source": [
    "- SPARQL syntax ✅\n",
    "- entity ❌\n",
    "- relation ❌\n",
    "- answer ❌\n",
    "\n",
    "out-of-scope: local dialing code (P473)"
   ]
  },
  {
   "attachments": {},
   "cell_type": "markdown",
   "metadata": {},
   "source": [
    "## id: 140"
   ]
  },
  {
   "cell_type": "code",
   "execution_count": null,
   "metadata": {},
   "outputs": [],
   "source": [
    "next(gold_ques_gen).print_along_with(next(pred_ques_gen))"
   ]
  },
  {
   "attachments": {},
   "cell_type": "markdown",
   "metadata": {},
   "source": [
    "- SPARQL syntax ✅\n",
    "- entity ❌\n",
    "- relation ✅\n",
    "- answer ❌\n",
    "\n",
    "training 140: \"How many politicians graduated from Columbia University?\"\n",
    "\n",
    "out-of-scope: Ivy League (Q49113)"
   ]
  },
  {
   "attachments": {},
   "cell_type": "markdown",
   "metadata": {},
   "source": [
    "## id: 139"
   ]
  },
  {
   "cell_type": "code",
   "execution_count": null,
   "metadata": {},
   "outputs": [],
   "source": [
    "next(gold_ques_gen).print_along_with(next(pred_ques_gen))"
   ]
  },
  {
   "attachments": {},
   "cell_type": "markdown",
   "metadata": {},
   "source": [
    "- SPARQL syntax ❌\n",
    "- entity ❌\n",
    "- relation ✅\n",
    "- answer ❌\n",
    "\n",
    "training 82: \"Which actors were born in Germany?\"\n",
    "\n",
    "out-of-scope: surfer (Q13561328)"
   ]
  },
  {
   "attachments": {},
   "cell_type": "markdown",
   "metadata": {},
   "source": [
    "## id: 137"
   ]
  },
  {
   "cell_type": "code",
   "execution_count": null,
   "metadata": {},
   "outputs": [],
   "source": [
    "next(gold_ques_gen).print_along_with(next(pred_ques_gen))"
   ]
  },
  {
   "attachments": {},
   "cell_type": "markdown",
   "metadata": {},
   "source": [
    "- SPARQL syntax ✅\n",
    "- entity ❌\n",
    "- relation ❌\n",
    "- answer ❌\n",
    "\n",
    "training 42: \"Give me all Swiss non-profit organizations.\""
   ]
  },
  {
   "attachments": {},
   "cell_type": "markdown",
   "metadata": {},
   "source": [
    "## id: 136"
   ]
  },
  {
   "cell_type": "code",
   "execution_count": null,
   "metadata": {},
   "outputs": [],
   "source": [
    "next(gold_ques_gen).print_along_with(next(pred_ques_gen))"
   ]
  },
  {
   "attachments": {},
   "cell_type": "markdown",
   "metadata": {},
   "source": [
    "- SPARQL syntax ✅\n",
    "- entity ❌\n",
    "- relation ❌\n",
    "- answer ❌\n",
    "\n",
    "training 156: \"How heavy is Jupiter's lightest moon?\"\n",
    "\n",
    "out-of-scope: Mars (Q111) wdt:P398"
   ]
  },
  {
   "attachments": {},
   "cell_type": "markdown",
   "metadata": {},
   "source": [
    "## id: 134"
   ]
  },
  {
   "cell_type": "code",
   "execution_count": null,
   "metadata": {},
   "outputs": [],
   "source": [
    "next(gold_ques_gen).print_along_with(next(pred_ques_gen))"
   ]
  },
  {
   "attachments": {},
   "cell_type": "markdown",
   "metadata": {},
   "source": [
    "- SPARQL syntax ✅\n",
    "- entity ✅\n",
    "- relation ❌\n",
    "- answer ✅\n",
    "\n",
    "out-of-scope: said to be the same as (P460)"
   ]
  },
  {
   "attachments": {},
   "cell_type": "markdown",
   "metadata": {},
   "source": [
    "## id: 132"
   ]
  },
  {
   "cell_type": "code",
   "execution_count": null,
   "metadata": {},
   "outputs": [],
   "source": [
    "next(gold_ques_gen).print_along_with(next(pred_ques_gen))"
   ]
  },
  {
   "attachments": {},
   "cell_type": "markdown",
   "metadata": {},
   "source": [
    "- SPARQL syntax ✅\n",
    "- entity ❌\n",
    "- relation ❌\n",
    "- answer ❌\n",
    "\n",
    "out-of-scope: Elon Musk (Q317521)"
   ]
  },
  {
   "attachments": {},
   "cell_type": "markdown",
   "metadata": {},
   "source": [
    "## id: 128"
   ]
  },
  {
   "cell_type": "code",
   "execution_count": null,
   "metadata": {},
   "outputs": [],
   "source": [
    "next(gold_ques_gen).print_along_with(next(pred_ques_gen))"
   ]
  },
  {
   "attachments": {},
   "cell_type": "markdown",
   "metadata": {},
   "source": [
    "- SPARQL syntax ✅\n",
    "- entity ❌\n",
    "- relation ❌\n",
    "- answer ❌\n",
    "\n",
    "training 200: \"Who created Wikipedia?\"\n",
    "\n",
    "out-of-scope: WikiLeaks (Q359)"
   ]
  },
  {
   "attachments": {},
   "cell_type": "markdown",
   "metadata": {},
   "source": [
    "## id: 124"
   ]
  },
  {
   "cell_type": "code",
   "execution_count": null,
   "metadata": {},
   "outputs": [],
   "source": [
    "next(gold_ques_gen).print_along_with(next(pred_ques_gen))"
   ]
  },
  {
   "attachments": {},
   "cell_type": "markdown",
   "metadata": {},
   "source": [
    "- SPARQL syntax ✅\n",
    "- entity ❌\n",
    "- relation ❌\n",
    "- answer ❌\n",
    "\n",
    "training 7: \"Where did Abraham Lincoln die?\"\n",
    "\n",
    "out-of-scope: Carlo Giuliani (Q164791)"
   ]
  },
  {
   "attachments": {},
   "cell_type": "markdown",
   "metadata": {},
   "source": [
    "## id: 122"
   ]
  },
  {
   "cell_type": "code",
   "execution_count": null,
   "metadata": {},
   "outputs": [],
   "source": [
    "next(gold_ques_gen).print_along_with(next(pred_ques_gen))"
   ]
  },
  {
   "attachments": {},
   "cell_type": "markdown",
   "metadata": {},
   "source": [
    "- SPARQL syntax ✅\n",
    "- entity ✅\n",
    "- relation ✅\n",
    "- answer ✅\n",
    "\n",
    "training 254: \"Who was the wife of U.S. president Lincoln?\""
   ]
  },
  {
   "attachments": {},
   "cell_type": "markdown",
   "metadata": {},
   "source": [
    "## id: 111"
   ]
  },
  {
   "cell_type": "code",
   "execution_count": null,
   "metadata": {},
   "outputs": [],
   "source": [
    "next(gold_ques_gen).print_along_with(next(pred_ques_gen))"
   ]
  },
  {
   "attachments": {},
   "cell_type": "markdown",
   "metadata": {},
   "source": [
    "- SPARQL syntax ✅\n",
    "- entity ❌\n",
    "- relation ✅\n",
    "- answer ❌\n",
    "\n",
    "training 163: \"Which Greek parties are pro-European?\"\n",
    "\n",
    "out-of-scope: \n",
    "- Bertrand Russell (Q33760)\n",
    "\n",
    "doesn't understand \"How many\" as \"COUNT\""
   ]
  },
  {
   "attachments": {},
   "cell_type": "markdown",
   "metadata": {},
   "source": [
    "## id: 117"
   ]
  },
  {
   "cell_type": "code",
   "execution_count": null,
   "metadata": {},
   "outputs": [],
   "source": [
    "next(gold_ques_gen).print_along_with(next(pred_ques_gen))"
   ]
  },
  {
   "attachments": {},
   "cell_type": "markdown",
   "metadata": {},
   "source": [
    "- SPARQL syntax ✅\n",
    "- entity ❌\n",
    "- relation ❌\n",
    "- answer ❌\n",
    "\n",
    "training 107: \"Was Margaret Thatcher a chemist?\"\n",
    "\n",
    "out-of-scope: \n",
    "- Pamela Anderson (Q83325)\n",
    "- lifestyle (P1576)\n",
    "- vegetarianism (Q83364)"
   ]
  },
  {
   "attachments": {},
   "cell_type": "markdown",
   "metadata": {},
   "source": [
    "## id: 59"
   ]
  },
  {
   "cell_type": "code",
   "execution_count": null,
   "metadata": {},
   "outputs": [],
   "source": [
    "next(gold_ques_gen).print_along_with(next(pred_ques_gen))"
   ]
  },
  {
   "attachments": {},
   "cell_type": "markdown",
   "metadata": {},
   "source": [
    "- SPARQL syntax ✅\n",
    "- entity ❌\n",
    "- relation ❌\n",
    "- answer ❌\n",
    "\n",
    "training 23: \"Which spaceflights were launched from Baikonur?\"\n",
    "\n",
    "out-of-scope: \n",
    "- type of orbit (P522)\n",
    "- heliocentric orbit (Q737809)"
   ]
  },
  {
   "attachments": {},
   "cell_type": "markdown",
   "metadata": {},
   "source": [
    "## id: 113"
   ]
  },
  {
   "cell_type": "code",
   "execution_count": null,
   "metadata": {},
   "outputs": [],
   "source": [
    "next(gold_ques_gen).print_along_with(next(pred_ques_gen))"
   ]
  },
  {
   "attachments": {},
   "cell_type": "markdown",
   "metadata": {},
   "source": [
    "- SPARQL syntax ✅\n",
    "- entity ❌\n",
    "- relation ✅\n",
    "- answer ❌"
   ]
  },
  {
   "attachments": {},
   "cell_type": "markdown",
   "metadata": {},
   "source": [
    "## id: 104"
   ]
  },
  {
   "cell_type": "code",
   "execution_count": null,
   "metadata": {},
   "outputs": [],
   "source": [
    "next(gold_ques_gen).print_along_with(next(pred_ques_gen))"
   ]
  },
  {
   "attachments": {},
   "cell_type": "markdown",
   "metadata": {},
   "source": [
    "- SPARQL syntax ✅\n",
    "- entity ❌\n",
    "- relation ✅\n",
    "- answer ❌\n",
    "\n",
    "predicted query from training 27: \n",
    "\"Who is the daughter of Ingrid Bergman married to?\"\n",
    "\n",
    "out-of-scope: \n",
    "- Robert F. Kennedy (Q25310)"
   ]
  },
  {
   "attachments": {},
   "cell_type": "markdown",
   "metadata": {},
   "source": [
    "## id: 10"
   ]
  },
  {
   "cell_type": "code",
   "execution_count": null,
   "metadata": {},
   "outputs": [],
   "source": [
    "next(gold_ques_gen).print_along_with(next(pred_ques_gen))"
   ]
  },
  {
   "attachments": {},
   "cell_type": "markdown",
   "metadata": {},
   "source": [
    "- SPARQL syntax ✅\n",
    "- entity ❌\n",
    "- relation ❌\n",
    "- answer ❌\n",
    "\n",
    "predicted query from training 140: \n",
    "\"How many politicians graduated from Columbia University?\"\n",
    "\n",
    "out-of-scope: \n",
    "- University of Amsterdam (Q214341)\n",
    "- students count (P2196)"
   ]
  },
  {
   "attachments": {},
   "cell_type": "markdown",
   "metadata": {},
   "source": [
    "## id: 1"
   ]
  },
  {
   "cell_type": "code",
   "execution_count": null,
   "metadata": {},
   "outputs": [],
   "source": [
    "next(gold_ques_gen).print_along_with(next(pred_ques_gen))"
   ]
  },
  {
   "attachments": {},
   "cell_type": "markdown",
   "metadata": {},
   "source": [
    "- SPARQL syntax ✅\n",
    "- entity ✅\n",
    "- relation ❌\n",
    "- answer ❌\n",
    "\n",
    "out-of-scope: \n",
    "- total revenue (P2139)"
   ]
  },
  {
   "attachments": {},
   "cell_type": "markdown",
   "metadata": {},
   "source": [
    "## id: 178"
   ]
  },
  {
   "cell_type": "code",
   "execution_count": null,
   "metadata": {},
   "outputs": [],
   "source": [
    "next(gold_ques_gen).print_along_with(next(pred_ques_gen))"
   ]
  },
  {
   "attachments": {},
   "cell_type": "markdown",
   "metadata": {},
   "source": [
    "- SPARQL syntax ✅\n",
    "- entity ❌\n",
    "- relation ❌\n",
    "- answer ❌\n",
    "\n",
    "predicted query from training 50: \n",
    "\"How many films did Hal Roach produce?\"\n",
    "\n",
    "out-of-scope: \n",
    "- based on (P144)\n",
    "- characters (P674)"
   ]
  },
  {
   "attachments": {},
   "cell_type": "markdown",
   "metadata": {},
   "source": [
    "## id: 129"
   ]
  },
  {
   "cell_type": "code",
   "execution_count": null,
   "metadata": {},
   "outputs": [],
   "source": [
    "next(gold_ques_gen).print_along_with(next(pred_ques_gen))"
   ]
  },
  {
   "attachments": {},
   "cell_type": "markdown",
   "metadata": {},
   "source": [
    "- SPARQL syntax ✅\n",
    "- entity ❌\n",
    "- relation ❌\n",
    "- answer ❌\n",
    "\n",
    "out-of-scope: \n",
    "- Bart Simpson (Q5480)"
   ]
  },
  {
   "attachments": {},
   "cell_type": "markdown",
   "metadata": {},
   "source": [
    "## id: 183"
   ]
  },
  {
   "cell_type": "code",
   "execution_count": null,
   "metadata": {},
   "outputs": [],
   "source": [
    "next(gold_ques_gen).print_along_with(next(pred_ques_gen))"
   ]
  },
  {
   "attachments": {},
   "cell_type": "markdown",
   "metadata": {},
   "source": [
    "- SPARQL syntax ✅\n",
    "- entity ❌\n",
    "- relation ✅\n",
    "- answer ❌\n",
    "\n",
    "predicted query from training 152: \n",
    "\"Who has Tom Cruise been married to?\""
   ]
  },
  {
   "attachments": {},
   "cell_type": "markdown",
   "metadata": {},
   "source": [
    "## id: 181"
   ]
  },
  {
   "cell_type": "code",
   "execution_count": null,
   "metadata": {},
   "outputs": [],
   "source": [
    "next(gold_ques_gen).print_along_with(next(pred_ques_gen))"
   ]
  },
  {
   "attachments": {},
   "cell_type": "markdown",
   "metadata": {},
   "source": [
    "- SPARQL syntax ✅\n",
    "- entity ❌\n",
    "- relation ✅\n",
    "- answer ❌\n",
    "\n",
    "predicted query from training 81: \n",
    "\"To which countries does the Himalayan mountain system extend?\"\n",
    "\n",
    "out-of-scope: \n",
    "- Yenisey (Q78707)"
   ]
  },
  {
   "attachments": {},
   "cell_type": "markdown",
   "metadata": {},
   "source": [
    "## id: 7"
   ]
  },
  {
   "cell_type": "code",
   "execution_count": null,
   "metadata": {},
   "outputs": [],
   "source": [
    "next(gold_ques_gen).print_along_with(next(pred_ques_gen))"
   ]
  },
  {
   "attachments": {},
   "cell_type": "markdown",
   "metadata": {},
   "source": [
    "- SPARQL syntax ✅\n",
    "- entity ❌\n",
    "- relation ❌\n",
    "- answer ❌\n",
    "\n",
    "predicted query from training 14: \n",
    "\"Which other weapons did the designer of the Uzi develop?\"\n",
    "\n",
    "out-of-scope: \n",
    "- automobile model series (Q59773381)\n",
    "- automobile manufacturer (Q786820)\n"
   ]
  },
  {
   "attachments": {},
   "cell_type": "markdown",
   "metadata": {},
   "source": [
    "## id: 135"
   ]
  },
  {
   "cell_type": "code",
   "execution_count": null,
   "metadata": {},
   "outputs": [],
   "source": [
    "next(gold_ques_gen).print_along_with(next(pred_ques_gen))"
   ]
  },
  {
   "attachments": {},
   "cell_type": "markdown",
   "metadata": {},
   "source": [
    "- SPARQL syntax ✅\n",
    "- entity ❌\n",
    "- relation ❌\n",
    "- answer ❌\n",
    "\n",
    "predicted query from training 252: \n",
    "\"When was John Adams born?\"\n",
    "\n",
    "out-of-scope: \n",
    "- Michael Jackson (Q2831)"
   ]
  },
  {
   "attachments": {},
   "cell_type": "markdown",
   "metadata": {},
   "source": [
    "## id: 50"
   ]
  },
  {
   "cell_type": "code",
   "execution_count": null,
   "metadata": {},
   "outputs": [],
   "source": [
    "next(gold_ques_gen).print_along_with(next(pred_ques_gen))"
   ]
  },
  {
   "attachments": {},
   "cell_type": "markdown",
   "metadata": {},
   "source": [
    "- SPARQL syntax ✅\n",
    "- entity ❌\n",
    "- relation ❌✅\n",
    "- answer ❌\n",
    "\n",
    "predicted query from training 400: \n",
    "\"What is the highest mountain in Australia?\"\n",
    "\n",
    "out-of-scope: \n",
    "- volcano (Q8072)"
   ]
  },
  {
   "attachments": {},
   "cell_type": "markdown",
   "metadata": {},
   "source": [
    "## id: 39"
   ]
  },
  {
   "cell_type": "code",
   "execution_count": null,
   "metadata": {},
   "outputs": [],
   "source": [
    "next(gold_ques_gen).print_along_with(next(pred_ques_gen))"
   ]
  },
  {
   "attachments": {},
   "cell_type": "markdown",
   "metadata": {},
   "source": [
    "- SPARQL syntax ❌\n",
    "- entity ✅\n",
    "- relation ✅\n",
    "- answer ✅\n",
    "\n",
    "predicted query from training 121: \n",
    "\"Which poet wrote the most books?\""
   ]
  },
  {
   "attachments": {},
   "cell_type": "markdown",
   "metadata": {},
   "source": [
    "## id: 71"
   ]
  },
  {
   "cell_type": "code",
   "execution_count": null,
   "metadata": {},
   "outputs": [],
   "source": [
    "next(gold_ques_gen).print_along_with(next(pred_ques_gen))"
   ]
  },
  {
   "attachments": {},
   "cell_type": "markdown",
   "metadata": {},
   "source": [
    "- SPARQL syntax ✅\n",
    "- entity ❌\n",
    "- relation ❌\n",
    "- answer ❌\n",
    "\n",
    "predicted query from training 23: \n",
    "\"Which spaceflights were launched from Baikonur?\"\n",
    "\n",
    "out-of-scope: \n",
    "- Mars rover (Q389459)"
   ]
  },
  {
   "attachments": {},
   "cell_type": "markdown",
   "metadata": {},
   "source": [
    "## id: 213"
   ]
  },
  {
   "cell_type": "code",
   "execution_count": null,
   "metadata": {},
   "outputs": [],
   "source": [
    "next(gold_ques_gen).print_along_with(next(pred_ques_gen))"
   ]
  },
  {
   "attachments": {},
   "cell_type": "markdown",
   "metadata": {},
   "source": [
    "- SPARQL syntax ✅\n",
    "- entity ❌\n",
    "- relation ✅\n",
    "- answer ❌\n",
    "\n",
    "predicted query from training 51: \n",
    "\"Give me all Danish movies.\"\n",
    "\n",
    "out-of-scope: \n",
    "- Czechoslovakia (Q33946)"
   ]
  },
  {
   "attachments": {},
   "cell_type": "markdown",
   "metadata": {},
   "source": [
    "## id: 209"
   ]
  },
  {
   "cell_type": "code",
   "execution_count": null,
   "metadata": {},
   "outputs": [],
   "source": [
    "next(gold_ques_gen).print_along_with(next(pred_ques_gen))"
   ]
  },
  {
   "attachments": {},
   "cell_type": "markdown",
   "metadata": {},
   "source": [
    "- SPARQL syntax ✅\n",
    "- entity ❌\n",
    "- relation ✅\n",
    "- answer ❌\n",
    "\n",
    "predicted query from training 41: \n",
    "\"Give me all cosmonauts.\""
   ]
  },
  {
   "attachments": {},
   "cell_type": "markdown",
   "metadata": {},
   "source": [
    "## id: 105"
   ]
  },
  {
   "cell_type": "code",
   "execution_count": null,
   "metadata": {},
   "outputs": [],
   "source": [
    "next(gold_ques_gen).print_along_with(next(pred_ques_gen))"
   ]
  },
  {
   "attachments": {},
   "cell_type": "markdown",
   "metadata": {},
   "source": [
    "- SPARQL syntax ✅\n",
    "- entity ❌\n",
    "- relation ❌\n",
    "- answer ❌\n",
    "\n",
    "predicted query from training 57: \n",
    "\"Which rivers flow into a German lake?\"\n",
    "\n",
    "out-of-scope: \n",
    "- volcano (Q8072)"
   ]
  },
  {
   "attachments": {},
   "cell_type": "markdown",
   "metadata": {},
   "source": [
    "## id: 52"
   ]
  },
  {
   "cell_type": "code",
   "execution_count": null,
   "metadata": {},
   "outputs": [],
   "source": [
    "next(gold_ques_gen).print_along_with(next(pred_ques_gen))"
   ]
  },
  {
   "attachments": {},
   "cell_type": "markdown",
   "metadata": {},
   "source": [
    "- SPARQL syntax ✅\n",
    "- entity ✅\n",
    "- relation ✅\n",
    "- answer ✅\n",
    "\n",
    "predicted query from training 171: \n",
    "\"Give me all movies with Tom Cruise.\""
   ]
  },
  {
   "attachments": {},
   "cell_type": "markdown",
   "metadata": {},
   "source": [
    "## id: 102"
   ]
  },
  {
   "cell_type": "code",
   "execution_count": null,
   "metadata": {},
   "outputs": [],
   "source": [
    "next(gold_ques_gen).print_along_with(next(pred_ques_gen))"
   ]
  },
  {
   "attachments": {},
   "cell_type": "markdown",
   "metadata": {},
   "source": [
    "- SPARQL syntax ✅\n",
    "- entity ❌\n",
    "- relation ❌✅\n",
    "- answer ❌\n",
    "\n",
    "predicted query from training 210: \n",
    "\"Who created Batman?\"\n",
    "\n",
    "out-of-scope: \n",
    "- Count Dracula (Q3266236)"
   ]
  },
  {
   "attachments": {},
   "cell_type": "markdown",
   "metadata": {},
   "source": [
    "## id: 21"
   ]
  },
  {
   "cell_type": "code",
   "execution_count": null,
   "metadata": {},
   "outputs": [],
   "source": [
    "next(gold_ques_gen).print_along_with(next(pred_ques_gen))"
   ]
  },
  {
   "attachments": {},
   "cell_type": "markdown",
   "metadata": {},
   "source": [
    "- SPARQL syntax ✅\n",
    "- entity ✅\n",
    "- relation ❌\n",
    "- answer ✅\n",
    "\n",
    "predicted query from training 200: \n",
    "\"Who created Wikipedia?\""
   ]
  },
  {
   "cell_type": "code",
   "execution_count": null,
   "metadata": {},
   "outputs": [],
   "source": [
    "next(gold_ques_gen).print_along_with(next(pred_ques_gen))"
   ]
  },
  {
   "attachments": {},
   "cell_type": "markdown",
   "metadata": {},
   "source": [
    "## id: 145"
   ]
  },
  {
   "cell_type": "code",
   "execution_count": null,
   "metadata": {},
   "outputs": [],
   "source": [
    "next(gold_ques_gen).print_along_with(next(pred_ques_gen))"
   ]
  },
  {
   "attachments": {},
   "cell_type": "markdown",
   "metadata": {},
   "source": [
    "- SPARQL syntax ✅\n",
    "- entity ❌\n",
    "- relation ❌\n",
    "- answer ❌\n",
    "\n",
    "predicted query from training 365: \n",
    "\"Who created Family Guy?\"\n",
    "\n",
    "out-of-scope: \n",
    "- ALDI (Q125054)\n",
    "- has subsidiary (P355)"
   ]
  },
  {
   "attachments": {},
   "cell_type": "markdown",
   "metadata": {},
   "source": [
    "## id: 154"
   ]
  },
  {
   "cell_type": "code",
   "execution_count": null,
   "metadata": {},
   "outputs": [],
   "source": [
    "next(gold_ques_gen).print_along_with(next(pred_ques_gen))"
   ]
  },
  {
   "attachments": {},
   "cell_type": "markdown",
   "metadata": {},
   "source": [
    "- SPARQL syntax ✅\n",
    "- entity ✅\n",
    "- relation ❌\n",
    "- answer ❌\n",
    "\n",
    "predicted query from training 109: \n",
    "\"Give me all books written by Danielle Steel.\""
   ]
  },
  {
   "attachments": {},
   "cell_type": "markdown",
   "metadata": {},
   "source": [
    "## id: 198"
   ]
  },
  {
   "cell_type": "code",
   "execution_count": null,
   "metadata": {},
   "outputs": [],
   "source": [
    "next(gold_ques_gen).print_along_with(next(pred_ques_gen))"
   ]
  },
  {
   "attachments": {},
   "cell_type": "markdown",
   "metadata": {},
   "source": [
    "- SPARQL syntax ✅\n",
    "- entity ❌\n",
    "- relation ✅\n",
    "- answer ❌\n",
    "\n",
    "predicted query from training 339: \n",
    "\"Who was Vincent van Gogh inspired by?\""
   ]
  },
  {
   "attachments": {},
   "cell_type": "markdown",
   "metadata": {},
   "source": [
    "## id: 162"
   ]
  },
  {
   "cell_type": "code",
   "execution_count": null,
   "metadata": {},
   "outputs": [],
   "source": [
    "next(gold_ques_gen).print_along_with(next(pred_ques_gen))"
   ]
  },
  {
   "attachments": {},
   "cell_type": "markdown",
   "metadata": {},
   "source": [
    "- SPARQL syntax ✅\n",
    "- entity ❌\n",
    "- relation ❌\n",
    "- answer ❌\n",
    "\n",
    "predicted query from training 304: \n",
    "\"How high is the Yokohama Marine Tower?\"\n",
    "\n",
    "out-of-scope: \n",
    "- Chiemsee (Q4138)"
   ]
  },
  {
   "attachments": {},
   "cell_type": "markdown",
   "metadata": {},
   "source": [
    "## id: 212"
   ]
  },
  {
   "cell_type": "code",
   "execution_count": null,
   "metadata": {},
   "outputs": [],
   "source": [
    "next(gold_ques_gen).print_along_with(next(pred_ques_gen))"
   ]
  },
  {
   "attachments": {},
   "cell_type": "markdown",
   "metadata": {},
   "source": [
    "- SPARQL syntax ✅\n",
    "- entity ❌\n",
    "- relation ✅❌\n",
    "- answer ❌\n",
    "\n",
    "predicted query from training 253: \n",
    "\"Which companies produce hovercrafts?\"\n",
    "\n",
    "out-of-scope: \n",
    "- aerospace industry (Q3477363)\n",
    "- health care industry (Q15067276)"
   ]
  },
  {
   "attachments": {},
   "cell_type": "markdown",
   "metadata": {},
   "source": [
    "## id: 96"
   ]
  },
  {
   "cell_type": "code",
   "execution_count": null,
   "metadata": {},
   "outputs": [],
   "source": [
    "next(gold_ques_gen).print_along_with(next(pred_ques_gen))"
   ]
  },
  {
   "attachments": {},
   "cell_type": "markdown",
   "metadata": {},
   "source": [
    "- SPARQL syntax ❌\n",
    "- entity ❌\n",
    "- relation ❌\n",
    "- answer ❌\n",
    "\n",
    "predicted query from training 82: \n",
    "\"Which actors were born in Germany?\"\n",
    "\n",
    "out-of-scope: \n",
    "- surfer (Q13561328)"
   ]
  },
  {
   "attachments": {},
   "cell_type": "markdown",
   "metadata": {},
   "source": [
    "## id: 40"
   ]
  },
  {
   "cell_type": "code",
   "execution_count": null,
   "metadata": {},
   "outputs": [],
   "source": [
    "next(gold_ques_gen).print_along_with(next(pred_ques_gen))"
   ]
  },
  {
   "attachments": {},
   "cell_type": "markdown",
   "metadata": {},
   "source": [
    "- SPARQL syntax ✅\n",
    "- entity ❌\n",
    "- relation ❌\n",
    "- answer ❌\n",
    "\n",
    "out-of-scope: \n",
    "- Victoria (Q9439)"
   ]
  },
  {
   "attachments": {},
   "cell_type": "markdown",
   "metadata": {},
   "source": [
    "## id: 79"
   ]
  },
  {
   "cell_type": "code",
   "execution_count": null,
   "metadata": {},
   "outputs": [],
   "source": [
    "next(gold_ques_gen).print_along_with(next(pred_ques_gen))"
   ]
  },
  {
   "attachments": {},
   "cell_type": "markdown",
   "metadata": {},
   "source": [
    "- SPARQL syntax ✅\n",
    "- entity ❌\n",
    "- relation ❌\n",
    "- answer ❌\n",
    "\n",
    "out-of-scope: \n",
    "- castle (Q23413)"
   ]
  },
  {
   "attachments": {},
   "cell_type": "markdown",
   "metadata": {},
   "source": [
    "## id: 141"
   ]
  },
  {
   "cell_type": "code",
   "execution_count": null,
   "metadata": {},
   "outputs": [],
   "source": [
    "next(gold_ques_gen).print_along_with(next(pred_ques_gen))"
   ]
  },
  {
   "attachments": {},
   "cell_type": "markdown",
   "metadata": {},
   "source": [
    "- SPARQL syntax ✅\n",
    "- entity ✅\n",
    "- relation ✅\n",
    "- answer ✅\n",
    "\n",
    "predicted query from training 187: \n",
    "\"Which languages are spoken in Estonia?\""
   ]
  },
  {
   "attachments": {},
   "cell_type": "markdown",
   "metadata": {},
   "source": [
    "## id: 80"
   ]
  },
  {
   "cell_type": "code",
   "execution_count": null,
   "metadata": {},
   "outputs": [],
   "source": [
    "next(gold_ques_gen).print_along_with(next(pred_ques_gen))"
   ]
  },
  {
   "attachments": {},
   "cell_type": "markdown",
   "metadata": {},
   "source": [
    "- SPARQL syntax ✅\n",
    "- entity ❌\n",
    "- relation ❌\n",
    "- answer ❌\n",
    "\n",
    "predicted query from training 185: \n",
    "\"Give me all breeds of the German Shepherd dog.\"\n",
    "\n",
    "out-of-scope: \n",
    "- birds (Q5113)\n",
    "- IUCN conservation status (P141)\n",
    "- Critically Endangered (Q219127)"
   ]
  },
  {
   "attachments": {},
   "cell_type": "markdown",
   "metadata": {},
   "source": [
    "## id: 159"
   ]
  },
  {
   "cell_type": "code",
   "execution_count": null,
   "metadata": {},
   "outputs": [],
   "source": [
    "next(gold_ques_gen).print_along_with(next(pred_ques_gen))"
   ]
  },
  {
   "attachments": {},
   "cell_type": "markdown",
   "metadata": {},
   "source": [
    "- SPARQL syntax ✅\n",
    "- entity ❌\n",
    "- relation ❌\n",
    "- answer ❌\n",
    "\n",
    "predicted query from training 262: \n",
    "\"With how many countries Iran has borders?\"\n",
    "\n",
    "out-of-scope: \n",
    "- Rhine (Q584)"
   ]
  },
  {
   "attachments": {},
   "cell_type": "markdown",
   "metadata": {},
   "source": [
    "## id: 107"
   ]
  },
  {
   "cell_type": "code",
   "execution_count": null,
   "metadata": {},
   "outputs": [],
   "source": [
    "next(gold_ques_gen).print_along_with(next(pred_ques_gen))"
   ]
  },
  {
   "attachments": {},
   "cell_type": "markdown",
   "metadata": {},
   "source": [
    "- SPARQL syntax ✅\n",
    "- entity ❌\n",
    "- relation ❌\n",
    "- answer ❌\n",
    "\n",
    "predicted query from training 72: \n",
    "\"Which pope succeeded John Paul II?\"\n",
    "\n",
    "out-of-scope: \n",
    "- Elizabeth II (Q9682)"
   ]
  },
  {
   "attachments": {},
   "cell_type": "markdown",
   "metadata": {},
   "source": [
    "## id: 163"
   ]
  },
  {
   "cell_type": "code",
   "execution_count": null,
   "metadata": {},
   "outputs": [],
   "source": [
    "next(gold_ques_gen).print_along_with(next(pred_ques_gen))"
   ]
  },
  {
   "attachments": {},
   "cell_type": "markdown",
   "metadata": {},
   "source": [
    "- SPARQL syntax ✅\n",
    "- entity ❌\n",
    "- relation ❌\n",
    "- answer ❌\n",
    "\n",
    "predicted query from training 103: \n",
    "\"Give me all types of eating disorders.\"\n",
    "\n",
    "out-of-scope: \n",
    "- chemical element (Q11344)"
   ]
  },
  {
   "attachments": {},
   "cell_type": "markdown",
   "metadata": {},
   "source": [
    "## id: 211"
   ]
  },
  {
   "cell_type": "code",
   "execution_count": null,
   "metadata": {},
   "outputs": [],
   "source": [
    "next(gold_ques_gen).print_along_with(next(pred_ques_gen))"
   ]
  },
  {
   "attachments": {},
   "cell_type": "markdown",
   "metadata": {},
   "source": [
    "- SPARQL syntax ❌\n",
    "- entity ❌\n",
    "- relation ❌\n",
    "- answer ❌\n",
    "\n",
    "predicted query from training 68: \n",
    "\"Give me all world heritage sites designated within the **past two years**.\""
   ]
  },
  {
   "attachments": {},
   "cell_type": "markdown",
   "metadata": {},
   "source": [
    "## id: 51"
   ]
  },
  {
   "cell_type": "code",
   "execution_count": null,
   "metadata": {},
   "outputs": [],
   "source": [
    "next(gold_ques_gen).print_along_with(next(pred_ques_gen))"
   ]
  },
  {
   "attachments": {},
   "cell_type": "markdown",
   "metadata": {},
   "source": [
    "- SPARQL syntax ✅\n",
    "- entity ❌\n",
    "- relation ❌\n",
    "- answer ❌\n",
    "\n",
    "predicted query from training 356: \n",
    "\"When did Operation Overlord commence?\"\n",
    "\n",
    "out-of-scope: \n",
    "- Worst Case Scenario (Q6667101)"
   ]
  },
  {
   "attachments": {},
   "cell_type": "markdown",
   "metadata": {},
   "source": [
    "## id: 144"
   ]
  },
  {
   "cell_type": "code",
   "execution_count": null,
   "metadata": {},
   "outputs": [],
   "source": [
    "next(gold_ques_gen).print_along_with(next(pred_ques_gen))"
   ]
  },
  {
   "attachments": {},
   "cell_type": "markdown",
   "metadata": {},
   "source": [
    "- SPARQL syntax ✅\n",
    "- entity ❌\n",
    "- relation ✅\n",
    "- answer ❌\n",
    "\n",
    "predicted query from training 152: \n",
    "\"Who has Tom Cruise been married to?\"\n",
    "\n",
    "out-of-scope: \n",
    "- Lance Bass (Q443120)"
   ]
  },
  {
   "attachments": {},
   "cell_type": "markdown",
   "metadata": {},
   "source": [
    "## id: 131"
   ]
  },
  {
   "cell_type": "code",
   "execution_count": null,
   "metadata": {},
   "outputs": [],
   "source": [
    "next(gold_ques_gen).print_along_with(next(pred_ques_gen))"
   ]
  },
  {
   "attachments": {},
   "cell_type": "markdown",
   "metadata": {},
   "source": [
    "- SPARQL syntax ✅\n",
    "- entity ❌\n",
    "- relation ❌\n",
    "- answer ❌\n",
    "\n",
    "out-of-scope: \n",
    "- Pakistan (Q843)"
   ]
  },
  {
   "attachments": {},
   "cell_type": "markdown",
   "metadata": {},
   "source": [
    "## id: 120"
   ]
  },
  {
   "cell_type": "code",
   "execution_count": null,
   "metadata": {},
   "outputs": [],
   "source": [
    "next(gold_ques_gen).print_along_with(next(pred_ques_gen))"
   ]
  },
  {
   "attachments": {},
   "cell_type": "markdown",
   "metadata": {},
   "source": [
    "- SPARQL syntax ✅\n",
    "- entity ❌\n",
    "- relation ❌✅\n",
    "- answer ❌\n",
    "\n",
    "predicted query from training 152: \n",
    "\"Who has Tom Cruise been **married to**?\"\n",
    "\n",
    "out-of-scope: \n",
    "- Bill Clinton (Q1124)"
   ]
  },
  {
   "attachments": {},
   "cell_type": "markdown",
   "metadata": {},
   "source": [
    "## id: 164"
   ]
  },
  {
   "cell_type": "code",
   "execution_count": null,
   "metadata": {},
   "outputs": [],
   "source": [
    "next(gold_ques_gen).print_along_with(next(pred_ques_gen))"
   ]
  },
  {
   "attachments": {},
   "cell_type": "markdown",
   "metadata": {},
   "source": [
    "- SPARQL syntax ✅\n",
    "- entity ❌\n",
    "- relation ❌\n",
    "- answer ❌\n",
    "\n",
    "predicted query from training 20: \n",
    "\"Give me the Apollo 14 astronauts.\"\n",
    "\n",
    "out-of-scope: \n",
    "- Apollo 11 (Q43653)"
   ]
  },
  {
   "attachments": {},
   "cell_type": "markdown",
   "metadata": {},
   "source": [
    "## id: 151"
   ]
  },
  {
   "cell_type": "code",
   "execution_count": null,
   "metadata": {},
   "outputs": [],
   "source": [
    "next(gold_ques_gen).print_along_with(next(pred_ques_gen))"
   ]
  },
  {
   "attachments": {},
   "cell_type": "markdown",
   "metadata": {},
   "source": [
    "- SPARQL syntax ❌\n",
    "- entity ✅\n",
    "- relation ✅\n",
    "- answer ❌\n",
    "\n",
    "predicted query from training 175: \n",
    "\"Give me all B-sides of the Ramones\""
   ]
  },
  {
   "attachments": {},
   "cell_type": "markdown",
   "metadata": {},
   "source": [
    "## id: 63"
   ]
  },
  {
   "cell_type": "code",
   "execution_count": null,
   "metadata": {},
   "outputs": [],
   "source": [
    "next(gold_ques_gen).print_along_with(next(pred_ques_gen))"
   ]
  },
  {
   "attachments": {},
   "cell_type": "markdown",
   "metadata": {},
   "source": [
    "- SPARQL syntax ✅\n",
    "- entity ❌\n",
    "- relation ❌\n",
    "- answer ❌\n",
    "\n",
    "predicted query from training 365: \n",
    "\"Who created Family Guy?\"\n",
    "\n",
    "out-of-scope: \n",
    "- nickname (P1449)"
   ]
  },
  {
   "attachments": {},
   "cell_type": "markdown",
   "metadata": {},
   "source": [
    "## id: 27"
   ]
  },
  {
   "cell_type": "code",
   "execution_count": null,
   "metadata": {},
   "outputs": [],
   "source": [
    "next(gold_ques_gen).print_along_with(next(pred_ques_gen))"
   ]
  },
  {
   "attachments": {},
   "cell_type": "markdown",
   "metadata": {},
   "source": [
    "- SPARQL syntax ✅\n",
    "- entity ❌\n",
    "- relation ✅\n",
    "- answer ❌\n",
    "\n",
    "predicted query from training 57: \n",
    "\"**Which rivers flow into** a German lake?\"\n",
    "\n",
    "out-of-scope: \n",
    "- North Sea (Q1693)"
   ]
  },
  {
   "attachments": {},
   "cell_type": "markdown",
   "metadata": {},
   "source": [
    "## id: 156"
   ]
  },
  {
   "cell_type": "code",
   "execution_count": null,
   "metadata": {},
   "outputs": [],
   "source": [
    "next(gold_ques_gen).print_along_with(next(pred_ques_gen))"
   ]
  },
  {
   "attachments": {},
   "cell_type": "markdown",
   "metadata": {},
   "source": [
    "- SPARQL syntax ✅\n",
    "- entity ✅\n",
    "- relation ✅\n",
    "- answer ❌✅\n",
    "\n",
    "predicted query from training 172: \n",
    "\"In which U.S. state is Fort Knox located?\""
   ]
  },
  {
   "attachments": {},
   "cell_type": "markdown",
   "metadata": {},
   "source": [
    "## id: 207"
   ]
  },
  {
   "cell_type": "code",
   "execution_count": null,
   "metadata": {},
   "outputs": [],
   "source": [
    "next(gold_ques_gen).print_along_with(next(pred_ques_gen))"
   ]
  },
  {
   "attachments": {},
   "cell_type": "markdown",
   "metadata": {},
   "source": [
    "- SPARQL syntax ✅\n",
    "- entity ❌\n",
    "- relation ✅❌\n",
    "- answer ❌\n",
    "\n",
    "predicted query from training 169: \n",
    "\"Which Chess players **died in the same place they were born in?**\"\n",
    "\n",
    "out-of-scope: \n",
    "- British Isles (Q38272)"
   ]
  },
  {
   "attachments": {},
   "cell_type": "markdown",
   "metadata": {},
   "source": [
    "## id: 24"
   ]
  },
  {
   "cell_type": "code",
   "execution_count": null,
   "metadata": {},
   "outputs": [],
   "source": [
    "next(gold_ques_gen).print_along_with(next(pred_ques_gen))"
   ]
  },
  {
   "attachments": {},
   "cell_type": "markdown",
   "metadata": {},
   "source": [
    "- SPARQL syntax ✅\n",
    "- entity ❌\n",
    "- relation ✅\n",
    "- answer ❌\n",
    "\n",
    "predicted query from training 24: \n",
    "\"Give me all **federal chancellors** of Germany.\"\n",
    "\n",
    "out-of-scope: \n",
    "- Emperor of China (Q268218)"
   ]
  },
  {
   "attachments": {},
   "cell_type": "markdown",
   "metadata": {},
   "source": [
    "## id: 133"
   ]
  },
  {
   "cell_type": "code",
   "execution_count": null,
   "metadata": {},
   "outputs": [],
   "source": [
    "next(gold_ques_gen).print_along_with(next(pred_ques_gen))"
   ]
  },
  {
   "attachments": {},
   "cell_type": "markdown",
   "metadata": {},
   "source": [
    "- SPARQL syntax ✅\n",
    "- entity ❌\n",
    "- relation ❌\n",
    "- answer ❌\n",
    "\n",
    "predicted query from training 210: \n",
    "\"Who created Batman?\"\n",
    "\n",
    "out-of-scope: \n",
    "- Teenage Mutant Ninja Turtles (Q1381762)"
   ]
  },
  {
   "attachments": {},
   "cell_type": "markdown",
   "metadata": {},
   "source": [
    "## id: 103"
   ]
  },
  {
   "cell_type": "code",
   "execution_count": null,
   "metadata": {},
   "outputs": [],
   "source": [
    "next(gold_ques_gen).print_along_with(next(pred_ques_gen))"
   ]
  },
  {
   "attachments": {},
   "cell_type": "markdown",
   "metadata": {},
   "source": [
    "- SPARQL syntax ✅\n",
    "- entity ❌\n",
    "- relation ❌\n",
    "- answer ❌\n",
    "\n",
    "Where: located in the administrative territorial entity (P131)\n",
    "\n",
    "out-of-scope: \n",
    "- Piccadilly (Q1124023)"
   ]
  },
  {
   "attachments": {},
   "cell_type": "markdown",
   "metadata": {},
   "source": [
    "## id: 165"
   ]
  },
  {
   "cell_type": "code",
   "execution_count": null,
   "metadata": {},
   "outputs": [],
   "source": [
    "next(gold_ques_gen).print_along_with(next(pred_ques_gen))"
   ]
  },
  {
   "attachments": {},
   "cell_type": "markdown",
   "metadata": {},
   "source": [
    "- SPARQL syntax ✅\n",
    "- entity ❌\n",
    "- relation ❌✅\n",
    "- answer ❌\n",
    "\n",
    "predicted query from training 266: \n",
    "\"Did Arnold Schwarzenegger attend a university?\",\n",
    "but change \"ASK\" to \"SELECT\""
   ]
  },
  {
   "attachments": {},
   "cell_type": "markdown",
   "metadata": {},
   "source": [
    "## id: 108"
   ]
  },
  {
   "cell_type": "code",
   "execution_count": null,
   "metadata": {},
   "outputs": [],
   "source": [
    "next(gold_ques_gen).print_along_with(next(pred_ques_gen))"
   ]
  },
  {
   "attachments": {},
   "cell_type": "markdown",
   "metadata": {},
   "source": [
    "- SPARQL syntax ✅\n",
    "- entity ❌\n",
    "- relation ❌\n",
    "- answer ❌\n",
    "\n",
    "predicted query from training 368: \n",
    "\"When did the Ming dynasty **dissolve**?\"\n",
    "\n",
    "out-of-scope: \n",
    "- Paraguay (Q733)"
   ]
  },
  {
   "attachments": {},
   "cell_type": "markdown",
   "metadata": {},
   "source": [
    "## id: 15"
   ]
  },
  {
   "cell_type": "code",
   "execution_count": null,
   "metadata": {},
   "outputs": [],
   "source": [
    "next(gold_ques_gen).print_along_with(next(pred_ques_gen))"
   ]
  },
  {
   "attachments": {},
   "cell_type": "markdown",
   "metadata": {},
   "source": [
    "- SPARQL syntax ❌\n",
    "- entity ❌\n",
    "- relation ❌\n",
    "- answer ❌\n",
    "\n",
    "out-of-scope: \n",
    "- National Basketball Association (Q155223)"
   ]
  },
  {
   "attachments": {},
   "cell_type": "markdown",
   "metadata": {},
   "source": [
    "## id: 45"
   ]
  },
  {
   "cell_type": "code",
   "execution_count": null,
   "metadata": {},
   "outputs": [],
   "source": [
    "next(gold_ques_gen).print_along_with(next(pred_ques_gen))"
   ]
  },
  {
   "attachments": {},
   "cell_type": "markdown",
   "metadata": {},
   "source": [
    "- SPARQL syntax ✅\n",
    "- entity ✅\n",
    "- relation ✅\n",
    "- answer ✅\n",
    "\n",
    "predicted query from training 7: \n",
    "\"Where did Abraham Lincoln die?\""
   ]
  },
  {
   "attachments": {},
   "cell_type": "markdown",
   "metadata": {},
   "source": [
    "## id: 82"
   ]
  },
  {
   "cell_type": "code",
   "execution_count": null,
   "metadata": {},
   "outputs": [],
   "source": [
    "next(gold_ques_gen).print_along_with(next(pred_ques_gen))"
   ]
  },
  {
   "attachments": {},
   "cell_type": "markdown",
   "metadata": {},
   "source": [
    "- SPARQL syntax ✅\n",
    "- entity ❌\n",
    "- relation ✅\n",
    "- answer ❌\n",
    "\n",
    "predicted query from training 92: \n",
    "\"When were the Hells Angels **founded**?\"\n",
    "\n",
    "out-of-scope: \n",
    "- Jack Wolfskin (Q536133)"
   ]
  },
  {
   "attachments": {},
   "cell_type": "markdown",
   "metadata": {},
   "source": [
    "## id: 9"
   ]
  },
  {
   "cell_type": "code",
   "execution_count": null,
   "metadata": {},
   "outputs": [],
   "source": [
    "next(gold_ques_gen).print_along_with(next(pred_ques_gen))"
   ]
  },
  {
   "attachments": {},
   "cell_type": "markdown",
   "metadata": {},
   "source": [
    "- SPARQL syntax ✅\n",
    "- entity ❌\n",
    "- relation ❌\n",
    "- answer ❌"
   ]
  },
  {
   "attachments": {},
   "cell_type": "markdown",
   "metadata": {},
   "source": [
    "## id: 201"
   ]
  },
  {
   "cell_type": "code",
   "execution_count": null,
   "metadata": {},
   "outputs": [],
   "source": [
    "next(gold_ques_gen).print_along_with(next(pred_ques_gen))"
   ]
  },
  {
   "attachments": {},
   "cell_type": "markdown",
   "metadata": {},
   "source": [
    "- SPARQL syntax ✅\n",
    "- entity ❌\n",
    "- relation ❌\n",
    "- answer ❌\n",
    "\n",
    "out-of-scope: \n",
    "- Plzeňský Prazdroj (Q948831)"
   ]
  },
  {
   "attachments": {},
   "cell_type": "markdown",
   "metadata": {},
   "source": [
    "## id: 171"
   ]
  },
  {
   "cell_type": "code",
   "execution_count": null,
   "metadata": {},
   "outputs": [],
   "source": [
    "next(gold_ques_gen).print_along_with(next(pred_ques_gen))"
   ]
  },
  {
   "attachments": {},
   "cell_type": "markdown",
   "metadata": {},
   "source": [
    "- SPARQL syntax ✅\n",
    "- entity ❌\n",
    "- relation ❌\n",
    "- answer ❌\n",
    "\n",
    "predicted query from training 356: \n",
    "\"When did Operation Overlord commence?\"\n",
    "\n",
    "out-of-scope: \n",
    "- Boston Tea Party (Q19024)"
   ]
  },
  {
   "attachments": {},
   "cell_type": "markdown",
   "metadata": {},
   "source": [
    "## id: 182"
   ]
  },
  {
   "cell_type": "code",
   "execution_count": null,
   "metadata": {},
   "outputs": [],
   "source": [
    "next(gold_ques_gen).print_along_with(next(pred_ques_gen))"
   ]
  },
  {
   "attachments": {},
   "cell_type": "markdown",
   "metadata": {},
   "source": [
    "- SPARQL syntax ✅\n",
    "- entity ❌\n",
    "- relation ❌\n",
    "- answer ❌\n",
    "\n",
    "predicted query from training 185: \n",
    "\"Give me all breeds of the German Shepherd dog.\"\n",
    "\n",
    "out-of-scope: \n",
    "- IUCN conservation status (P141)\n",
    "- Critically Endangered (Q219127)"
   ]
  },
  {
   "attachments": {},
   "cell_type": "markdown",
   "metadata": {},
   "source": [
    "## id: 13"
   ]
  },
  {
   "cell_type": "code",
   "execution_count": null,
   "metadata": {},
   "outputs": [],
   "source": [
    "next(gold_ques_gen).print_along_with(next(pred_ques_gen))"
   ]
  },
  {
   "attachments": {},
   "cell_type": "markdown",
   "metadata": {},
   "source": [
    "- SPARQL syntax ✅\n",
    "- entity ✅\n",
    "- relation ✅\n",
    "- answer ❌✅\n",
    "\n",
    "predicted query from training 17: \n",
    "\"Which monarchs were married to a German?\""
   ]
  },
  {
   "attachments": {},
   "cell_type": "markdown",
   "metadata": {},
   "source": [
    "## id: 114"
   ]
  },
  {
   "cell_type": "code",
   "execution_count": null,
   "metadata": {},
   "outputs": [],
   "source": [
    "next(gold_ques_gen).print_along_with(next(pred_ques_gen))"
   ]
  },
  {
   "attachments": {},
   "cell_type": "markdown",
   "metadata": {},
   "source": [
    "- SPARQL syntax ✅\n",
    "- entity ❌\n",
    "- relation ❌\n",
    "- answer ❌\n",
    "\n",
    "predicted query from training 156: \n",
    "\"How heavy is Jupiter's lightest moon?\"\n",
    "\n",
    "out-of-scope: \n",
    "- diameter (P2386)"
   ]
  },
  {
   "attachments": {},
   "cell_type": "markdown",
   "metadata": {},
   "source": [
    "## id: 92"
   ]
  },
  {
   "cell_type": "code",
   "execution_count": null,
   "metadata": {},
   "outputs": [],
   "source": [
    "next(gold_ques_gen).print_along_with(next(pred_ques_gen))"
   ]
  },
  {
   "attachments": {},
   "cell_type": "markdown",
   "metadata": {},
   "source": [
    "- SPARQL syntax ✅\n",
    "- entity ✅\n",
    "- relation ✅\n",
    "- answer ✅\n",
    "\n",
    "predicted query from training 227: \n",
    "\"Is the wife of president Obama called Michelle?\""
   ]
  },
  {
   "attachments": {},
   "cell_type": "markdown",
   "metadata": {},
   "source": [
    "## id: 194"
   ]
  },
  {
   "cell_type": "code",
   "execution_count": null,
   "metadata": {},
   "outputs": [],
   "source": [
    "next(gold_ques_gen).print_along_with(next(pred_ques_gen))"
   ]
  },
  {
   "attachments": {},
   "cell_type": "markdown",
   "metadata": {},
   "source": [
    "- SPARQL syntax ✅\n",
    "- entity ❌✅\n",
    "- relation ❌✅\n",
    "- answer ❌\n",
    "\n",
    "predicted query from training 172: \n",
    "\"In which **U.S. state** is Fort Knox located?\"\n",
    "\n",
    "out-of-scope: \n",
    "- short name (P1813)"
   ]
  },
  {
   "attachments": {},
   "cell_type": "markdown",
   "metadata": {},
   "source": [
    "## id: 175"
   ]
  },
  {
   "cell_type": "code",
   "execution_count": null,
   "metadata": {},
   "outputs": [],
   "source": [
    "next(gold_ques_gen).print_along_with(next(pred_ques_gen))"
   ]
  },
  {
   "attachments": {},
   "cell_type": "markdown",
   "metadata": {},
   "source": [
    "- SPARQL syntax ✅\n",
    "- entity ❌\n",
    "- relation ✅\n",
    "- answer ❌\n",
    "\n",
    "predicted query from training 239: \n",
    "\"When was the death of Shakespeare?\"\n",
    "\n",
    "out-of-scope: \n",
    "- Muhammad (Q9458)"
   ]
  },
  {
   "attachments": {},
   "cell_type": "markdown",
   "metadata": {},
   "source": [
    "## id: 60"
   ]
  },
  {
   "cell_type": "code",
   "execution_count": null,
   "metadata": {},
   "outputs": [],
   "source": [
    "next(gold_ques_gen).print_along_with(next(pred_ques_gen))"
   ]
  },
  {
   "attachments": {},
   "cell_type": "markdown",
   "metadata": {},
   "source": [
    "- SPARQL syntax ✅\n",
    "- entity ❌\n",
    "- relation ❌\n",
    "- answer ❌\n",
    "\n",
    "predicted query from training 66: \n",
    "\"**Who is the governor of** Wyoming?\"\n",
    "\n",
    "but relations are not the same\n",
    "\n",
    "out-of-scope: \n",
    "- Texas (Q1439)"
   ]
  },
  {
   "attachments": {},
   "cell_type": "markdown",
   "metadata": {},
   "source": [
    "## id: 110"
   ]
  },
  {
   "cell_type": "code",
   "execution_count": null,
   "metadata": {},
   "outputs": [],
   "source": [
    "next(gold_ques_gen).print_along_with(next(pred_ques_gen))"
   ]
  },
  {
   "attachments": {},
   "cell_type": "markdown",
   "metadata": {},
   "source": [
    "- SPARQL syntax ✅\n",
    "- entity ❌\n",
    "- relation ✅\n",
    "- answer ❌\n",
    "\n",
    "predicted query from training 282: \n",
    "\"Which films did Stanley Kubrick direct?\"\n",
    "\n",
    "out-of-scope: \n",
    "- Akira Kurosawa (Q8006)"
   ]
  },
  {
   "attachments": {},
   "cell_type": "markdown",
   "metadata": {},
   "source": [
    "## id: 206"
   ]
  },
  {
   "cell_type": "code",
   "execution_count": null,
   "metadata": {},
   "outputs": [],
   "source": [
    "next(gold_ques_gen).print_along_with(next(pred_ques_gen))"
   ]
  },
  {
   "attachments": {},
   "cell_type": "markdown",
   "metadata": {},
   "source": [
    "- SPARQL syntax ✅\n",
    "- entity ❌\n",
    "- relation ❌\n",
    "- answer ❌\n",
    "\n",
    "out-of-scope: \n",
    "- San Antonio (Q975)\n",
    "- battle (Q178561)"
   ]
  },
  {
   "attachments": {},
   "cell_type": "markdown",
   "metadata": {},
   "source": [
    "## id: 97"
   ]
  },
  {
   "cell_type": "code",
   "execution_count": null,
   "metadata": {},
   "outputs": [],
   "source": [
    "next(gold_ques_gen).print_along_with(next(pred_ques_gen))"
   ]
  },
  {
   "attachments": {},
   "cell_type": "markdown",
   "metadata": {},
   "source": [
    "- SPARQL syntax ✅\n",
    "- entity ✅\n",
    "- relation ❌\n",
    "- answer ❌\n",
    "\n",
    "predicted query from training 141: \n",
    "\"Give me the birthdays of all actors of the television show Charmed.\""
   ]
  },
  {
   "attachments": {},
   "cell_type": "markdown",
   "metadata": {},
   "source": [
    "## id: 169"
   ]
  },
  {
   "cell_type": "code",
   "execution_count": null,
   "metadata": {},
   "outputs": [],
   "source": [
    "next(gold_ques_gen).print_along_with(next(pred_ques_gen))"
   ]
  },
  {
   "attachments": {},
   "cell_type": "markdown",
   "metadata": {},
   "source": [
    "- SPARQL syntax ✅\n",
    "- entity ✅\n",
    "- relation ✅❌\n",
    "- answer ❌\n",
    "\n",
    "predicted query from training 113: \n",
    "\"Give me all libraries established earlier than 1400.\""
   ]
  },
  {
   "attachments": {},
   "cell_type": "markdown",
   "metadata": {},
   "source": [
    "## id: 38"
   ]
  },
  {
   "cell_type": "code",
   "execution_count": null,
   "metadata": {},
   "outputs": [],
   "source": [
    "next(gold_ques_gen).print_along_with(next(pred_ques_gen))"
   ]
  },
  {
   "attachments": {},
   "cell_type": "markdown",
   "metadata": {},
   "source": [
    "- SPARQL syntax ✅\n",
    "- entity ❌\n",
    "- relation ❌✅\n",
    "- answer ❌\n",
    "\n",
    "predicted query from training 143: \n",
    "\"Give me a list of all lakes in Denmark.\"\n",
    "\n",
    "out-of-scope: \n",
    "- Frisian Islands (Q76936)"
   ]
  },
  {
   "attachments": {},
   "cell_type": "markdown",
   "metadata": {},
   "source": [
    "## id: 192"
   ]
  },
  {
   "cell_type": "code",
   "execution_count": null,
   "metadata": {},
   "outputs": [],
   "source": [
    "next(gold_ques_gen).print_along_with(next(pred_ques_gen))"
   ]
  },
  {
   "attachments": {},
   "cell_type": "markdown",
   "metadata": {},
   "source": [
    "- SPARQL syntax ✅\n",
    "- entity ❌\n",
    "- relation ❌\n",
    "- answer ❌\n",
    "\n",
    "out-of-scope: \n",
    "- The Scream (Q471379)\n",
    "- art museum (Q207694)"
   ]
  },
  {
   "attachments": {},
   "cell_type": "markdown",
   "metadata": {},
   "source": [
    "## id: 78"
   ]
  },
  {
   "cell_type": "code",
   "execution_count": null,
   "metadata": {},
   "outputs": [],
   "source": [
    "next(gold_ques_gen).print_along_with(next(pred_ques_gen))"
   ]
  },
  {
   "attachments": {},
   "cell_type": "markdown",
   "metadata": {},
   "source": [
    "- SPARQL syntax ✅\n",
    "- entity ❌\n",
    "- relation ✅\n",
    "- answer ❌\n",
    "\n",
    "predicted query from training 92: \n",
    "\"When were the Hells Angels founded?\"\n",
    "\n",
    "out-of-scope: \n",
    "- De Beers (Q471891)"
   ]
  },
  {
   "attachments": {},
   "cell_type": "markdown",
   "metadata": {},
   "source": [
    "## id: 19"
   ]
  },
  {
   "cell_type": "code",
   "execution_count": null,
   "metadata": {},
   "outputs": [],
   "source": [
    "next(gold_ques_gen).print_along_with(next(pred_ques_gen))"
   ]
  },
  {
   "attachments": {},
   "cell_type": "markdown",
   "metadata": {},
   "source": [
    "- SPARQL syntax ✅\n",
    "- entity ✅\n",
    "- relation ❌\n",
    "- answer ❌\n",
    "\n",
    "predicted query from training 77: \n",
    "\"Where was JFK assassinated?\""
   ]
  },
  {
   "attachments": {},
   "cell_type": "markdown",
   "metadata": {},
   "source": [
    "## id: 190"
   ]
  },
  {
   "cell_type": "code",
   "execution_count": null,
   "metadata": {},
   "outputs": [],
   "source": [
    "next(gold_ques_gen).print_along_with(next(pred_ques_gen))"
   ]
  },
  {
   "attachments": {},
   "cell_type": "markdown",
   "metadata": {},
   "source": [
    "- SPARQL syntax ✅\n",
    "- entity ❌\n",
    "- relation ✅❌\n",
    "- answer ❌\n",
    "  \n",
    "out-of-scope: \n",
    "- Juan Carlos I of Spain (Q19943)\n"
   ]
  },
  {
   "attachments": {},
   "cell_type": "markdown",
   "metadata": {},
   "source": [
    "## id: 174"
   ]
  },
  {
   "cell_type": "code",
   "execution_count": null,
   "metadata": {},
   "outputs": [],
   "source": [
    "next(gold_ques_gen).print_along_with(next(pred_ques_gen))"
   ]
  },
  {
   "attachments": {},
   "cell_type": "markdown",
   "metadata": {},
   "source": [
    "- SPARQL syntax ✅\n",
    "- entity ❌\n",
    "- relation ❌\n",
    "- answer ❌\n",
    "\n",
    "predicted query from training 238: \n",
    "\"Who is the author of the interpretation of dreams?\"\n",
    "\n",
    "out-of-scope: \n",
    "- A Song of Ice and Fire (Q45875)"
   ]
  },
  {
   "attachments": {},
   "cell_type": "markdown",
   "metadata": {},
   "source": [
    "## id: 189"
   ]
  },
  {
   "cell_type": "code",
   "execution_count": null,
   "metadata": {},
   "outputs": [],
   "source": [
    "next(gold_ques_gen).print_along_with(next(pred_ques_gen))"
   ]
  },
  {
   "attachments": {},
   "cell_type": "markdown",
   "metadata": {},
   "source": [
    "- SPARQL syntax ✅\n",
    "- entity ❌\n",
    "- relation ❌❌✅❌\n",
    "- answer ❌\n",
    "\n",
    "predicted query from training 130: \n",
    "\"For which label did Elvis record his **first album**?\"\n",
    "\n",
    "out-of-scope: \n",
    "- The Beatles (Q1299)\n",
    "- recorded at studio or venue (P483)"
   ]
  },
  {
   "attachments": {},
   "cell_type": "markdown",
   "metadata": {},
   "source": [
    "## id: 152"
   ]
  },
  {
   "cell_type": "code",
   "execution_count": null,
   "metadata": {},
   "outputs": [],
   "source": [
    "next(gold_ques_gen).print_along_with(next(pred_ques_gen))"
   ]
  },
  {
   "attachments": {},
   "cell_type": "markdown",
   "metadata": {},
   "source": [
    "- SPARQL syntax ✅\n",
    "- entity ✅❌\n",
    "- relation ✅❌\n",
    "- answer ❌\n",
    "\n",
    "predicted query from training 181: \n",
    "\"Show me all the breweries in Australia.\""
   ]
  },
  {
   "attachments": {},
   "cell_type": "markdown",
   "metadata": {},
   "source": [
    "## id: 94"
   ]
  },
  {
   "cell_type": "code",
   "execution_count": null,
   "metadata": {},
   "outputs": [],
   "source": [
    "next(gold_ques_gen).print_along_with(next(pred_ques_gen))"
   ]
  },
  {
   "attachments": {},
   "cell_type": "markdown",
   "metadata": {},
   "source": [
    "- SPARQL syntax ✅\n",
    "- entity ❌\n",
    "- relation ✅\n",
    "- answer ❌\n",
    "\n",
    "predicted query from training 239: \n",
    "\"When was the death of Shakespeare?\"\n",
    "\n",
    "out-of-scope: \n",
    "- Diana, Princess of Wales (Q9685)"
   ]
  },
  {
   "attachments": {},
   "cell_type": "markdown",
   "metadata": {},
   "source": [
    "## id: 8"
   ]
  },
  {
   "cell_type": "code",
   "execution_count": null,
   "metadata": {},
   "outputs": [],
   "source": [
    "next(gold_ques_gen).print_along_with(next(pred_ques_gen))"
   ]
  },
  {
   "attachments": {},
   "cell_type": "markdown",
   "metadata": {},
   "source": [
    "- SPARQL syntax ✅\n",
    "- entity ❌\n",
    "- relation ❌\n",
    "- answer ❌\n",
    "\n",
    "predicted query from training 37: \n",
    "\"Who developed Minecraft?\"\n",
    "\n",
    "out-of-scope: \n",
    "- Intel (Q248)"
   ]
  },
  {
   "attachments": {},
   "cell_type": "markdown",
   "metadata": {},
   "source": [
    "## id: 95"
   ]
  },
  {
   "cell_type": "code",
   "execution_count": null,
   "metadata": {},
   "outputs": [],
   "source": [
    "next(gold_ques_gen).print_along_with(next(pred_ques_gen))"
   ]
  },
  {
   "attachments": {},
   "cell_type": "markdown",
   "metadata": {},
   "source": [
    "- SPARQL syntax ❌\n",
    "- entity ❌\n",
    "- relation ❌\n",
    "- answer ❌"
   ]
  },
  {
   "attachments": {},
   "cell_type": "markdown",
   "metadata": {},
   "source": [
    "## id: 119"
   ]
  },
  {
   "cell_type": "code",
   "execution_count": null,
   "metadata": {},
   "outputs": [],
   "source": [
    "next(gold_ques_gen).print_along_with(next(pred_ques_gen))"
   ]
  },
  {
   "attachments": {},
   "cell_type": "markdown",
   "metadata": {},
   "source": [
    "- SPARQL syntax ✅\n",
    "- entity ✅\n",
    "- relation ✅\n",
    "- answer ✅\n",
    "\n",
    "predicted query from training 126: \n",
    "\"Which instruments does Cat Stevens play?\""
   ]
  },
  {
   "attachments": {},
   "cell_type": "markdown",
   "metadata": {},
   "source": [
    "## id: 115"
   ]
  },
  {
   "cell_type": "code",
   "execution_count": null,
   "metadata": {},
   "outputs": [],
   "source": [
    "next(gold_ques_gen).print_along_with(next(pred_ques_gen))"
   ]
  },
  {
   "attachments": {},
   "cell_type": "markdown",
   "metadata": {},
   "source": [
    "- SPARQL syntax ✅\n",
    "- entity ❌\n",
    "- relation ❌\n",
    "- answer ❌\n",
    "\n",
    "predicted query from training 57: \n",
    "\"Which rivers flow into a German lake?\" (modified)\n",
    "\n",
    "out-of-scope: \n",
    "- South Carolina (Q1456)\n",
    "\n",
    "understand \"how many\" as \"COUNT\"✅"
   ]
  },
  {
   "attachments": {},
   "cell_type": "markdown",
   "metadata": {},
   "source": [
    "## id: 116"
   ]
  },
  {
   "cell_type": "code",
   "execution_count": null,
   "metadata": {},
   "outputs": [],
   "source": [
    "next(gold_ques_gen).print_along_with(next(pred_ques_gen))"
   ]
  },
  {
   "attachments": {},
   "cell_type": "markdown",
   "metadata": {},
   "source": [
    "- SPARQL syntax ✅\n",
    "- entity ❌\n",
    "- relation ❌\n",
    "- answer ❌\n",
    "\n",
    "out-of-scope: \n",
    "- skos:altLabel"
   ]
  },
  {
   "attachments": {},
   "cell_type": "markdown",
   "metadata": {},
   "source": [
    "## id: 138"
   ]
  },
  {
   "cell_type": "code",
   "execution_count": null,
   "metadata": {},
   "outputs": [],
   "source": [
    "next(gold_ques_gen).print_along_with(next(pred_ques_gen))"
   ]
  },
  {
   "attachments": {},
   "cell_type": "markdown",
   "metadata": {},
   "source": [
    "- SPARQL syntax ✅\n",
    "- entity ✅❌\n",
    "- relation ✅❌❌\n",
    "- answer ❌\n",
    "\n",
    "out-of-scope: \n",
    "- Africa (Q15)"
   ]
  },
  {
   "attachments": {},
   "cell_type": "markdown",
   "metadata": {},
   "source": [
    "## id: 177"
   ]
  },
  {
   "cell_type": "code",
   "execution_count": null,
   "metadata": {},
   "outputs": [],
   "source": [
    "next(gold_ques_gen).print_along_with(next(pred_ques_gen))"
   ]
  },
  {
   "attachments": {},
   "cell_type": "markdown",
   "metadata": {},
   "source": [
    "- SPARQL syntax ✅\n",
    "- entity ❌\n",
    "- relation ❌\n",
    "- answer ❌\n",
    "\n",
    "predicted query from training 48: \n",
    "\"Which bridges cross the Seine?\"\n",
    "\n",
    "out-of-scope: \n",
    "- Manhattan Bridge (Q125050)"
   ]
  },
  {
   "attachments": {},
   "cell_type": "markdown",
   "metadata": {},
   "source": [
    "## id: 101"
   ]
  },
  {
   "cell_type": "code",
   "execution_count": null,
   "metadata": {},
   "outputs": [],
   "source": [
    "next(gold_ques_gen).print_along_with(next(pred_ques_gen))"
   ]
  },
  {
   "attachments": {},
   "cell_type": "markdown",
   "metadata": {},
   "source": [
    "- SPARQL syntax ✅\n",
    "- entity ❌\n",
    "- relation ❌\n",
    "- answer ❌\n",
    "\n",
    "predicted query from training 85: \n",
    "\"How many employees does Google have?\"\n",
    "\n",
    "out-of-scope: \n",
    "- Mark Zuckerberg (Q36215)\n",
    "- company (Q783794)"
   ]
  },
  {
   "attachments": {},
   "cell_type": "markdown",
   "metadata": {},
   "source": [
    "## id: 87"
   ]
  },
  {
   "cell_type": "code",
   "execution_count": null,
   "metadata": {},
   "outputs": [],
   "source": [
    "next(gold_ques_gen).print_along_with(next(pred_ques_gen))"
   ]
  },
  {
   "attachments": {},
   "cell_type": "markdown",
   "metadata": {},
   "source": [
    "- SPARQL syntax ❌\n",
    "- entity ✅\n",
    "- relation ❌\n",
    "- answer ❌\n",
    "\n",
    "predicted query from training 163: \n",
    "\"Which poet wrote the **most** books?\"\n",
    "\n",
    "out-of-scope: \n",
    "- number of pages (P1104)"
   ]
  },
  {
   "attachments": {},
   "cell_type": "markdown",
   "metadata": {},
   "source": [
    "## id: 148"
   ]
  },
  {
   "cell_type": "code",
   "execution_count": null,
   "metadata": {},
   "outputs": [],
   "source": [
    "next(gold_ques_gen).print_along_with(next(pred_ques_gen))"
   ]
  },
  {
   "attachments": {},
   "cell_type": "markdown",
   "metadata": {},
   "source": [
    "- SPARQL syntax ✅\n",
    "- entity ❌\n",
    "- relation ❌\n",
    "- answer ❌\n",
    "\n",
    "predicted query from training 189: \n",
    "\"What is the largest city in america?\""
   ]
  },
  {
   "attachments": {},
   "cell_type": "markdown",
   "metadata": {},
   "source": [
    "## id: 43"
   ]
  },
  {
   "cell_type": "code",
   "execution_count": null,
   "metadata": {},
   "outputs": [],
   "source": [
    "next(gold_ques_gen).print_along_with(next(pred_ques_gen))"
   ]
  },
  {
   "attachments": {},
   "cell_type": "markdown",
   "metadata": {},
   "source": [
    "- SPARQL syntax ✅\n",
    "- entity ✅\n",
    "- relation ✅❌\n",
    "- answer ❌\n",
    "\n",
    "predicted query from training 62: \n",
    "\"Which companies have more than 1 million employees?\""
   ]
  },
  {
   "attachments": {},
   "cell_type": "markdown",
   "metadata": {},
   "source": [
    "## id: 179"
   ]
  },
  {
   "cell_type": "code",
   "execution_count": null,
   "metadata": {},
   "outputs": [],
   "source": [
    "next(gold_ques_gen).print_along_with(next(pred_ques_gen))"
   ]
  },
  {
   "attachments": {},
   "cell_type": "markdown",
   "metadata": {},
   "source": [
    "- SPARQL syntax ✅\n",
    "- entity ❌\n",
    "- relation ❌\n",
    "- answer ❌\n",
    "\n",
    "predicted query from training 23: \n",
    "\"Which spaceflights were launched from Baikonur?\"\n",
    "\n",
    "out-of-scope: \n",
    "- ship (Q11446)\n",
    "- participant (P710)\n",
    "- Christopher Columbus (Q7322)"
   ]
  },
  {
   "attachments": {},
   "cell_type": "markdown",
   "metadata": {},
   "source": [
    "# Summary"
   ]
  },
  {
   "attachments": {},
   "cell_type": "markdown",
   "metadata": {},
   "source": [
    "## Out-of-Scope questions\n",
    "\n",
    "99, 98, 84, 81, 66, \n",
    "64, 56, 49, 44, 42, \n",
    "4, 29, 68, 22, 214, \n",
    "210, 199, 203, 196, 187,\n",
    "176, 62, 173, 168, 166,\n",
    "160, 157, 150, 143, 140,\n",
    "139, 136, 132, 128, 124,\n",
    "111, 117, 59, 104, 10,\n",
    "1, 178, 129, 181, 7,\n",
    "135, 50, 71, 213, 105,\n",
    "102, 145, 162, 212, 96,\n",
    "40, 80, 159, 107, 163,\n",
    "51, 144, 131, 120, 164,\n",
    "63, 27, 207, 24, 133,\n",
    "103, 108, 15, 82, 201,\n",
    "171, 182, 114, 194, 175,\n",
    "60, 110, 206, 38, 192,\n",
    "78, 190, 174, 189, 115,\n",
    "116, 138, 177, 101, 87, 179"
   ]
  },
  {
   "attachments": {},
   "cell_type": "markdown",
   "metadata": {},
   "source": [
    "## In-Scope questions\n",
    "\n",
    "86, 32, 31, 197, 188,\n",
    "149, 25, 137, 122, 113,\n",
    "183, 209, 21, 154, 198,\n",
    "211, 156, 165, 9, 13, \n",
    "97, 19, 152, 94, 8,\n",
    "95, 148, 43\n"
   ]
  },
  {
   "attachments": {},
   "cell_type": "markdown",
   "metadata": {},
   "source": [
    "## In training set\n",
    "\n",
    "158, 39, 52, 141, 151,\n",
    "45, 92, 169, 119"
   ]
  },
  {
   "attachments": {},
   "cell_type": "markdown",
   "metadata": {},
   "source": [
    "## issues\n",
    "\n",
    "- Some SPARQL learned from training set\n",
    "- most of predicted SPARQL are more or less related to the question, even the predicted answer is direct from training set\n",
    "- loss the ability of generalization \n",
    "- Some questions in test set also appear in training set, but with different SPARQL\n",
    "- fine-tuned model can write SPARQL, but most of them does not give any answer\n",
    "- since the training data are non-preprocessed SPARQL, some prefixes are too long\n",
    "- hard to generate SPARQL with \"http://www.wikidata.org...\""
   ]
  },
  {
   "attachments": {},
   "cell_type": "markdown",
   "metadata": {},
   "source": [
    "## improvements\n",
    "\n",
    "- preprocess SPARQL\n",
    "- less training steps\n",
    "- pretrain on lc-quad to gain more entities and relations"
   ]
  }
 ],
 "metadata": {
  "kernelspec": {
   "display_name": "mengshi",
   "language": "python",
   "name": "python3"
  },
  "language_info": {
   "codemirror_mode": {
    "name": "ipython",
    "version": 3
   },
   "file_extension": ".py",
   "mimetype": "text/x-python",
   "name": "python",
   "nbconvert_exporter": "python",
   "pygments_lexer": "ipython3",
   "version": "3.10.10"
  },
  "orig_nbformat": 4
 },
 "nbformat": 4,
 "nbformat_minor": 2
}
