{
 "cells": [
  {
   "cell_type": "markdown",
   "metadata": {},
   "source": [
    "### Notebook to load the model for inference"
   ]
  },
  {
   "cell_type": "code",
   "execution_count": 1,
   "metadata": {},
   "outputs": [
    {
     "name": "stdout",
     "output_type": "stream",
     "text": [
      "Setting ds_accelerator to cuda (auto detect)\n"
     ]
    }
   ],
   "source": [
    "# import the libraries\n",
    "import sys\n",
    "sys.path.append('../code/')\n",
    "\n",
    "from components.Summarizer import Summarizer\n",
    "from components.Question import Question\n",
    "from components.Knowledge_graph import Knowledge_graph\n",
    "from components.Language import Language\n",
    "from components.Query import Query"
   ]
  },
  {
   "cell_type": "code",
   "execution_count": 2,
   "metadata": {},
   "outputs": [],
   "source": [
    "# path to model\n",
    "model_path = \"../fine-tuned_models/qald9plus-finetune\"\n",
    "# input data attributes for model\n",
    "# KG to use\n",
    "knowledge_graph=\"Wikidata\"\n",
    "# to extract & utilize linguistic information or not\n",
    "linguistic_context = True\n",
    "# to extract & utilize entity knowledge or not\n",
    "entity_knowledge = True\n",
    "# Padding length for the question\n",
    "question_padding_length = 32\n",
    "# Padding length for the entity\n",
    "entity_padding_length = 5"
   ]
  },
  {
   "cell_type": "code",
   "execution_count": 3,
   "metadata": {},
   "outputs": [
    {
     "data": {
      "application/vnd.jupyter.widget-view+json": {
       "model_id": "8a9d0e27a0f7450c8df2a9fd14288b64",
       "version_major": 2,
       "version_minor": 0
      },
      "text/plain": [
       "Loading checkpoint shards:   0%|          | 0/2 [00:00<?, ?it/s]"
      ]
     },
     "metadata": {},
     "output_type": "display_data"
    }
   ],
   "source": [
    "\n",
    "# Initialize the model\n",
    "sparql_model = Summarizer(model_path)\n"
   ]
  },
  {
   "cell_type": "code",
   "execution_count": 5,
   "metadata": {},
   "outputs": [],
   "source": [
    "kg = Knowledge_graph[knowledge_graph]\n",
    "\n",
    "def get_wikidata_entities(question: Question):\n",
    "        ner = Language.get_supported_ner(question.language)\n",
    "        if ner == \"no_ner\":\n",
    "            entity_knowledge = []\n",
    "        else:\n",
    "            entity_knowledge = question.recognize_entities(ner, \"mgenre_el\")\n",
    "        return entity_knowledge\n",
    "\n",
    "def get_dbpedia_entities(question: Question):\n",
    "        return question.recognize_entities(\"babelscape_ner\" ,\"mag_el\")\n",
    "\n",
    "# Function to prepare input\n",
    "def prep_input(input_str, lang, linguistic_context, entity_knowledge, question_padding_length, entity_padding_length, kg):\n",
    "    lang = Language(lang)\n",
    "    question = Question(input_str, lang)\n",
    "    question_string = question.question_string\n",
    "    if linguistic_context:\n",
    "        question_string = question.get_question_string_with_lingtuistic_context(question_padding_length)\n",
    "    if entity_padding_length:\n",
    "        if kg==Knowledge_graph.Wikidata:\n",
    "            entity_knowledge = get_wikidata_entities(question)\n",
    "        elif kg==Knowledge_graph.DBpedia:\n",
    "            entity_knowledge = get_dbpedia_entities(question)\n",
    "    question_string = question.add_entity_knowledge(question_string, entity_knowledge, entity_padding_length)\n",
    "    return question_string\n"
   ]
  },
  {
   "cell_type": "code",
   "execution_count": 6,
   "metadata": {},
   "outputs": [
    {
     "name": "stdout",
     "output_type": "stream",
     "text": [
      "What is the time zone of Salt Lake City? <pad> <pad> <pad> <pad> <pad> <pad> <pad> <pad> <pad> <pad> <pad> <pad> <pad> <pad> <pad> <pad> <pad> <pad> <pad> <pad> <pad> <pad> <pad> PRON AUX DET NOUN NOUN ADP PROPN PROPN PROPN PUNCT <pad> <pad> <pad> <pad> <pad> <pad> <pad> <pad> <pad> <pad> <pad> <pad> <pad> <pad> <pad> <pad> <pad> <pad> <pad> <pad> <pad> <pad> attr ROOT det compound nsubj prep compound compound pobj punct <pad> <pad> <pad> <pad> <pad> <pad> <pad> <pad> <pad> <pad> <pad> <pad> <pad> <pad> <pad> <pad> <pad> <pad> <pad> <pad> <pad> <pad> 2 1 3 3 2 3 6 5 4 2 <pad> <pad> <pad> <pad> <pad> <pad> <pad> <pad> <pad> <pad> <pad> <pad> <pad> <pad> <pad> <pad> <pad> <pad> <pad> <pad> <pad> <pad> wd_Q23337 <pad> <pad> <pad> <pad>\n"
     ]
    }
   ],
   "source": [
    "lang = \"en\"\n",
    "question_str = \"What is the time zone of Salt Lake City?\"\n",
    "processed_question_string = prep_input(question_str, lang, linguistic_context, entity_knowledge, question_padding_length, entity_padding_length, kg)\n",
    "print(processed_question_string)"
   ]
  },
  {
   "cell_type": "code",
   "execution_count": 7,
   "metadata": {},
   "outputs": [
    {
     "name": "stdout",
     "output_type": "stream",
     "text": [
      "SELECT DISTINCT  ?uri WHERE  {  wd:Q23337 wdt:P421  ?uri  }  \n"
     ]
    }
   ],
   "source": [
    "\n",
    "pred_sparql = sparql_model.predict_sparql(processed_question_string)\n",
    "query = Query(pred_sparql, kg)\n",
    "print(query.sparql)"
   ]
  }
 ],
 "metadata": {
  "kernelspec": {
   "display_name": "mengshi_thesis_exp9",
   "language": "python",
   "name": "python3"
  },
  "language_info": {
   "codemirror_mode": {
    "name": "ipython",
    "version": 3
   },
   "file_extension": ".py",
   "mimetype": "text/x-python",
   "name": "python",
   "nbconvert_exporter": "python",
   "pygments_lexer": "ipython3",
   "version": "3.9.17"
  },
  "orig_nbformat": 4
 },
 "nbformat": 4,
 "nbformat_minor": 2
}
