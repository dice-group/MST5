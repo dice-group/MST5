{
 "cells": [
  {
   "cell_type": "markdown",
   "metadata": {},
   "source": [
    "### Notebook to load the model for inference"
   ]
  },
  {
   "cell_type": "code",
   "execution_count": null,
   "metadata": {},
   "outputs": [],
   "source": [
    "# import the libraries\n",
    "import sys\n",
    "sys.path.append('../code/')\n",
    "\n",
    "from components.Text_Generator import Text_Generator\n",
    "from components.Question import Question\n",
    "from components.Knowledge_graph import Knowledge_graph\n",
    "from components.Language import Language\n",
    "from components.Query import Query\n",
    "\n",
    "from transformers import T5Tokenizer"
   ]
  },
  {
   "cell_type": "code",
   "execution_count": null,
   "metadata": {},
   "outputs": [],
   "source": [
    "# path to model\n",
    "model_path = \"../fine-tuned_models/qald9plus-finetune_lcquad2-ft-base_lc-ent\"\n",
    "# input data attributes for model\n",
    "# KG to use\n",
    "knowledge_graph=\"Wikidata\"\n",
    "# to extract & utilize linguistic information or not\n",
    "linguistic_context = True\n",
    "# to extract & utilize entity knowledge or not\n",
    "entity_knowledge = True\n",
    "# Padding length for the question\n",
    "question_padding_length = 128\n",
    "# Padding length for the entity\n",
    "entity_padding_length = 64"
   ]
  },
  {
   "cell_type": "code",
   "execution_count": null,
   "metadata": {},
   "outputs": [],
   "source": [
    "\n",
    "Question.lm_tokenizer = T5Tokenizer.from_pretrained('google/mt5-xl', legacy=False)\n",
    "Question.lm_tokenizer.add_tokens([\"<start-of-pos-tags>\", \"<start-of-dependency-relation>\", \"<start-of-dependency-tree-depth>\", \"<start-of-entity-info>\"])\n",
    "# Initialize the model\n",
    "sparql_model = Text_Generator(model_path)\n"
   ]
  },
  {
   "cell_type": "code",
   "execution_count": null,
   "metadata": {},
   "outputs": [],
   "source": [
    "kg = Knowledge_graph[knowledge_graph]\n",
    "\n",
    "def get_wikidata_entities(question: Question):\n",
    "        ner = Language.get_supported_ner(question.language)\n",
    "        if ner == \"no_ner\":\n",
    "            entity_knowledge = []\n",
    "        else:\n",
    "            entity_knowledge = question.recognize_entities(ner, \"mgenre_el\")\n",
    "        return entity_knowledge\n",
    "\n",
    "def get_dbpedia_entities(question: Question):\n",
    "        return question.recognize_entities(\"babelscape_ner\" ,\"mag_el\")\n",
    "\n",
    "# Function to prepare input\n",
    "def prep_input(input_str, lang, linguistic_context, entity_knowledge, question_padding_length, entity_padding_length, kg):\n",
    "    lang = Language(lang)\n",
    "    question = Question(input_str, lang)\n",
    "    question_string = question.question_string\n",
    "    if linguistic_context:\n",
    "        question_string = question.get_question_string_with_lingtuistic_context(question_padding_length)\n",
    "    if entity_padding_length:\n",
    "        if kg==Knowledge_graph.Wikidata:\n",
    "            entity_knowledge = get_wikidata_entities(question)\n",
    "        elif kg==Knowledge_graph.DBpedia:\n",
    "            entity_knowledge = get_dbpedia_entities(question)\n",
    "    question_string = question.add_entity_knowledge(question_string, entity_knowledge, entity_padding_length)\n",
    "    return question_string\n"
   ]
  },
  {
   "cell_type": "code",
   "execution_count": null,
   "metadata": {},
   "outputs": [],
   "source": [
    "lang = \"en\"\n",
    "question_str = \"Give me the grandchildren of Bruce Lee\"\n",
    "processed_question_string = prep_input(question_str, lang, linguistic_context, entity_knowledge, question_padding_length, entity_padding_length, kg)\n",
    "print(processed_question_string)"
   ]
  },
  {
   "cell_type": "code",
   "execution_count": null,
   "metadata": {},
   "outputs": [],
   "source": [
    "\n",
    "pred_sparql = sparql_model.predict_sparql(processed_question_string)\n",
    "query = Query(pred_sparql, kg)\n",
    "print(query.sparql)"
   ]
  }
 ],
 "metadata": {
  "kernelspec": {
   "display_name": "mst5-venv",
   "language": "python",
   "name": "mst5-venv"
  },
  "language_info": {
   "codemirror_mode": {
    "name": "ipython",
    "version": 3
   },
   "file_extension": ".py",
   "mimetype": "text/x-python",
   "name": "python",
   "nbconvert_exporter": "python",
   "pygments_lexer": "ipython3",
   "version": "3.11.2"
  },
  "orig_nbformat": 4
 },
 "nbformat": 4,
 "nbformat_minor": 2
}
